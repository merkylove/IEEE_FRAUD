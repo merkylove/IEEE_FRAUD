{
 "cells": [
  {
   "cell_type": "code",
   "execution_count": 1,
   "metadata": {},
   "outputs": [],
   "source": [
    "import pandas as pd\n",
    "import numpy as np\n",
    "import lightgbm as lgb\n",
    "import catboost as cbt\n",
    "import datetime\n",
    "\n",
    "from sklearn.preprocessing import LabelEncoder\n",
    "%matplotlib inline\n",
    "import matplotlib.pyplot as plt\n",
    "import seaborn as sns\n",
    "import warnings\n",
    "warnings.simplefilter(action='ignore', category=FutureWarning)"
   ]
  },
  {
   "cell_type": "raw",
   "metadata": {},
   "source": [
    "train_identity = pd.read_csv(f'{folder_path}train_identity.csv')\n",
    "train_transaction = pd.read_csv(f'{folder_path}train_transaction.csv')\n",
    "test_identity = pd.read_csv(f'{folder_path}test_identity.csv')\n",
    "test_transaction = pd.read_csv(f'{folder_path}test_transaction.csv')\n",
    "sub = pd.read_csv(f'{folder_path}sample_submission.csv')\n",
    "# let's combine the data and work with the whole dataset\n",
    "train = pd.merge(train_transaction, train_identity, on='TransactionID', how='left')\n",
    "test = pd.merge(test_transaction, test_identity, on='TransactionID', how='left')\n",
    "\n",
    "\n",
    "train['user'] = train['card1'].astype(str) + roman_df['subcard_categorical'][:N_TRAIN_EXAMPLES].astype(str)\n",
    "test['user'] = test['card1'].astype(str) + roman_df['subcard_categorical'][N_TRAIN_EXAMPLES:].astype(str)\n",
    "inter_cards = set(train['user']).intersection(set(test['user']))\n",
    "mean_fraud = train[train['user'].isin(inter_cards)].groupby('user')['isFraud'].agg(['mean', 'count'])\n",
    "max_fraud = mean_fraud[mean_fraud['mean'] == 1]\n",
    "mask = test['user'].isin(max_fraud.index)\n",
    "top_sub[mask]['isFraud'] = 0.9999"
   ]
  },
  {
   "cell_type": "code",
   "execution_count": 2,
   "metadata": {},
   "outputs": [],
   "source": [
    "identity_cols = !head -1 data/train_identity.csv\n",
    "identity_cols = identity_cols[0].split(',')"
   ]
  },
  {
   "cell_type": "code",
   "execution_count": 3,
   "metadata": {},
   "outputs": [
    {
     "name": "stdout",
     "output_type": "stream",
     "text": [
      "CPU times: user 2.06 s, sys: 3.38 s, total: 5.44 s\n",
      "Wall time: 5.38 s\n"
     ]
    }
   ],
   "source": [
    "%%time\n",
    "folder_path = 'data/'\n",
    "train = pd.read_pickle(f'{folder_path}train.pkl')\n",
    "test = pd.read_pickle(f'{folder_path}test.pkl')"
   ]
  },
  {
   "cell_type": "code",
   "execution_count": 4,
   "metadata": {},
   "outputs": [],
   "source": [
    "N_TRAIN_EXAMPLES = 590540"
   ]
  },
  {
   "cell_type": "code",
   "execution_count": 5,
   "metadata": {},
   "outputs": [],
   "source": [
    "N_TRAIN_EXAMPLES = len(train)"
   ]
  },
  {
   "cell_type": "code",
   "execution_count": 6,
   "metadata": {},
   "outputs": [],
   "source": [
    "tr_am = pd.read_csv(f'{folder_path}train_transaction.csv', usecols=['TransactionAmt'], dtype=str)\n",
    "te_am = pd.read_csv(f'{folder_path}test_transaction.csv', usecols=['TransactionAmt'], dtype=str)\n",
    "train[['dollars', 'cents']] = tr_am.TransactionAmt.str.split('.', expand=True).astype(int)\n",
    "test[['dollars', 'cents']] = te_am.TransactionAmt.str.split('.', expand=True).astype(int)"
   ]
  },
  {
   "cell_type": "code",
   "execution_count": 7,
   "metadata": {},
   "outputs": [],
   "source": [
    "roman_df = pd.read_pickle('all_new_ids_roman_features.pkl')"
   ]
  },
  {
   "cell_type": "code",
   "execution_count": 8,
   "metadata": {
    "scrolled": false
   },
   "outputs": [],
   "source": [
    "roman_feature_names = set(roman_df.columns)"
   ]
  },
  {
   "cell_type": "code",
   "execution_count": 9,
   "metadata": {},
   "outputs": [],
   "source": [
    "MODEL_FEATURES = set(test.columns) - set(['TransactionDT', 'TransactionID'])"
   ]
  },
  {
   "cell_type": "code",
   "execution_count": 10,
   "metadata": {},
   "outputs": [],
   "source": [
    "basic_features = set(test.columns) - set(['TransactionDT', 'TransactionID'])"
   ]
  },
  {
   "cell_type": "code",
   "execution_count": 11,
   "metadata": {},
   "outputs": [],
   "source": [
    "CATEGORICAL_FEATURES =  set(['id_12', 'id_13', 'id_14', 'id_15', 'id_16', 'id_17', 'id_18', 'id_19',\n",
    "            'id_20', 'id_21', 'id_22', 'id_23', 'id_24', 'id_25', 'id_26', 'id_27', 'id_28', 'id_29',\n",
    "            'id_30', 'id_31', 'id_32', 'id_33', 'id_34', 'id_35', 'id_36', 'id_37',\n",
    "            'id_38', 'DeviceType', 'DeviceInfo', 'ProductCD', 'card4', 'card6', 'M4','P_emaildomain',\n",
    "            'R_emaildomain', 'card1', 'card2', 'card3',  'card5', 'addr1', 'addr2', \n",
    "            'M1', 'M2', 'M3', 'M5', 'M6', 'M7', 'M8', 'M9'])"
   ]
  },
  {
   "cell_type": "markdown",
   "metadata": {},
   "source": [
    "Говорят, что неплохо бы дропнуть те карты, которые не встречается или в трейне, или в тесте"
   ]
  },
  {
   "cell_type": "code",
   "execution_count": 12,
   "metadata": {},
   "outputs": [
    {
     "name": "stdout",
     "output_type": "stream",
     "text": [
      "No intersection in Train 10396\n",
      "Intersection in Train 580144\n",
      "####################\n",
      "No intersection in Train card2 5012\n",
      "Intersection in Train card2 585528\n",
      "####################\n",
      "No intersection in Train card3 47\n",
      "Intersection in Train card3 590493\n",
      "####################\n",
      "No intersection in Train card4 0\n",
      "Intersection in Train card4 590540\n",
      "####################\n",
      "No intersection in Train card5 7279\n",
      "Intersection in Train card5 583261\n",
      "####################\n",
      "No intersection in Train card6 30\n",
      "Intersection in Train card6 590510\n",
      "####################\n"
     ]
    }
   ],
   "source": [
    "for col in ['card1']: \n",
    "\n",
    "    print('No intersection in Train', len(train[~train[col].isin(test[col])]))\n",
    "    print('Intersection in Train', len(train[train[col].isin(test[col])]))\n",
    "    \n",
    "    train[col] = np.where(train[col].isin(test[col]), train[col], np.nan)\n",
    "    test[col]  = np.where(test[col].isin(train[col]), test[col], np.nan)\n",
    "    print('#'*20)\n",
    "\n",
    "for col in ['card2','card3','card4','card5','card6',]: \n",
    "    print('No intersection in Train', col, len(train[~train[col].isin(test[col])]))\n",
    "    print('Intersection in Train', col, len(train[train[col].isin(test[col])]))\n",
    "    \n",
    "    train[col] = np.where(train[col].isin(test[col]), train[col], np.nan)\n",
    "    test[col]  = np.where(test[col].isin(train[col]), test[col], np.nan)\n",
    "    print('#'*20)"
   ]
  },
  {
   "cell_type": "code",
   "execution_count": 13,
   "metadata": {},
   "outputs": [],
   "source": [
    "roman_df.reset_index(inplace=True)"
   ]
  },
  {
   "cell_type": "code",
   "execution_count": 14,
   "metadata": {},
   "outputs": [
    {
     "data": {
      "text/html": [
       "<div>\n",
       "<style scoped>\n",
       "    .dataframe tbody tr th:only-of-type {\n",
       "        vertical-align: middle;\n",
       "    }\n",
       "\n",
       "    .dataframe tbody tr th {\n",
       "        vertical-align: top;\n",
       "    }\n",
       "\n",
       "    .dataframe thead th {\n",
       "        text-align: right;\n",
       "    }\n",
       "</style>\n",
       "<table border=\"1\" class=\"dataframe\">\n",
       "  <thead>\n",
       "    <tr style=\"text-align: right;\">\n",
       "      <th></th>\n",
       "      <th>TransactionDT_to_datetime</th>\n",
       "      <th>is_holiday</th>\n",
       "      <th>card1_mean_time_between_transactions</th>\n",
       "      <th>card1_median_time_between_transactions</th>\n",
       "      <th>time_from_prev_transaction_by_card1_ratio_to_mean</th>\n",
       "      <th>time_from_prev_transaction_by_card1_ratio_to_median</th>\n",
       "      <th>time_to_next_transaction_by_card1_ratio_to_mean</th>\n",
       "      <th>time_to_next_transaction_by_card1_ratio_to_median</th>\n",
       "      <th>card1_subcard_categorical_mean_time_between_transactions</th>\n",
       "      <th>card1_subcard_categorical_median_time_between_transactions</th>\n",
       "      <th>...</th>\n",
       "      <th>smoothed_encoded_addr1_on_R_emaildomain_nunique</th>\n",
       "      <th>smoothed_encoded_addr1_on_ProductCD_nunique</th>\n",
       "      <th>smoothed_encoded_R_emaildomain_on_P_emaildomain_nunique</th>\n",
       "      <th>smoothed_encoded_P_emaildomain_on_R_emaildomain_nunique</th>\n",
       "      <th>smoothed_encoded_card2_on_card1_nunique</th>\n",
       "      <th>smoothed_encoded_card4_on_card1_nunique</th>\n",
       "      <th>smoothed_encoded_card6_on_card1_nunique</th>\n",
       "      <th>smoothed_encoded_card2_card3_on_card1_nunique</th>\n",
       "      <th>smoothed_encoded_addr1_on_card1_nunique</th>\n",
       "      <th>smoothed_encoded_card1_TransactionDT_split_TransactionDT_dayOfMonth_TransactionDT_hour_on_TransactionAmt_sum</th>\n",
       "    </tr>\n",
       "  </thead>\n",
       "  <tbody>\n",
       "    <tr>\n",
       "      <td>0</td>\n",
       "      <td>2017-12-01 00:00:00</td>\n",
       "      <td>0</td>\n",
       "      <td>5.149471e+05</td>\n",
       "      <td>166474.0</td>\n",
       "      <td>NaN</td>\n",
       "      <td>NaN</td>\n",
       "      <td>1.598232</td>\n",
       "      <td>4.943745</td>\n",
       "      <td>NaN</td>\n",
       "      <td>NaN</td>\n",
       "      <td>...</td>\n",
       "      <td>33.0</td>\n",
       "      <td>4.0</td>\n",
       "      <td>NaN</td>\n",
       "      <td>NaN</td>\n",
       "      <td>NaN</td>\n",
       "      <td>21.0</td>\n",
       "      <td>7214.0</td>\n",
       "      <td>NaN</td>\n",
       "      <td>1750.0</td>\n",
       "      <td>68.50</td>\n",
       "    </tr>\n",
       "    <tr>\n",
       "      <td>1</td>\n",
       "      <td>2017-12-01 00:00:01</td>\n",
       "      <td>0</td>\n",
       "      <td>2.355974e+04</td>\n",
       "      <td>10762.5</td>\n",
       "      <td>NaN</td>\n",
       "      <td>NaN</td>\n",
       "      <td>0.635406</td>\n",
       "      <td>1.390941</td>\n",
       "      <td>24632.333333</td>\n",
       "      <td>11055.0</td>\n",
       "      <td>...</td>\n",
       "      <td>39.0</td>\n",
       "      <td>5.0</td>\n",
       "      <td>NaN</td>\n",
       "      <td>54.0</td>\n",
       "      <td>21.0</td>\n",
       "      <td>5750.0</td>\n",
       "      <td>7214.0</td>\n",
       "      <td>19.0</td>\n",
       "      <td>2205.0</td>\n",
       "      <td>29.00</td>\n",
       "    </tr>\n",
       "    <tr>\n",
       "      <td>2</td>\n",
       "      <td>2017-12-01 00:01:09</td>\n",
       "      <td>0</td>\n",
       "      <td>1.756653e+04</td>\n",
       "      <td>7360.5</td>\n",
       "      <td>NaN</td>\n",
       "      <td>NaN</td>\n",
       "      <td>0.014573</td>\n",
       "      <td>0.034780</td>\n",
       "      <td>431538.489362</td>\n",
       "      <td>352854.0</td>\n",
       "      <td>...</td>\n",
       "      <td>41.0</td>\n",
       "      <td>5.0</td>\n",
       "      <td>NaN</td>\n",
       "      <td>20.0</td>\n",
       "      <td>125.0</td>\n",
       "      <td>9705.0</td>\n",
       "      <td>9994.0</td>\n",
       "      <td>125.0</td>\n",
       "      <td>1886.0</td>\n",
       "      <td>106.95</td>\n",
       "    </tr>\n",
       "    <tr>\n",
       "      <td>3</td>\n",
       "      <td>2017-12-01 00:01:39</td>\n",
       "      <td>0</td>\n",
       "      <td>4.128710e+03</td>\n",
       "      <td>1905.0</td>\n",
       "      <td>NaN</td>\n",
       "      <td>NaN</td>\n",
       "      <td>0.266911</td>\n",
       "      <td>0.578478</td>\n",
       "      <td>151054.022727</td>\n",
       "      <td>19812.0</td>\n",
       "      <td>...</td>\n",
       "      <td>34.0</td>\n",
       "      <td>4.0</td>\n",
       "      <td>NaN</td>\n",
       "      <td>43.0</td>\n",
       "      <td>34.0</td>\n",
       "      <td>5750.0</td>\n",
       "      <td>9994.0</td>\n",
       "      <td>34.0</td>\n",
       "      <td>1018.0</td>\n",
       "      <td>286.95</td>\n",
       "    </tr>\n",
       "    <tr>\n",
       "      <td>4</td>\n",
       "      <td>2017-12-01 00:01:46</td>\n",
       "      <td>0</td>\n",
       "      <td>1.008091e+06</td>\n",
       "      <td>690866.0</td>\n",
       "      <td>NaN</td>\n",
       "      <td>NaN</td>\n",
       "      <td>1.335791</td>\n",
       "      <td>1.949145</td>\n",
       "      <td>NaN</td>\n",
       "      <td>NaN</td>\n",
       "      <td>...</td>\n",
       "      <td>25.0</td>\n",
       "      <td>4.0</td>\n",
       "      <td>NaN</td>\n",
       "      <td>54.0</td>\n",
       "      <td>117.0</td>\n",
       "      <td>5750.0</td>\n",
       "      <td>7214.0</td>\n",
       "      <td>116.0</td>\n",
       "      <td>642.0</td>\n",
       "      <td>50.00</td>\n",
       "    </tr>\n",
       "  </tbody>\n",
       "</table>\n",
       "<p>5 rows × 401 columns</p>\n",
       "</div>"
      ],
      "text/plain": [
       "  TransactionDT_to_datetime  is_holiday  card1_mean_time_between_transactions  \\\n",
       "0       2017-12-01 00:00:00           0                          5.149471e+05   \n",
       "1       2017-12-01 00:00:01           0                          2.355974e+04   \n",
       "2       2017-12-01 00:01:09           0                          1.756653e+04   \n",
       "3       2017-12-01 00:01:39           0                          4.128710e+03   \n",
       "4       2017-12-01 00:01:46           0                          1.008091e+06   \n",
       "\n",
       "   card1_median_time_between_transactions  \\\n",
       "0                                166474.0   \n",
       "1                                 10762.5   \n",
       "2                                  7360.5   \n",
       "3                                  1905.0   \n",
       "4                                690866.0   \n",
       "\n",
       "   time_from_prev_transaction_by_card1_ratio_to_mean  \\\n",
       "0                                                NaN   \n",
       "1                                                NaN   \n",
       "2                                                NaN   \n",
       "3                                                NaN   \n",
       "4                                                NaN   \n",
       "\n",
       "   time_from_prev_transaction_by_card1_ratio_to_median  \\\n",
       "0                                                NaN     \n",
       "1                                                NaN     \n",
       "2                                                NaN     \n",
       "3                                                NaN     \n",
       "4                                                NaN     \n",
       "\n",
       "   time_to_next_transaction_by_card1_ratio_to_mean  \\\n",
       "0                                         1.598232   \n",
       "1                                         0.635406   \n",
       "2                                         0.014573   \n",
       "3                                         0.266911   \n",
       "4                                         1.335791   \n",
       "\n",
       "   time_to_next_transaction_by_card1_ratio_to_median  \\\n",
       "0                                           4.943745   \n",
       "1                                           1.390941   \n",
       "2                                           0.034780   \n",
       "3                                           0.578478   \n",
       "4                                           1.949145   \n",
       "\n",
       "   card1_subcard_categorical_mean_time_between_transactions  \\\n",
       "0                                                NaN          \n",
       "1                                       24632.333333          \n",
       "2                                      431538.489362          \n",
       "3                                      151054.022727          \n",
       "4                                                NaN          \n",
       "\n",
       "   card1_subcard_categorical_median_time_between_transactions  ...  \\\n",
       "0                                                NaN           ...   \n",
       "1                                            11055.0           ...   \n",
       "2                                           352854.0           ...   \n",
       "3                                            19812.0           ...   \n",
       "4                                                NaN           ...   \n",
       "\n",
       "   smoothed_encoded_addr1_on_R_emaildomain_nunique  \\\n",
       "0                                             33.0   \n",
       "1                                             39.0   \n",
       "2                                             41.0   \n",
       "3                                             34.0   \n",
       "4                                             25.0   \n",
       "\n",
       "   smoothed_encoded_addr1_on_ProductCD_nunique  \\\n",
       "0                                          4.0   \n",
       "1                                          5.0   \n",
       "2                                          5.0   \n",
       "3                                          4.0   \n",
       "4                                          4.0   \n",
       "\n",
       "   smoothed_encoded_R_emaildomain_on_P_emaildomain_nunique  \\\n",
       "0                                                NaN         \n",
       "1                                                NaN         \n",
       "2                                                NaN         \n",
       "3                                                NaN         \n",
       "4                                                NaN         \n",
       "\n",
       "   smoothed_encoded_P_emaildomain_on_R_emaildomain_nunique  \\\n",
       "0                                                NaN         \n",
       "1                                               54.0         \n",
       "2                                               20.0         \n",
       "3                                               43.0         \n",
       "4                                               54.0         \n",
       "\n",
       "   smoothed_encoded_card2_on_card1_nunique  \\\n",
       "0                                      NaN   \n",
       "1                                     21.0   \n",
       "2                                    125.0   \n",
       "3                                     34.0   \n",
       "4                                    117.0   \n",
       "\n",
       "   smoothed_encoded_card4_on_card1_nunique  \\\n",
       "0                                     21.0   \n",
       "1                                   5750.0   \n",
       "2                                   9705.0   \n",
       "3                                   5750.0   \n",
       "4                                   5750.0   \n",
       "\n",
       "   smoothed_encoded_card6_on_card1_nunique  \\\n",
       "0                                   7214.0   \n",
       "1                                   7214.0   \n",
       "2                                   9994.0   \n",
       "3                                   9994.0   \n",
       "4                                   7214.0   \n",
       "\n",
       "   smoothed_encoded_card2_card3_on_card1_nunique  \\\n",
       "0                                            NaN   \n",
       "1                                           19.0   \n",
       "2                                          125.0   \n",
       "3                                           34.0   \n",
       "4                                          116.0   \n",
       "\n",
       "   smoothed_encoded_addr1_on_card1_nunique  \\\n",
       "0                                   1750.0   \n",
       "1                                   2205.0   \n",
       "2                                   1886.0   \n",
       "3                                   1018.0   \n",
       "4                                    642.0   \n",
       "\n",
       "   smoothed_encoded_card1_TransactionDT_split_TransactionDT_dayOfMonth_TransactionDT_hour_on_TransactionAmt_sum  \n",
       "0                                              68.50                                                             \n",
       "1                                              29.00                                                             \n",
       "2                                             106.95                                                             \n",
       "3                                             286.95                                                             \n",
       "4                                              50.00                                                             \n",
       "\n",
       "[5 rows x 401 columns]"
      ]
     },
     "execution_count": 14,
     "metadata": {},
     "output_type": "execute_result"
    }
   ],
   "source": [
    "roman_df.head()"
   ]
  },
  {
   "cell_type": "code",
   "execution_count": 15,
   "metadata": {},
   "outputs": [],
   "source": [
    "all_df = pd.concat([train, test])\n",
    "all_df.reset_index(inplace=True, drop=True)\n",
    "all_df = pd.concat([all_df, roman_df], axis=1)"
   ]
  },
  {
   "cell_type": "markdown",
   "metadata": {},
   "source": [
    "# Фичи по датам"
   ]
  },
  {
   "cell_type": "code",
   "execution_count": 16,
   "metadata": {},
   "outputs": [],
   "source": [
    "START_DATE = datetime.datetime.strptime('2017-11-30', '%Y-%m-%d')\n",
    "all_df['DT'] = all_df['TransactionDT'].apply(lambda x: (START_DATE + datetime.timedelta(seconds = x)))"
   ]
  },
  {
   "cell_type": "code",
   "execution_count": 17,
   "metadata": {},
   "outputs": [],
   "source": [
    "del train, test, roman_df"
   ]
  },
  {
   "cell_type": "code",
   "execution_count": 18,
   "metadata": {},
   "outputs": [],
   "source": [
    "import gc"
   ]
  },
  {
   "cell_type": "code",
   "execution_count": 19,
   "metadata": {},
   "outputs": [
    {
     "data": {
      "text/plain": [
       "80"
      ]
     },
     "execution_count": 19,
     "metadata": {},
     "output_type": "execute_result"
    }
   ],
   "source": [
    "gc.collect()"
   ]
  },
  {
   "cell_type": "code",
   "execution_count": 20,
   "metadata": {},
   "outputs": [],
   "source": [
    "def datetime_features(all_df):\n",
    "    all_df['DT'] = all_df['TransactionDT'].apply(lambda x: (START_DATE + datetime.timedelta(seconds = x)))\n",
    "    all_df['dayofweek'] = all_df['DT'].dt.dayofweek\n",
    "    all_df['dayofmonth'] = all_df['DT'].dt.day\n",
    "    all_df['hour'] = all_df['DT'].dt.hour\n",
    "    all_df['weekofmonth'] = (all_df['DT'].dt.day - 1) // 7 + 1\n",
    "    new_features = ['dayofweek', 'dayofmonth', 'hour', 'weekofmonth']\n",
    "    return new_features, new_features"
   ]
  },
  {
   "cell_type": "code",
   "execution_count": 21,
   "metadata": {},
   "outputs": [
    {
     "name": "stdout",
     "output_type": "stream",
     "text": [
      "CPU times: user 1.44 s, sys: 45.6 ms, total: 1.49 s\n",
      "Wall time: 1.49 s\n"
     ]
    }
   ],
   "source": [
    "%%time\n",
    "a, c = datetime_features(all_df)\n",
    "MODEL_FEATURES.update(a)\n",
    "CATEGORICAL_FEATURES.update(c)"
   ]
  },
  {
   "cell_type": "code",
   "execution_count": 22,
   "metadata": {},
   "outputs": [],
   "source": [
    "all_df['DT_split'] = (all_df['DT'].dt.year - 2017) * 12 + all_df['DT'].dt.month\n",
    "N_TRAIN = sum(all_df['DT_split'] < 17)"
   ]
  },
  {
   "cell_type": "code",
   "execution_count": 23,
   "metadata": {},
   "outputs": [],
   "source": [
    "all_df['day'] = ((all_df['DT'].dt.year-2017)*365 + all_df['DT'].dt.dayofyear).astype(np.int16)\n",
    "all_df['hour_day'] = all_df['DT'].dt.hour + 24 * (all_df['day'] - 335)"
   ]
  },
  {
   "cell_type": "markdown",
   "metadata": {},
   "source": [
    "# D-features"
   ]
  },
  {
   "cell_type": "code",
   "execution_count": 24,
   "metadata": {},
   "outputs": [],
   "source": [
    "d_cols = [col for col in all_df.columns if col.startswith('D') and not col[-1:].isalpha() and col != 'D9']"
   ]
  },
  {
   "cell_type": "code",
   "execution_count": 25,
   "metadata": {},
   "outputs": [
    {
     "data": {
      "text/plain": [
       "['D1',\n",
       " 'D10',\n",
       " 'D11',\n",
       " 'D12',\n",
       " 'D13',\n",
       " 'D14',\n",
       " 'D15',\n",
       " 'D2',\n",
       " 'D3',\n",
       " 'D4',\n",
       " 'D5',\n",
       " 'D6',\n",
       " 'D7',\n",
       " 'D8']"
      ]
     },
     "execution_count": 25,
     "metadata": {},
     "output_type": "execute_result"
    }
   ],
   "source": [
    "d_cols"
   ]
  },
  {
   "cell_type": "code",
   "execution_count": 26,
   "metadata": {},
   "outputs": [],
   "source": [
    "d_cols_notnull = [d + '_notnull' for d in d_cols + ['D9']]\n",
    "all_df[d_cols_notnull] = all_df[d_cols + ['D9']].notnull()"
   ]
  },
  {
   "cell_type": "code",
   "execution_count": 27,
   "metadata": {},
   "outputs": [],
   "source": [
    "# Lets transform D8 and D9 column\n",
    "# As we almost sure it has connection with hours\n",
    "all_df['D8_not_same_day'] = np.where(all_df['D8']>=1,1,0)\n",
    "all_df['D8_D9_decimal_dist'] = all_df['D8'].fillna(0)-all_df['D8'].fillna(0).astype(int)\n",
    "all_df['D8_D9_decimal_dist'] = ((all_df['D8_D9_decimal_dist']-all_df['D9'])**2)**0.5\n",
    "all_df['D8'] = all_df['D8'].fillna(-1).astype(int)"
   ]
  },
  {
   "cell_type": "code",
   "execution_count": 28,
   "metadata": {},
   "outputs": [],
   "source": [
    "MODEL_FEATURES.update(['D8_not_same_day', 'D8_D9_decimal_dist', 'D8_D9_decimal_dist'])"
   ]
  },
  {
   "cell_type": "code",
   "execution_count": 29,
   "metadata": {},
   "outputs": [],
   "source": [
    "def values_normalization(all_df, period, col, clip=True, minmax=True):\n",
    "        new_col = col + '_' + period\n",
    "        df = all_df[[col, period]].copy()\n",
    "        df[col] = df[col].astype(float)\n",
    "        if clip:\n",
    "            df[col] = df[col].clip(0) \n",
    "\n",
    "        aggs = df.groupby([period])[col].agg(['min', 'max', 'std', 'mean'])\n",
    "        \n",
    "        agg_max = aggs['max'].to_dict()\n",
    "        agg_min = aggs['min'].to_dict()\n",
    "        agg_std = aggs['std'].to_dict()\n",
    "        agg_mean = aggs['mean'].to_dict()\n",
    "\n",
    "        all_df['temp_min'] = all_df[period].map(agg_max)\n",
    "        all_df['temp_max'] = all_df[period].map(agg_min)\n",
    "        all_df['temp_std'] = all_df[period].map(agg_std)\n",
    "        all_df['temp_mean'] = all_df[period].map(agg_mean)\n",
    "        \n",
    "\n",
    "        all_df[new_col + '_min_max'] = ((all_df[col] - all_df['temp_min']) /\\\n",
    "                (all_df['temp_max'] - all_df['temp_min'])).astype(float)\n",
    "        \n",
    "        all_df[new_col + '_std_score'] = (all_df[col] - all_df['temp_mean']) / (all_df['temp_std'])\n",
    "\n",
    "        del all_df['temp_min'], all_df['temp_max'], all_df['temp_std'], all_df['temp_mean']"
   ]
  },
  {
   "cell_type": "code",
   "execution_count": 30,
   "metadata": {},
   "outputs": [
    {
     "name": "stdout",
     "output_type": "stream",
     "text": [
      "CPU times: user 38.8 s, sys: 1min 8s, total: 1min 47s\n",
      "Wall time: 1min 47s\n"
     ]
    }
   ],
   "source": [
    "%%time\n",
    "for period in ['day']:\n",
    "    for col in d_cols:\n",
    "        values_normalization(all_df, period, col, minmax=True)"
   ]
  },
  {
   "cell_type": "code",
   "execution_count": 31,
   "metadata": {},
   "outputs": [],
   "source": [
    "for col in ['D1','D2']:\n",
    "    all_df[col + '_scaled'] = all_df[col] / all_df[:N_TRAIN_EXAMPLES][col].max()"
   ]
  },
  {
   "cell_type": "code",
   "execution_count": 32,
   "metadata": {},
   "outputs": [],
   "source": [
    "MODEL_FEATURES.update(['D1_scaled', 'D2_scaled'])"
   ]
  },
  {
   "cell_type": "markdown",
   "metadata": {},
   "source": [
    "# Device info"
   ]
  },
  {
   "cell_type": "code",
   "execution_count": 33,
   "metadata": {},
   "outputs": [],
   "source": [
    "all_df['DeviceInfo'].fillna('', inplace=True)\n",
    "all_df['id_30'].fillna('', inplace=True)\n",
    "all_df['id_31'].fillna('', inplace=True)"
   ]
  },
  {
   "cell_type": "code",
   "execution_count": 34,
   "metadata": {},
   "outputs": [],
   "source": [
    "def add_device_features(all_df):\n",
    "    all_df['DeviceInfoMajor'] = all_df['DeviceInfo'].str.split(' ', expand=True)[0]\n",
    "    all_df['DeviceInfoTop'] = all_df['DeviceInfo'].str.split('-', expand=True)[0]\n",
    "    all_df['DeviceInfoIsRV'] = all_df['DeviceInfoMajor'].apply(lambda x: 'rv' in x)\n",
    "    return ['DeviceInfoMajor', 'DeviceInfoTop', 'DeviceInfoIsRV'], ['DeviceInfoMajor', 'DeviceInfoTop']"
   ]
  },
  {
   "cell_type": "code",
   "execution_count": 35,
   "metadata": {},
   "outputs": [
    {
     "name": "stdout",
     "output_type": "stream",
     "text": [
      "CPU times: user 4.45 s, sys: 86.3 ms, total: 4.54 s\n",
      "Wall time: 4.54 s\n"
     ]
    }
   ],
   "source": [
    "%%time\n",
    "a, c = add_device_features(all_df)\n",
    "MODEL_FEATURES.update(a)\n",
    "CATEGORICAL_FEATURES.update(c)"
   ]
  },
  {
   "cell_type": "code",
   "execution_count": 36,
   "metadata": {},
   "outputs": [],
   "source": [
    "def split_version(version):\n",
    "    n_sep_a = version.count('.')\n",
    "    n_sep_b = version.count('_')\n",
    "    if n_sep_a > 0:\n",
    "        return version.split('.')[0]\n",
    "    elif n_sep_b > 0:\n",
    "        return version.split('_')[0]\n",
    "    else:\n",
    "        return version\n",
    "\n",
    "def split_os(os):\n",
    "    spl = os.split(' ')\n",
    "    if len(spl) > 1:\n",
    "        os_name = ' '.join(spl[:-1])\n",
    "        major_version = split_version(spl[-1])\n",
    "        return os_name, ' '.join([os_name, major_version])\n",
    "    else:\n",
    "        return os, ''\n",
    "# TODO: add minor"
   ]
  },
  {
   "cell_type": "code",
   "execution_count": 37,
   "metadata": {},
   "outputs": [],
   "source": [
    "def add_os_features(all_df):\n",
    "    os, version = zip(*all_df['id_30'].apply(lambda x: split_os(x)).values)\n",
    "    all_df['OSName'] = os\n",
    "    all_df['OSMajorVersion'] = version\n",
    "    return ['OSName', 'OSMajorVersion'], ['OSName', 'OSMajorVersion']"
   ]
  },
  {
   "cell_type": "code",
   "execution_count": 38,
   "metadata": {},
   "outputs": [
    {
     "name": "stdout",
     "output_type": "stream",
     "text": [
      "CPU times: user 1.62 s, sys: 48 ms, total: 1.67 s\n",
      "Wall time: 1.67 s\n"
     ]
    }
   ],
   "source": [
    "%%time\n",
    "a, c = add_os_features(all_df)\n",
    "MODEL_FEATURES.update(a)\n",
    "CATEGORICAL_FEATURES.update(c)"
   ]
  },
  {
   "cell_type": "code",
   "execution_count": 39,
   "metadata": {},
   "outputs": [],
   "source": [
    "# SHAME ON ME\n",
    "def get_browser(browser):\n",
    "    if 'safari' in browser:\n",
    "        return 'safari'\n",
    "    \n",
    "    if 'chrome' in browser:\n",
    "        return 'chrome'\n",
    "    \n",
    "    if browser.startswith('ie'):\n",
    "        return 'internetexplorer'\n",
    "    \n",
    "    if 'edge' in browser:\n",
    "        return 'edge'\n",
    "    \n",
    "    if 'firefox' in browser.lower():\n",
    "        return 'firefox'\n",
    "    \n",
    "    if 'samsung' in browser.lower():\n",
    "        return 'samsung'\n",
    "    \n",
    "    if 'google' in browser:\n",
    "        return 'google'\n",
    "    \n",
    "    if 'opera' in browser:\n",
    "        return 'opera'\n",
    "    \n",
    "    if 'android' in browser.lower():\n",
    "        return 'android'\n",
    "    \n",
    "    return browser\n",
    "\n",
    "def is_mobile(browser):\n",
    "    br = browser.lower()\n",
    "    if 'mobile' in br or 'for android' in br:\n",
    "        return True\n",
    "    else:\n",
    "        return False\n"
   ]
  },
  {
   "cell_type": "code",
   "execution_count": 40,
   "metadata": {},
   "outputs": [],
   "source": [
    "def get_browser_features(all_df):\n",
    "    all_df['Browser'] = all_df['id_31'].apply(lambda x: get_browser(x))\n",
    "    all_df['IsMobile'] = all_df['id_31'].apply(lambda x: is_mobile(x))\n",
    "    #all_df['VersionNum'] = all_df['id_31'].fillna('0').\\\n",
    "    #    apply(lambda x: ''.join([i for i in x if i.isnumeric()]))\n",
    "    #all_df['BrowserVersion'] = all_df['Browser'] + ' ' + all_df['VersionNum'].astype('str')\n",
    "    \n",
    "    return ['Browser', 'IsMobile'],  ['Browser', 'IsMobile']"
   ]
  },
  {
   "cell_type": "code",
   "execution_count": 41,
   "metadata": {},
   "outputs": [
    {
     "name": "stdout",
     "output_type": "stream",
     "text": [
      "CPU times: user 839 ms, sys: 3.03 ms, total: 842 ms\n",
      "Wall time: 842 ms\n"
     ]
    }
   ],
   "source": [
    "%%time\n",
    "a, c = get_browser_features(all_df)\n",
    "MODEL_FEATURES.update(a)\n",
    "CATEGORICAL_FEATURES.update(c)"
   ]
  },
  {
   "cell_type": "code",
   "execution_count": 42,
   "metadata": {},
   "outputs": [
    {
     "data": {
      "text/plain": [
       "(1097231, 899)"
      ]
     },
     "execution_count": 42,
     "metadata": {},
     "output_type": "execute_result"
    }
   ],
   "source": [
    "all_df.shape"
   ]
  },
  {
   "cell_type": "markdown",
   "metadata": {},
   "source": [
    "# Some with M"
   ]
  },
  {
   "cell_type": "code",
   "execution_count": 43,
   "metadata": {},
   "outputs": [],
   "source": [
    "########################### M columns (except M4)\n",
    "# All these columns are binary encoded 1/0\n",
    "# We can have some features from it\n",
    "i_cols = ['M1','M2','M3','M5','M6','M7','M8','M9']\n",
    "\n",
    "all_df['M_sum'] = all_df[i_cols].sum(axis=1).astype(np.int8)\n",
    "all_df['M_na'] = all_df[i_cols].isna().sum(axis=1).astype(np.int8)\n",
    "\n",
    "MODEL_FEATURES.update(['M_sum', 'M_na'])"
   ]
  },
  {
   "cell_type": "code",
   "execution_count": null,
   "metadata": {},
   "outputs": [],
   "source": []
  },
  {
   "cell_type": "markdown",
   "metadata": {},
   "source": [
    "# NaN count"
   ]
  },
  {
   "cell_type": "code",
   "execution_count": 44,
   "metadata": {},
   "outputs": [],
   "source": [
    "all_df['notnull_count'] = all_df[basic_features].notnull().sum(axis=1)"
   ]
  },
  {
   "cell_type": "code",
   "execution_count": 45,
   "metadata": {},
   "outputs": [],
   "source": [
    "MODEL_FEATURES.add('notnull_count')"
   ]
  },
  {
   "cell_type": "markdown",
   "metadata": {},
   "source": [
    "# UID"
   ]
  },
  {
   "cell_type": "code",
   "execution_count": 46,
   "metadata": {},
   "outputs": [],
   "source": [
    "cols_for_uid = ['card1', 'card2', 'card3', 'card5', 'addr1', 'addr2']"
   ]
  },
  {
   "cell_type": "code",
   "execution_count": 47,
   "metadata": {},
   "outputs": [],
   "source": [
    "all_df[cols_for_uid] = all_df[cols_for_uid].astype(str)"
   ]
  },
  {
   "cell_type": "code",
   "execution_count": 113,
   "metadata": {},
   "outputs": [],
   "source": [
    "def extract_registration_date(df):\n",
    "    tr_dt = 'TransactionDT'\n",
    "\n",
    "    df[f'{tr_dt}_to_datetime'] = df[tr_dt].apply(\n",
    "        lambda x: START_DATE + datetime.timedelta(seconds=x)\n",
    "    )\n",
    "\n",
    "    df['card_registered_delta_tmp'] = pd.to_timedelta(df['D1'], unit='day')\n",
    "    df['subcard_reg_date'] = (\n",
    "            df['TransactionDT_to_datetime'] - df['card_registered_delta_tmp']\n",
    "    )\n",
    "    df['subcard_reg_timestamp'] = df['subcard_reg_date']\\\n",
    "        .dt\\\n",
    "        .date\\\n",
    "        .apply(\n",
    "        lambda x: (\n",
    "                x - datetime.date(1970, 1, 1)\n",
    "        ).total_seconds()\n",
    "    )\n",
    "    df['subcard_categorical'] = df['subcard_reg_date']\\\n",
    "        .dt\\\n",
    "        .date\\\n",
    "        .astype(str)\n",
    "    \n",
    "    df['card_registered_delta_tmp'] = pd.to_timedelta(df['D4'], unit='day')\n",
    "    df['subcard_reg_date'] = (\n",
    "            df['TransactionDT_to_datetime'] - df['card_registered_delta_tmp']\n",
    "    )\n",
    "    df['subcard_reg_timestamp'] = df['subcard_reg_date']\\\n",
    "        .dt\\\n",
    "        .date\\\n",
    "        .apply(\n",
    "        lambda x: (\n",
    "                x - datetime.date(1970, 1, 1)\n",
    "        ).total_seconds()\n",
    "    )\n",
    "    df['subcard_categorical_D4'] = df['subcard_reg_date']\\\n",
    "        .dt\\\n",
    "        .date\\\n",
    "        .astype(str)\n",
    "\n",
    "    df.drop(\n",
    "        labels=[\n",
    "            'card_registered_delta_tmp',\n",
    "            'subcard_reg_date'\n",
    "        ],\n",
    "        axis=1,\n",
    "        inplace=True\n",
    "    )\n",
    "\n",
    "    return df"
   ]
  },
  {
   "cell_type": "code",
   "execution_count": 114,
   "metadata": {},
   "outputs": [],
   "source": [
    "all_df = extract_registration_date(all_df)"
   ]
  },
  {
   "cell_type": "code",
   "execution_count": 50,
   "metadata": {},
   "outputs": [],
   "source": [
    "all_df['subcard_categorical_full'] = all_df['card1'] + '_' + all_df['subcard_categorical'].astype('str')\n",
    "all_df['subcard_categorical_D4_fill'] = all_df['card1'] + '_' + all_df['subcard_categorical_D4'].astype('str')"
   ]
  },
  {
   "cell_type": "code",
   "execution_count": 51,
   "metadata": {},
   "outputs": [],
   "source": [
    "subcard_id_cols = ['addr1', 'DeviceInfo', 'P_emaildomain', 'ProductCD',\n",
    "                   'id_20', 'id_19', 'card4', 'subcard_categorical_D4']"
   ]
  },
  {
   "cell_type": "code",
   "execution_count": 52,
   "metadata": {},
   "outputs": [],
   "source": [
    "subcard_ids = []\n",
    "for coll in subcard_id_cols:\n",
    "    if not isinstance(coll, str):\n",
    "        col = '_'.join(coll)\n",
    "        all_df['subcard_' + col] = all_df['subcard_categorical_full'].astype(str) + '_' +\\\n",
    "            all_df[list(coll)].astype(str).apply(lambda x: '_'.join(x), axis=1)\n",
    "    else:\n",
    "        col = coll\n",
    "        all_df['subcard_' + col] = all_df['subcard_categorical_full'].astype(str) + '_' +\\\n",
    "            all_df[coll].astype(str)\n",
    "    \n",
    "    subcard_ids.append('subcard_' + col)"
   ]
  },
  {
   "cell_type": "code",
   "execution_count": 88,
   "metadata": {},
   "outputs": [],
   "source": [
    "MODEL_FEATURES.update(['subcard_categorical', 'subcard_categorical_full', 'subcard_categorical_D4_fill'])\n",
    "CATEGORICAL_FEATURES.update(['subcard_categorical', 'subcard_categorical_full', 'subcard_categorical_D4_fill'])"
   ]
  },
  {
   "cell_type": "code",
   "execution_count": 54,
   "metadata": {},
   "outputs": [],
   "source": [
    "MODEL_FEATURES.update(subcard_ids)\n",
    "CATEGORICAL_FEATURES.update(subcard_ids)"
   ]
  },
  {
   "cell_type": "code",
   "execution_count": 55,
   "metadata": {},
   "outputs": [],
   "source": [
    "all_df['uid1'] = all_df['card1'] + '_' + all_df['card2']\n",
    "\n",
    "all_df['uid2'] = all_df['uid1'] + '_' + all_df['card3'] + '_' + all_df['card5']\n",
    "\n",
    "all_df['uid3'] = all_df['uid2'] + '_' + all_df['addr1'] + '_' + all_df['addr2']\n",
    "\n",
    "all_df['uid4'] = all_df['uid3'] + '_' + all_df['P_emaildomain']\n",
    "\n",
    "all_df['uid5'] = all_df['uid3'] + '_' + all_df['R_emaildomain']\n"
   ]
  },
  {
   "cell_type": "code",
   "execution_count": 56,
   "metadata": {},
   "outputs": [],
   "source": [
    "uids = [f'uid{i}' for i in range(1, 6)] + ['subcard_categorical_full'] + subcard_ids"
   ]
  },
  {
   "cell_type": "code",
   "execution_count": 57,
   "metadata": {},
   "outputs": [
    {
     "data": {
      "text/plain": [
       "['subcard_addr1',\n",
       " 'subcard_DeviceInfo',\n",
       " 'subcard_P_emaildomain',\n",
       " 'subcard_ProductCD',\n",
       " 'subcard_id_20',\n",
       " 'subcard_id_19',\n",
       " 'subcard_card4',\n",
       " 'subcard_subcard_categorical_D4']"
      ]
     },
     "execution_count": 57,
     "metadata": {},
     "output_type": "execute_result"
    }
   ],
   "source": [
    "subcard_ids"
   ]
  },
  {
   "cell_type": "markdown",
   "metadata": {},
   "source": [
    " # TransactionAmt features"
   ]
  },
  {
   "cell_type": "markdown",
   "metadata": {},
   "source": [
    "Говорят, если в сумме транзакции есть более двух чисел после запятой, то это транзакция в иностранной валюте"
   ]
  },
  {
   "cell_type": "code",
   "execution_count": 58,
   "metadata": {},
   "outputs": [],
   "source": [
    "all_df['is_foreign'] = all_df['cents'].apply(lambda x: len(str(x)) > 2)"
   ]
  },
  {
   "cell_type": "code",
   "execution_count": 59,
   "metadata": {},
   "outputs": [],
   "source": [
    "MODEL_FEATURES.add('is_foreign')"
   ]
  },
  {
   "cell_type": "markdown",
   "metadata": {},
   "source": [
    "А раз уникальных TransactionAmt не очень много, то почему бы не добавить nunique для каждого из айдишников сверху"
   ]
  },
  {
   "cell_type": "code",
   "execution_count": 60,
   "metadata": {},
   "outputs": [],
   "source": [
    "from sklearn.preprocessing import QuantileTransformer\n",
    "from collections import Counter"
   ]
  },
  {
   "cell_type": "code",
   "execution_count": 61,
   "metadata": {},
   "outputs": [
    {
     "name": "stdout",
     "output_type": "stream",
     "text": [
      "CPU times: user 29.5 s, sys: 17.1 s, total: 46.5 s\n",
      "Wall time: 46.5 s\n"
     ]
    }
   ],
   "source": [
    "%%time\n",
    "unique_amt_cols = []\n",
    "for uid in uids:\n",
    "    uniques = all_df.groupby(uid)['TransactionAmt'].nunique()\n",
    "    all_df[uid + '_unique_amt'] = all_df[uid].map(uniques)\n",
    "    unique_amt_cols.append(uid + '_unique_amt')\n",
    "    \n",
    "QT = QuantileTransformer(n_quantiles=500)\n",
    "all_df[unique_amt_cols] = QT.fit_transform(all_df[unique_amt_cols])"
   ]
  },
  {
   "cell_type": "code",
   "execution_count": 62,
   "metadata": {},
   "outputs": [],
   "source": [
    "MODEL_FEATURES.update(unique_amt_cols)"
   ]
  },
  {
   "cell_type": "markdown",
   "metadata": {},
   "source": [
    "# Следующая транзакция"
   ]
  },
  {
   "cell_type": "code",
   "execution_count": null,
   "metadata": {},
   "outputs": [
    {
     "name": "stdout",
     "output_type": "stream",
     "text": [
      "card1\n",
      "1\n",
      "2\n",
      "3\n",
      "4\n",
      "subcard_categorical_full\n",
      "1\n",
      "2\n",
      "3\n",
      "4\n",
      "subcard_addr1\n",
      "1\n",
      "2\n",
      "3\n",
      "4\n",
      "subcard_DeviceInfo\n",
      "1\n",
      "2\n",
      "3\n",
      "4\n",
      "subcard_P_emaildomain\n",
      "1\n",
      "2\n",
      "3\n",
      "4\n",
      "subcard_ProductCD\n",
      "1\n",
      "2\n",
      "3\n",
      "4\n",
      "subcard_id_20\n",
      "1\n",
      "2\n",
      "3\n",
      "4\n",
      "subcard_id_19\n",
      "1\n",
      "2\n",
      "3\n"
     ]
    }
   ],
   "source": [
    "%%time\n",
    "near_cols = []\n",
    "same_cols = []\n",
    "for col in ['card1', 'subcard_categorical_full'] + subcard_ids:\n",
    "    print(col)\n",
    "    for i in range(1, 5):\n",
    "        print(i)\n",
    "        a = 'is_same_next_transaction_' + str(i)\n",
    "        b = 'is_same_prev_transaction_' + str(i)\n",
    "        all_df[a] = all_df.groupby(col)['TransactionAmt'].diff(i) == 0\n",
    "        all_df[b] = all_df.groupby(col)['TransactionAmt'].diff(-i) == 0\n",
    "        same_cols.extend([a, b])\n",
    "    all_df[f'same_transaction_near_{col}'] = all_df[same_cols].sum(axis=1)\n",
    "    all_df.drop(same_cols, axis=1, inplace=True)\n",
    "    near_cols.append(f'same_transaction_near_{col}')"
   ]
  },
  {
   "cell_type": "code",
   "execution_count": null,
   "metadata": {},
   "outputs": [],
   "source": [
    "MODEL_FEATURES.update(near_cols)"
   ]
  },
  {
   "cell_type": "markdown",
   "metadata": {},
   "source": [
    "# Frequency Encoding"
   ]
  },
  {
   "cell_type": "code",
   "execution_count": null,
   "metadata": {},
   "outputs": [],
   "source": [
    "def encode_frequency(col, quantile=True):\n",
    "    return col.map(col.value_counts().to_dict())"
   ]
  },
  {
   "cell_type": "code",
   "execution_count": null,
   "metadata": {},
   "outputs": [],
   "source": [
    "uids"
   ]
  },
  {
   "cell_type": "code",
   "execution_count": null,
   "metadata": {},
   "outputs": [],
   "source": [
    "%%time\n",
    "freq_cols = []\n",
    "for col in list(CATEGORICAL_FEATURES) + uids + ['cents', 'dollars'] :\n",
    "    all_df[col + '_freq'] = encode_frequency(all_df[col])\n",
    "    freq_cols.append(col + '_freq')\n",
    "    \n",
    "QT = QuantileTransformer(n_quantiles=500)\n",
    "all_df[freq_cols] = QT.fit_transform(all_df[freq_cols])"
   ]
  },
  {
   "cell_type": "code",
   "execution_count": null,
   "metadata": {},
   "outputs": [],
   "source": [
    "MODEL_FEATURES.update(freq_cols)"
   ]
  },
  {
   "cell_type": "markdown",
   "metadata": {},
   "source": [
    "# Categorical"
   ]
  },
  {
   "cell_type": "code",
   "execution_count": null,
   "metadata": {},
   "outputs": [],
   "source": [
    "from multiprocessing import Pool"
   ]
  },
  {
   "cell_type": "code",
   "execution_count": null,
   "metadata": {},
   "outputs": [],
   "source": [
    "def encode(col):\n",
    "    le = LabelEncoder()\n",
    "    le.fit(all_df[col].astype(str).values)\n",
    "    return le.transform(all_df[col].astype(str).values)"
   ]
  },
  {
   "cell_type": "code",
   "execution_count": null,
   "metadata": {},
   "outputs": [],
   "source": [
    "all_df['cents_categorical'] = all_df['cents'].copy()\n",
    "all_df['dollars_categorical'] = all_df['dollars'].copy()"
   ]
  },
  {
   "cell_type": "code",
   "execution_count": null,
   "metadata": {},
   "outputs": [],
   "source": [
    "CATEGORICAL_FEATURES.update(['cents_categorical', 'dollars_categorical'])"
   ]
  },
  {
   "cell_type": "code",
   "execution_count": null,
   "metadata": {},
   "outputs": [],
   "source": [
    "MODEL_FEATURES.update(['cents_categorical', 'dollars_categorical'])"
   ]
  },
  {
   "cell_type": "code",
   "execution_count": 126,
   "metadata": {},
   "outputs": [
    {
     "name": "stdout",
     "output_type": "stream",
     "text": [
      "CPU times: user 231 ms, sys: 5.36 s, total: 5.59 s\n",
      "Wall time: 7.45 s\n"
     ]
    }
   ],
   "source": [
    "%%time\n",
    "with Pool(16) as pool:\n",
    "    encodes = pool.map(encode, CATEGORICAL_FEATURES)\n",
    "\n",
    "for name, enc in zip(CATEGORICAL_FEATURES, encodes):\n",
    "    all_df[name] = enc"
   ]
  },
  {
   "cell_type": "markdown",
   "metadata": {},
   "source": [
    "# Numerical encoding"
   ]
  },
  {
   "cell_type": "code",
   "execution_count": null,
   "metadata": {},
   "outputs": [],
   "source": [
    "def calc_smooth_encoding(all_df, by, on, m):\n",
    "    # Compute the global mean\n",
    "    mean = all_df[on].mean()\n",
    "    \n",
    "    std = all_df[on].std()\n",
    "    \n",
    "    median = np.nanmedian(all_df[on])\n",
    "\n",
    "    # Compute the number of values and the mean of each group\n",
    "    agg = all_df.groupby(by)[on].agg(['count', 'mean', 'std', np.nanmedian])\n",
    "    counts = agg['count']\n",
    "    means = agg['mean']\n",
    "    stds = agg['std']\n",
    "    medians = agg['nanmedian']\n",
    "    \n",
    "\n",
    "    # Compute the \"smoothed\" means\n",
    "    smooth = (counts * means + m * mean) / (counts + m)\n",
    "    \n",
    "    smooth_std = (stds * counts + m * std ) / (counts + m)\n",
    "    \n",
    "    smooth_median = (medians * counts + m * median ) / (counts + m)\n",
    "\n",
    "    # Replace each value by the according smoothed mean\n",
    "    return all_df[by].map(smooth), all_df[by].map(smooth_std), all_df[by].map(smooth_median)"
   ]
  },
  {
   "cell_type": "code",
   "execution_count": null,
   "metadata": {},
   "outputs": [],
   "source": [
    "%%time\n",
    "amt_features = []\n",
    "for col in uids:\n",
    "    mean, std, median = calc_smooth_encoding(all_df, col, 'TransactionAmt', 30)\n",
    "    all_df[col + '_TransactionAmt_mean'] = mean\n",
    "    all_df[col + '_TransactionAmt_std'] = std\n",
    "    #all_df[col + '_TransactionAmt_median'] = median\n",
    "    amt_features.extend([col + '_TransactionAmt_mean', col + '_TransactionAmt_std'])#, col + '_TransactionAmt_median'])"
   ]
  },
  {
   "cell_type": "code",
   "execution_count": null,
   "metadata": {},
   "outputs": [],
   "source": [
    "%%time\n",
    "D15_features = []\n",
    "for col in uids:\n",
    "    mean, std, median = calc_smooth_encoding(all_df, col, 'D15_day_min_max', 30)\n",
    "    all_df[col + '_D15_mean'] = mean\n",
    "    all_df[col + '_D15_std'] = std\n",
    "    #all_df[col + '_D15_median'] = median\n",
    "    D15_features.extend([col + '_D15_mean', col + '_D15_std'])#, col + '_D15_median'])"
   ]
  },
  {
   "cell_type": "code",
   "execution_count": null,
   "metadata": {},
   "outputs": [],
   "source": [
    "%%time\n",
    "C13_features = []\n",
    "for col in uids:\n",
    "    mean, std, median = calc_smooth_encoding(all_df, col, 'C13', 30)\n",
    "    all_df[col + '_C13_mean'] = mean\n",
    "    all_df[col + '_C13_std'] = std\n",
    "    #all_df[col + '_C13_median'] = median\n",
    "    C13_features.extend([col + '_C13_mean', col + '_C13_std'])#, col + '_C13_median']"
   ]
  },
  {
   "cell_type": "code",
   "execution_count": 109,
   "metadata": {},
   "outputs": [
    {
     "data": {
      "text/plain": [
       "['uid1_C13_mean',\n",
       " 'uid1_C13_std',\n",
       " 'uid2_C13_mean',\n",
       " 'uid2_C13_std',\n",
       " 'uid3_C13_mean',\n",
       " 'uid3_C13_std',\n",
       " 'uid4_C13_mean',\n",
       " 'uid4_C13_std',\n",
       " 'uid5_C13_mean',\n",
       " 'uid5_C13_std',\n",
       " 'subcard_categorical_full_C13_mean',\n",
       " 'subcard_categorical_full_C13_std',\n",
       " 'subcard_addr1_C13_mean',\n",
       " 'subcard_addr1_C13_std',\n",
       " 'subcard_DeviceInfo_C13_mean',\n",
       " 'subcard_DeviceInfo_C13_std',\n",
       " 'subcard_P_emaildomain_C13_mean',\n",
       " 'subcard_P_emaildomain_C13_std',\n",
       " 'subcard_ProductCD_C13_mean',\n",
       " 'subcard_ProductCD_C13_std',\n",
       " 'subcard_id_20_C13_mean',\n",
       " 'subcard_id_20_C13_std',\n",
       " 'subcard_id_19_C13_mean',\n",
       " 'subcard_id_19_C13_std',\n",
       " 'subcard_card4_C13_mean',\n",
       " 'subcard_card4_C13_std',\n",
       " 'subcard_subcard_categorical_D4_C13_mean',\n",
       " 'subcard_subcard_categorical_D4_C13_std']"
      ]
     },
     "execution_count": 109,
     "metadata": {},
     "output_type": "execute_result"
    }
   ],
   "source": [
    "C13_features"
   ]
  },
  {
   "cell_type": "code",
   "execution_count": 110,
   "metadata": {},
   "outputs": [],
   "source": [
    "MODEL_FEATURES.update(D15_features + C13_features)"
   ]
  },
  {
   "cell_type": "code",
   "execution_count": 111,
   "metadata": {},
   "outputs": [],
   "source": [
    "MODEL_FEATURES.update(amt_features)"
   ]
  },
  {
   "cell_type": "code",
   "execution_count": 115,
   "metadata": {},
   "outputs": [],
   "source": [
    "values_normalization(all_df, 'day', 'subcard_reg_timestamp')"
   ]
  },
  {
   "cell_type": "code",
   "execution_count": 127,
   "metadata": {},
   "outputs": [],
   "source": [
    "MODEL_FEATURES.add('subcard_reg_timestamp_day_min_max')"
   ]
  },
  {
   "cell_type": "code",
   "execution_count": 128,
   "metadata": {},
   "outputs": [],
   "source": [
    "all_df.to_pickle('subcard_strikes_back_features.pkl')"
   ]
  },
  {
   "cell_type": "markdown",
   "metadata": {},
   "source": [
    "# Splits"
   ]
  },
  {
   "cell_type": "code",
   "execution_count": 129,
   "metadata": {},
   "outputs": [],
   "source": [
    "train_final = all_df[:N_TRAIN_EXAMPLES]\n",
    "test_final = all_df[N_TRAIN_EXAMPLES:]\n",
    "\n",
    "tr = train_final[:N_TRAIN]\n",
    "val = train_final[N_TRAIN:]"
   ]
  },
  {
   "cell_type": "code",
   "execution_count": 130,
   "metadata": {},
   "outputs": [],
   "source": [
    "def downsample(df, how_strong=2):\n",
    "    positive = df[df.isFraud == 1]\n",
    "    negative = df[df.isFraud == 0]\n",
    "    negative = negative.sample(int(len(negative) / how_strong))\n",
    "    res = pd.concat([positive, negative])\n",
    "    return res.sample(len(res))"
   ]
  },
  {
   "cell_type": "markdown",
   "metadata": {},
   "source": [
    "tr = downsample(tr, 10)\n",
    "val = downsample(val, 10)"
   ]
  },
  {
   "cell_type": "markdown",
   "metadata": {},
   "source": [
    "# Train"
   ]
  },
  {
   "cell_type": "code",
   "execution_count": 131,
   "metadata": {},
   "outputs": [],
   "source": [
    "add_cols = [col + '_day_min_max' for col in d_cols] \n",
    "add_cols = add_cols + [col + '_day_std_score' for col in d_cols]"
   ]
  },
  {
   "cell_type": "code",
   "execution_count": 132,
   "metadata": {},
   "outputs": [],
   "source": [
    "import sys\n",
    "sys.path.insert(0, 'old_roman/IEEE_FRAUD/')"
   ]
  },
  {
   "cell_type": "code",
   "execution_count": 133,
   "metadata": {},
   "outputs": [],
   "source": [
    "from settings import CATEGORICAL_FEATURES as roman_categorical"
   ]
  },
  {
   "cell_type": "code",
   "execution_count": 134,
   "metadata": {},
   "outputs": [],
   "source": [
    "import pickle"
   ]
  },
  {
   "cell_type": "code",
   "execution_count": 135,
   "metadata": {},
   "outputs": [],
   "source": [
    "roman_categorical = list(set(roman_categorical) - set(['is_holiday']))"
   ]
  },
  {
   "cell_type": "code",
   "execution_count": 136,
   "metadata": {},
   "outputs": [],
   "source": [
    "final_features = set(list(MODEL_FEATURES) + list(roman_feature_names))"
   ]
  },
  {
   "cell_type": "code",
   "execution_count": 137,
   "metadata": {},
   "outputs": [],
   "source": [
    "d_cols = [col for col in all_df.columns if col.startswith('D') \n",
    "          and not col[-1:].isalpha() and col != 'D9' and len(col) < 4]"
   ]
  },
  {
   "cell_type": "code",
   "execution_count": 138,
   "metadata": {},
   "outputs": [],
   "source": [
    "good_cols = list(MODEL_FEATURES - set(['card1']) - set(d_cols) ) + add_cols + ['subcard_reg_timestamp_day_min_max']\n",
    "good_categotical = list(set(CATEGORICAL_FEATURES) - set(['card1']))"
   ]
  },
  {
   "cell_type": "code",
   "execution_count": 139,
   "metadata": {},
   "outputs": [],
   "source": [
    "all_good_features = set(good_cols\n",
    "                        + list(roman_feature_names)) -\\\n",
    "    set(['card1', 'dayofmonth'])\n",
    "all_good_categorical = set(good_categotical + roman_categorical) - set(['card1', 'is_holiday', 'dayofmonth'])\n",
    "\n",
    "all_good_categorical = all_good_categorical.intersection(all_good_features)"
   ]
  },
  {
   "cell_type": "code",
   "execution_count": 140,
   "metadata": {},
   "outputs": [],
   "source": [
    "with open('subcard_strikes_back_col_names.pkl', 'wb') as f:\n",
    "    pickle.dump((MODEL_FEATURES, CATEGORICAL_FEATURES, roman_feature_names, roman_categorical,\n",
    "                all_good_features, all_good_categorical), f)"
   ]
  },
  {
   "cell_type": "markdown",
   "metadata": {},
   "source": [
    "# ПОСЛЕ ЭТОЙ СТРОЧКИ МОЖНО ПЕРЕЙТИ СРАЗУ К KFOLD"
   ]
  },
  {
   "cell_type": "code",
   "execution_count": 141,
   "metadata": {},
   "outputs": [
    {
     "data": {
      "text/plain": [
       "1062"
      ]
     },
     "execution_count": 141,
     "metadata": {},
     "output_type": "execute_result"
    }
   ],
   "source": [
    "len(all_good_features)"
   ]
  },
  {
   "cell_type": "code",
   "execution_count": null,
   "metadata": {},
   "outputs": [],
   "source": []
  },
  {
   "cell_type": "code",
   "execution_count": null,
   "metadata": {},
   "outputs": [],
   "source": []
  },
  {
   "cell_type": "code",
   "execution_count": null,
   "metadata": {},
   "outputs": [],
   "source": [
    "dtrain = lgb.Dataset(tr[all_good_features], label=tr['isFraud'],\n",
    "                     categorical_feature=all_good_categorical,free_raw_data=False)\n",
    "dval = lgb.Dataset(val[all_good_features], label=val['isFraud'],\n",
    "                   categorical_feature=all_good_categorical, free_raw_data=False)"
   ]
  },
  {
   "cell_type": "code",
   "execution_count": null,
   "metadata": {},
   "outputs": [],
   "source": [
    "def fit_on_features(drop_feature):\n",
    "    features = list(set(all_good_features) - set([drop_feature]))\n",
    "    categorical = list(set(all_good_categorical) - set([drop_feature]))\n",
    "    dtrain = lgb.Dataset(tr[features], label=tr['isFraud'],\n",
    "                     categorical_feature=categorical,\n",
    "                         free_raw_data=False)\n",
    "    dval = lgb.Dataset(val[features], label=val['isFraud'],\n",
    "                   categorical_feature=categorical,\n",
    "                       free_raw_data=False)\n",
    "    \n",
    "    model = lgb.train(params, dtrain, num_boost_round=10000,\n",
    "                  valid_sets=(dval, dtrain), valid_names=('val', 'train'),\n",
    "                early_stopping_rounds=25, verbose_eval=0)\n",
    "    return model.best_score"
   ]
  },
  {
   "cell_type": "code",
   "execution_count": null,
   "metadata": {},
   "outputs": [],
   "source": []
  },
  {
   "cell_type": "code",
   "execution_count": null,
   "metadata": {},
   "outputs": [],
   "source": [
    "params = {'num_leaves': 200,\n",
    "          'min_child_samples': 40,\n",
    "          #'min_sum_hessian_in_leaf': 5e-3,\n",
    "          #'max_bin': 1023,\n",
    "          #'min_data_in_leaf': \n",
    "          #'scale_pos_weight': 2,\n",
    "          'objective': 'binary',\n",
    "          'metric': 'auc',\n",
    "          'max_depth': 13,\n",
    "          'learning_rate': 0.01,\n",
    "          \"boosting_type\": \"goss\",\n",
    "          \"top_rate\": 0.6,\n",
    "          \"other_rate\": 0.1,\n",
    "          \"bagging_freq\": 0,\n",
    "          'nthread': 16,\n",
    "          \n",
    "          'pos_bagging_fraction': 0.8,\n",
    "          'neg_bagging_fraction': 0.01,\n",
    "          \"bagging_fraction\": 0.6,\n",
    "          \"bagging_seed\": 11,\n",
    "          'reg_alpha': 0.3,\n",
    "          'reg_lambda': 0.3,\n",
    "          \n",
    "          'feature_fraction': 0.7,\n",
    "          'min_data_per_group': 25,\n",
    "          'cat_smooth': 500,\n",
    "          'max_cat_to_onehot': 8\n",
    "          #'categorical_feature': cat_cols\n",
    "         }"
   ]
  },
  {
   "cell_type": "code",
   "execution_count": null,
   "metadata": {},
   "outputs": [],
   "source": [
    "%%time\n",
    "model = lgb.train(params, dtrain, num_boost_round=10000,\n",
    "                  valid_sets=(dval, dtrain), valid_names=('val', 'train'),\n",
    "                early_stopping_rounds=25, verbose_eval=100)"
   ]
  },
  {
   "cell_type": "code",
   "execution_count": null,
   "metadata": {},
   "outputs": [],
   "source": [
    "0.928021"
   ]
  },
  {
   "cell_type": "markdown",
   "metadata": {},
   "source": [
    "0.94599 - дропаем -1e-4\n",
    "0.946581 - дропаем -1e-3\n",
    "0.949..- ничего не дропаем\n",
    "0.949693 - дропнул 10"
   ]
  },
  {
   "cell_type": "code",
   "execution_count": null,
   "metadata": {},
   "outputs": [],
   "source": [
    "DEFAULT_AUC = 0.9451639985019628"
   ]
  },
  {
   "cell_type": "code",
   "execution_count": null,
   "metadata": {},
   "outputs": [],
   "source": [
    "import warnings"
   ]
  },
  {
   "cell_type": "code",
   "execution_count": null,
   "metadata": {},
   "outputs": [],
   "source": [
    "with warnings.catch_warnings():\n",
    "    warnings.simplefilter(\"ignore\")\n",
    "    feature_metric_loss = {}\n",
    "    for i, feature in enumerate(all_good_features):\n",
    "        best_score = fit_on_features(feature)\n",
    "        feature_metric_loss[feature] = DEFAULT_AUC - best_score['val']['auc']\n",
    "        print(feature, f'with №{i} loss change:', feature_metric_loss[feature])"
   ]
  },
  {
   "cell_type": "code",
   "execution_count": null,
   "metadata": {},
   "outputs": [],
   "source": [
    "import json"
   ]
  },
  {
   "cell_type": "code",
   "execution_count": null,
   "metadata": {},
   "outputs": [],
   "source": [
    "with open('feature_auc_loss.json', 'w') as f:\n",
    "    json.dump(feature_metric_loss, f)"
   ]
  },
  {
   "cell_type": "code",
   "execution_count": null,
   "metadata": {},
   "outputs": [],
   "source": [
    "feature_imp = pd.DataFrame.from_dict(feature_metric_loss, orient='index')\n",
    "feature_imp.reset_index(inplace=True)\n",
    "feature_imp.columns = ['Feature', 'Value']\n"
   ]
  },
  {
   "cell_type": "code",
   "execution_count": null,
   "metadata": {},
   "outputs": [],
   "source": [
    "feature_imp[feature_imp['Value'] < -0.001]"
   ]
  },
  {
   "cell_type": "code",
   "execution_count": null,
   "metadata": {},
   "outputs": [],
   "source": [
    "plt.figure(figsize=(10, 20))\n",
    "sns.barplot(x=\"Value\", y=\"Feature\", data=feature_imp.sort_values(by=\"Value\", ascending=False)[-100:])\n",
    "plt.tight_layout()\n",
    "plt.show()"
   ]
  },
  {
   "cell_type": "code",
   "execution_count": null,
   "metadata": {},
   "outputs": [],
   "source": [
    "%%time\n",
    "model = lgb.train(params, dtrain, num_boost_round=10000,\n",
    "                  valid_sets=(dval, dtrain), valid_names=('val', 'train'),\n",
    "                early_stopping_rounds=25, verbose_eval=100)"
   ]
  },
  {
   "cell_type": "code",
   "execution_count": null,
   "metadata": {},
   "outputs": [],
   "source": [
    "model.best_score"
   ]
  },
  {
   "cell_type": "code",
   "execution_count": null,
   "metadata": {},
   "outputs": [],
   "source": [
    "0.945351"
   ]
  },
  {
   "cell_type": "code",
   "execution_count": null,
   "metadata": {},
   "outputs": [],
   "source": [
    "0.947028 0.946727 0.946764"
   ]
  },
  {
   "cell_type": "code",
   "execution_count": null,
   "metadata": {},
   "outputs": [],
   "source": [
    "%%time\n",
    "model = lgb.train(params, dtrain, num_boost_round=10000,\n",
    "                  valid_sets=(dval, dtrain), valid_names=('val', 'train'),\n",
    "                early_stopping_rounds=25, verbose_eval=25)"
   ]
  },
  {
   "cell_type": "markdown",
   "metadata": {},
   "source": [
    "# Split importance"
   ]
  },
  {
   "cell_type": "code",
   "execution_count": null,
   "metadata": {},
   "outputs": [],
   "source": [
    "feature_imp = pd.DataFrame(sorted(zip(model.feature_importance('split'), good_cols)), columns=['Value','Feature'])\n",
    "bad_cols = feature_imp[feature_imp['Value'] < 1]['Feature']\n",
    "len(bad_cols)"
   ]
  },
  {
   "cell_type": "code",
   "execution_count": null,
   "metadata": {
    "scrolled": false
   },
   "outputs": [],
   "source": [
    "feature_imp = pd.DataFrame(sorted(zip(model.feature_importance('split'), all_good_features)), columns=['Value','Feature'])\n",
    "bad_cols = feature_imp[feature_imp['Value'] < 1]['Feature']\n",
    "plt.figure(figsize=(10, 20))\n",
    "sns.barplot(x=\"Value\", y=\"Feature\", data=feature_imp.sort_values(by=\"Value\", ascending=False)[:100])\n",
    "plt.tight_layout()\n",
    "plt.show()"
   ]
  },
  {
   "cell_type": "markdown",
   "metadata": {},
   "source": [
    "# SHAP importance"
   ]
  },
  {
   "cell_type": "code",
   "execution_count": null,
   "metadata": {},
   "outputs": [],
   "source": [
    "shap_test = test_final.sample(7000)"
   ]
  },
  {
   "cell_type": "code",
   "execution_count": null,
   "metadata": {},
   "outputs": [],
   "source": [
    "%%time\n",
    "res = model.predict(shap_test[all_good_features], pred_contrib=True)\n",
    "mean_shap = np.abs(res).mean(axis=0)\n",
    "shap_imp = pd.DataFrame(sorted(zip(mean_shap, all_good_features)), columns=['Value','Feature'])\n",
    "plt.figure(figsize=(10, 10))\n",
    "sns.barplot(x=\"Value\", y=\"Feature\", data=shap_imp.sort_values(by=\"Value\", ascending=False)[:60])\n",
    "plt.tight_layout()\n",
    "plt.show()"
   ]
  },
  {
   "cell_type": "markdown",
   "metadata": {},
   "source": [
    "# Fit KFold (Scary)"
   ]
  },
  {
   "cell_type": "code",
   "execution_count": 102,
   "metadata": {},
   "outputs": [],
   "source": [
    "from sklearn.model_selection import GroupKFold"
   ]
  },
  {
   "cell_type": "code",
   "execution_count": 103,
   "metadata": {},
   "outputs": [],
   "source": [
    "gkf = GroupKFold(6)"
   ]
  },
  {
   "cell_type": "code",
   "execution_count": 104,
   "metadata": {},
   "outputs": [
    {
     "data": {
      "text/plain": [
       "GroupKFold(n_splits=6)"
      ]
     },
     "execution_count": 104,
     "metadata": {},
     "output_type": "execute_result"
    }
   ],
   "source": [
    "gkf"
   ]
  },
  {
   "cell_type": "code",
   "execution_count": 107,
   "metadata": {},
   "outputs": [],
   "source": [
    "params = {'num_leaves': 200,\n",
    "          'min_child_samples': 40,\n",
    "          #'min_sum_hessian_in_leaf': 5e-3,\n",
    "          #'max_bin': 1023,\n",
    "          #'min_data_in_leaf': \n",
    "          #'scale_pos_weight': 2,\n",
    "          'objective': 'binary',\n",
    "          'metric': 'auc',\n",
    "          'max_depth': 13,\n",
    "          'learning_rate': 0.01,\n",
    "          \"boosting_type\": \"gbdt\",\n",
    "          \"top_rate\": 0.6,\n",
    "          \"other_rate\": 0.1,\n",
    "          \"bagging_freq\": 0,\n",
    "          'nthread': 16,\n",
    "          \n",
    "          'pos_bagging_fraction': 0.8,\n",
    "          'neg_bagging_fraction': 0.01,\n",
    "          \"bagging_fraction\": 0.7,\n",
    "          \"bagging_seed\": 11,\n",
    "          'reg_alpha': 0.3,\n",
    "          'reg_lambda': 0.3,\n",
    "          \n",
    "          'feature_fraction': 0.9,\n",
    "          'min_data_per_group': 25,\n",
    "          'cat_smooth': 500,\n",
    "          'max_cat_to_onehot': 8\n",
    "          #'categorical_feature': cat_cols\n",
    "         }"
   ]
  },
  {
   "cell_type": "code",
   "execution_count": 142,
   "metadata": {},
   "outputs": [],
   "source": [
    "import gc"
   ]
  },
  {
   "cell_type": "markdown",
   "metadata": {},
   "source": [
    "del dtrain, dval"
   ]
  },
  {
   "cell_type": "code",
   "execution_count": 143,
   "metadata": {},
   "outputs": [
    {
     "data": {
      "text/plain": [
       "9386"
      ]
     },
     "execution_count": 143,
     "metadata": {},
     "output_type": "execute_result"
    }
   ],
   "source": [
    "gc.collect()"
   ]
  },
  {
   "cell_type": "code",
   "execution_count": 106,
   "metadata": {},
   "outputs": [
    {
     "data": {
      "text/plain": [
       "1062"
      ]
     },
     "execution_count": 106,
     "metadata": {},
     "output_type": "execute_result"
    }
   ],
   "source": [
    "len(all_good_features)"
   ]
  },
  {
   "cell_type": "code",
   "execution_count": 144,
   "metadata": {
    "scrolled": true
   },
   "outputs": [
    {
     "name": "stderr",
     "output_type": "stream",
     "text": [
      "/home/a_tishurov/.conda/envs/experiments/lib/python3.7/site-packages/lightgbm/basic.py:1205: UserWarning: Using categorical_feature in Dataset.\n",
      "  warnings.warn('Using categorical_feature in Dataset.')\n",
      "/home/a_tishurov/.conda/envs/experiments/lib/python3.7/site-packages/lightgbm/basic.py:762: UserWarning: categorical_feature in param dict is overridden.\n",
      "  warnings.warn('categorical_feature in param dict is overridden.')\n"
     ]
    },
    {
     "name": "stdout",
     "output_type": "stream",
     "text": [
      "Training until validation scores don't improve for 100 rounds.\n",
      "[100]\tvalid_0's auc: 0.889775\n",
      "[200]\tvalid_0's auc: 0.902793\n",
      "[300]\tvalid_0's auc: 0.910382\n",
      "[400]\tvalid_0's auc: 0.91621\n",
      "[500]\tvalid_0's auc: 0.91986\n",
      "[600]\tvalid_0's auc: 0.922429\n",
      "[700]\tvalid_0's auc: 0.924564\n",
      "[800]\tvalid_0's auc: 0.925924\n",
      "[900]\tvalid_0's auc: 0.926738\n",
      "[1000]\tvalid_0's auc: 0.92795\n",
      "[1100]\tvalid_0's auc: 0.928953\n",
      "[1200]\tvalid_0's auc: 0.929714\n",
      "[1300]\tvalid_0's auc: 0.93045\n",
      "[1400]\tvalid_0's auc: 0.931054\n",
      "[1500]\tvalid_0's auc: 0.931524\n",
      "[1600]\tvalid_0's auc: 0.93191\n",
      "[1700]\tvalid_0's auc: 0.932333\n",
      "[1800]\tvalid_0's auc: 0.932576\n",
      "[1900]\tvalid_0's auc: 0.932775\n",
      "[2000]\tvalid_0's auc: 0.932948\n",
      "[2100]\tvalid_0's auc: 0.933256\n",
      "[2200]\tvalid_0's auc: 0.933419\n",
      "[2300]\tvalid_0's auc: 0.933517\n",
      "[2400]\tvalid_0's auc: 0.93372\n",
      "[2500]\tvalid_0's auc: 0.933791\n",
      "[2600]\tvalid_0's auc: 0.933857\n",
      "[2700]\tvalid_0's auc: 0.934031\n",
      "[2800]\tvalid_0's auc: 0.934124\n",
      "[2900]\tvalid_0's auc: 0.934211\n",
      "[3000]\tvalid_0's auc: 0.9343\n",
      "[3100]\tvalid_0's auc: 0.934383\n",
      "[3200]\tvalid_0's auc: 0.934322\n",
      "Early stopping, best iteration is:\n",
      "[3116]\tvalid_0's auc: 0.934396\n",
      "[200]\tvalid_0's auc: 0.936157\n",
      "[300]\tvalid_0's auc: 0.945084\n",
      "[400]\tvalid_0's auc: 0.949294\n",
      "[500]\tvalid_0's auc: 0.952353\n",
      "[600]\tvalid_0's auc: 0.954573\n",
      "[700]\tvalid_0's auc: 0.956103\n",
      "[800]\tvalid_0's auc: 0.95702\n",
      "[900]\tvalid_0's auc: 0.957691\n",
      "[1000]\tvalid_0's auc: 0.958386\n",
      "[1100]\tvalid_0's auc: 0.958831\n",
      "[1200]\tvalid_0's auc: 0.95917\n",
      "[1300]\tvalid_0's auc: 0.959322\n",
      "[1400]\tvalid_0's auc: 0.959554\n",
      "[1500]\tvalid_0's auc: 0.95983\n",
      "[1600]\tvalid_0's auc: 0.960059\n",
      "[1700]\tvalid_0's auc: 0.960122\n",
      "[1800]\tvalid_0's auc: 0.960284\n",
      "[1900]\tvalid_0's auc: 0.960373\n",
      "[2000]\tvalid_0's auc: 0.96047\n",
      "[2100]\tvalid_0's auc: 0.960551\n",
      "[2200]\tvalid_0's auc: 0.960636\n",
      "[2500]\tvalid_0's auc: 0.960839\n",
      "Early stopping, best iteration is:\n",
      "[2479]\tvalid_0's auc: 0.960857\n",
      "Training until validation scores don't improve for 100 rounds.\n",
      "[100]\tvalid_0's auc: 0.920489\n",
      "[200]\tvalid_0's auc: 0.93884\n",
      "[300]\tvalid_0's auc: 0.947535\n",
      "[400]\tvalid_0's auc: 0.951195\n",
      "[500]\tvalid_0's auc: 0.954038\n",
      "[600]\tvalid_0's auc: 0.955879\n",
      "[700]\tvalid_0's auc: 0.957335\n",
      "[800]\tvalid_0's auc: 0.95797\n",
      "[900]\tvalid_0's auc: 0.958574\n",
      "[1000]\tvalid_0's auc: 0.959345\n",
      "[1100]\tvalid_0's auc: 0.959559\n",
      "[1200]\tvalid_0's auc: 0.959879\n",
      "[1300]\tvalid_0's auc: 0.960302\n",
      "[1400]\tvalid_0's auc: 0.960533\n",
      "[1500]\tvalid_0's auc: 0.960725\n",
      "[1600]\tvalid_0's auc: 0.960913\n",
      "[1700]\tvalid_0's auc: 0.961133\n",
      "[1800]\tvalid_0's auc: 0.96144\n",
      "[1900]\tvalid_0's auc: 0.961708\n",
      "[2000]\tvalid_0's auc: 0.961852\n",
      "[2100]\tvalid_0's auc: 0.962139\n",
      "[2200]\tvalid_0's auc: 0.962292\n",
      "[2300]\tvalid_0's auc: 0.962535\n",
      "[2400]\tvalid_0's auc: 0.962697\n",
      "[2500]\tvalid_0's auc: 0.962889\n",
      "[2600]\tvalid_0's auc: 0.96298\n",
      "[2700]\tvalid_0's auc: 0.96306\n",
      "[2800]\tvalid_0's auc: 0.963142\n",
      "[2900]\tvalid_0's auc: 0.963292\n",
      "[3000]\tvalid_0's auc: 0.963405\n",
      "[3100]\tvalid_0's auc: 0.963448\n",
      "[3200]\tvalid_0's auc: 0.963519\n",
      "[3300]\tvalid_0's auc: 0.963539\n",
      "[3400]\tvalid_0's auc: 0.963587\n",
      "[3500]\tvalid_0's auc: 0.963613\n",
      "[3600]\tvalid_0's auc: 0.963656\n",
      "[3700]\tvalid_0's auc: 0.963685\n",
      "[3800]\tvalid_0's auc: 0.963723\n",
      "[3900]\tvalid_0's auc: 0.963771\n",
      "Early stopping, best iteration is:\n",
      "[3882]\tvalid_0's auc: 0.963789\n",
      "Training until validation scores don't improve for 100 rounds.\n",
      "[100]\tvalid_0's auc: 0.911307\n",
      "[200]\tvalid_0's auc: 0.926658\n",
      "[300]\tvalid_0's auc: 0.933821\n",
      "[400]\tvalid_0's auc: 0.938594\n",
      "[500]\tvalid_0's auc: 0.941802\n",
      "[600]\tvalid_0's auc: 0.943695\n",
      "[700]\tvalid_0's auc: 0.945576\n",
      "[800]\tvalid_0's auc: 0.947005\n",
      "[900]\tvalid_0's auc: 0.948232\n",
      "[1000]\tvalid_0's auc: 0.949294\n",
      "[1100]\tvalid_0's auc: 0.950012\n",
      "[1200]\tvalid_0's auc: 0.950537\n",
      "[1300]\tvalid_0's auc: 0.951155\n",
      "[1400]\tvalid_0's auc: 0.951566\n",
      "[1500]\tvalid_0's auc: 0.9517\n",
      "[1600]\tvalid_0's auc: 0.951981\n",
      "[1900]\tvalid_0's auc: 0.952409\n",
      "[2000]\tvalid_0's auc: 0.952617\n",
      "[2100]\tvalid_0's auc: 0.952857\n",
      "[2200]\tvalid_0's auc: 0.952906\n",
      "[2300]\tvalid_0's auc: 0.953106\n",
      "[2400]\tvalid_0's auc: 0.95318\n",
      "[2500]\tvalid_0's auc: 0.953281\n",
      "[2600]\tvalid_0's auc: 0.953397\n",
      "[2700]\tvalid_0's auc: 0.953372\n",
      "Early stopping, best iteration is:\n",
      "[2653]\tvalid_0's auc: 0.953419\n",
      "Training until validation scores don't improve for 100 rounds.\n",
      "[100]\tvalid_0's auc: 0.931548\n",
      "[200]\tvalid_0's auc: 0.948044\n",
      "[300]\tvalid_0's auc: 0.953462\n",
      "[400]\tvalid_0's auc: 0.956024\n",
      "[500]\tvalid_0's auc: 0.957168\n",
      "[600]\tvalid_0's auc: 0.958117\n",
      "[700]\tvalid_0's auc: 0.958392\n",
      "[800]\tvalid_0's auc: 0.958616\n",
      "[900]\tvalid_0's auc: 0.958759\n",
      "Early stopping, best iteration is:\n",
      "[874]\tvalid_0's auc: 0.958862\n",
      "Training until validation scores don't improve for 100 rounds.\n",
      "[100]\tvalid_0's auc: 0.918857\n",
      "[200]\tvalid_0's auc: 0.939128\n",
      "[300]\tvalid_0's auc: 0.948415\n",
      "[400]\tvalid_0's auc: 0.953244\n",
      "[500]\tvalid_0's auc: 0.956958\n",
      "[600]\tvalid_0's auc: 0.959571\n",
      "[700]\tvalid_0's auc: 0.961262\n",
      "[800]\tvalid_0's auc: 0.962499\n",
      "[900]\tvalid_0's auc: 0.963632\n",
      "[1000]\tvalid_0's auc: 0.964408\n",
      "[1100]\tvalid_0's auc: 0.965084\n",
      "[1200]\tvalid_0's auc: 0.96564\n",
      "[1300]\tvalid_0's auc: 0.966147\n",
      "[1400]\tvalid_0's auc: 0.966506\n",
      "[1500]\tvalid_0's auc: 0.966764\n",
      "[1600]\tvalid_0's auc: 0.9671\n",
      "[1700]\tvalid_0's auc: 0.9673\n",
      "[1800]\tvalid_0's auc: 0.967673\n",
      "[1900]\tvalid_0's auc: 0.967929\n",
      "[2000]\tvalid_0's auc: 0.968081\n",
      "[2100]\tvalid_0's auc: 0.968203\n",
      "[2200]\tvalid_0's auc: 0.96831\n",
      "[2300]\tvalid_0's auc: 0.968393\n",
      "[2400]\tvalid_0's auc: 0.968421\n",
      "[2500]\tvalid_0's auc: 0.968546\n",
      "[2600]\tvalid_0's auc: 0.968598\n",
      "Early stopping, best iteration is:\n",
      "[2588]\tvalid_0's auc: 0.968616\n"
     ]
    }
   ],
   "source": [
    "scores = []\n",
    "all_preds = []\n",
    "oofs = []\n",
    "for train_ids, val_ids in gkf.split(train_final, train_final['isFraud'], train_final['DT_split']):\n",
    "    df_tr = train_final.loc[train_ids]\n",
    "    df_val = train_final.loc[val_ids]\n",
    "    dtrain = lgb.Dataset(df_tr[all_good_features], label=df_tr['isFraud'],\n",
    "                         categorical_feature=all_good_categorical, free_raw_data=False)\n",
    "    dval = lgb.Dataset(df_val[all_good_features], label=df_val['isFraud'],\n",
    "                       categorical_feature=all_good_categorical, free_raw_data=False)\n",
    "    \n",
    "    \n",
    "    model = lgb.train(params, dtrain, num_boost_round=10000, valid_sets=(dval),\n",
    "                early_stopping_rounds=100, verbose_eval=100)\n",
    "    preds = model.predict(test_final[all_good_features], num_iteration=model.best_iteration)\n",
    "    \n",
    "    all_preds.append(preds)\n",
    "    \n",
    "    oof_preds = model.predict(df_val[all_good_features], num_iteration=model.best_iteration)\n",
    "    oofs.append(oof_preds)\n",
    "    \n",
    "    scores.append(model.best_score)"
   ]
  },
  {
   "cell_type": "code",
   "execution_count": 154,
   "metadata": {},
   "outputs": [
    {
     "data": {
      "image/png": "[encoded data removed]",
      "text/plain": [
       "<Figure size 720x1440 with 1 Axes>"
      ]
     },
     "metadata": {
      "needs_background": "light"
     },
     "output_type": "display_data"
    }
   ],
   "source": [
    "feature_imp = pd.DataFrame(sorted(zip(model.feature_importance('split'), all_good_features)), columns=['Value','Feature'])\n",
    "bad_cols = feature_imp[feature_imp['Value'] < 1]['Feature']\n",
    "plt.figure(figsize=(10, 20))\n",
    "sns.barplot(x=\"Value\", y=\"Feature\", data=feature_imp.sort_values(by=\"Value\", ascending=False)[:100])\n",
    "plt.tight_layout()\n",
    "plt.show()"
   ]
  },
  {
   "cell_type": "code",
   "execution_count": 145,
   "metadata": {},
   "outputs": [
    {
     "data": {
      "text/plain": [
       "[defaultdict(dict, {'valid_0': {'auc': 0.9343958189636883}}),\n",
       " defaultdict(dict, {'valid_0': {'auc': 0.9608566943297293}}),\n",
       " defaultdict(dict, {'valid_0': {'auc': 0.9637887533692641}}),\n",
       " defaultdict(dict, {'valid_0': {'auc': 0.9534188190060433}}),\n",
       " defaultdict(dict, {'valid_0': {'auc': 0.9588616240548543}}),\n",
       " defaultdict(dict, {'valid_0': {'auc': 0.9686157011021619}})]"
      ]
     },
     "execution_count": 145,
     "metadata": {},
     "output_type": "execute_result"
    }
   ],
   "source": [
    "scores"
   ]
  },
  {
   "cell_type": "code",
   "execution_count": 146,
   "metadata": {},
   "outputs": [
    {
     "data": {
      "text/plain": [
       "[0.9343958189636883,\n",
       " 0.9608566943297293,\n",
       " 0.9637887533692641,\n",
       " 0.9534188190060433,\n",
       " 0.9588616240548543,\n",
       " 0.9686157011021619]"
      ]
     },
     "execution_count": 146,
     "metadata": {},
     "output_type": "execute_result"
    }
   ],
   "source": [
    "[score['valid_0']['auc'] for score in scores]"
   ]
  },
  {
   "cell_type": "code",
   "execution_count": 147,
   "metadata": {},
   "outputs": [],
   "source": [
    "best_score = np.mean([score['valid_0']['auc'] for score in scores])"
   ]
  },
  {
   "cell_type": "code",
   "execution_count": 148,
   "metadata": {},
   "outputs": [
    {
     "data": {
      "text/plain": [
       "0.9566562351376237"
      ]
     },
     "execution_count": 148,
     "metadata": {},
     "output_type": "execute_result"
    }
   ],
   "source": [
    "best_score"
   ]
  },
  {
   "cell_type": "code",
   "execution_count": 149,
   "metadata": {},
   "outputs": [],
   "source": [
    "from scipy.stats import gmean"
   ]
  },
  {
   "cell_type": "code",
   "execution_count": 150,
   "metadata": {},
   "outputs": [
    {
     "data": {
      "text/plain": [
       "array([[1.        , 0.99908865],\n",
       "       [0.99908865, 1.        ]])"
      ]
     },
     "execution_count": 150,
     "metadata": {},
     "output_type": "execute_result"
    }
   ],
   "source": [
    "from scipy.stats import gmean\n",
    "gmean_preds = gmean(all_preds, axis=0)\n",
    "np.corrcoef(gmean_preds, np.mean(all_preds, axis=0))"
   ]
  },
  {
   "cell_type": "code",
   "execution_count": 151,
   "metadata": {},
   "outputs": [],
   "source": [
    "filename = f'submissions/lgb_with_second_subcard{best_score:0.7}.csv.gz'"
   ]
  },
  {
   "cell_type": "code",
   "execution_count": 152,
   "metadata": {},
   "outputs": [],
   "source": [
    "sub = pd.read_csv('data/sample_submission.csv')\n",
    "sub['isFraud'] = gmean_preds\n",
    "sub.to_csv(filename, index=False)"
   ]
  },
  {
   "cell_type": "code",
   "execution_count": 153,
   "metadata": {},
   "outputs": [
    {
     "name": "stdout",
     "output_type": "stream",
     "text": [
      "100%|██████████████████████████████████████| 5.74M/5.74M [00:03<00:00, 1.57MB/s]\n",
      "Successfully submitted to IEEE-CIS Fraud Detection"
     ]
    }
   ],
   "source": [
    "!KAGGLE_USERNAME=tishur KAGGLE_KEY=28da1297bec180204c1c524afa6f3d2e kaggle competitions submit ieee-fraud-detection -f {filename} -m \"x\""
   ]
  },
  {
   "cell_type": "code",
   "execution_count": null,
   "metadata": {},
   "outputs": [],
   "source": []
  }
 ],
 "metadata": {
  "kernelspec": {
   "display_name": "Python [conda env:experiments]",
   "language": "python",
   "name": "conda-env-experiments-py"
  },
  "language_info": {
   "codemirror_mode": {
    "name": "ipython",
    "version": 3
   },
   "file_extension": ".py",
   "mimetype": "text/x-python",
   "name": "python",
   "nbconvert_exporter": "python",
   "pygments_lexer": "ipython3",
   "version": "3.7.4"
  }
 },
 "nbformat": 4,
 "nbformat_minor": 2
}
