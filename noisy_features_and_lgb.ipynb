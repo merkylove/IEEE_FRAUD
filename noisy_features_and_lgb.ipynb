{
 "cells": [
  {
   "cell_type": "code",
   "execution_count": 1,
   "metadata": {},
   "outputs": [],
   "source": [
    "import pandas as pd\n",
    "import numpy as np\n",
    "\n",
    "import lightgbm as lgb\n",
    "import catboost as cbt\n",
    "\n",
    "import datetime\n",
    "\n",
    "from sklearn.preprocessing import LabelEncoder\n",
    "%matplotlib inline\n",
    "import matplotlib.pyplot as plt\n",
    "import seaborn as sns\n",
    "import warnings\n",
    "warnings.simplefilter(action='ignore', category=FutureWarning)"
   ]
  },
  {
   "cell_type": "code",
   "execution_count": 2,
   "metadata": {},
   "outputs": [],
   "source": [
    "import sys\n",
    "sys.path.insert(0, 'IEEE_FRAUD')"
   ]
  },
  {
   "cell_type": "raw",
   "metadata": {},
   "source": [
    "train_identity = pd.read_csv(f'{folder_path}train_identity.csv')\n",
    "train_transaction = pd.read_csv(f'{folder_path}train_transaction.csv')\n",
    "test_identity = pd.read_csv(f'{folder_path}test_identity.csv')\n",
    "test_transaction = pd.read_csv(f'{folder_path}test_transaction.csv')\n",
    "sub = pd.read_csv(f'{folder_path}sample_submission.csv')\n",
    "# let's combine the data and work with the whole dataset\n",
    "train = pd.merge(train_transaction, train_identity, on='TransactionID', how='left')\n",
    "test = pd.merge(test_transaction, test_identity, on='TransactionID', how='left')"
   ]
  },
  {
   "cell_type": "code",
   "execution_count": 3,
   "metadata": {},
   "outputs": [],
   "source": [
    "identity_cols = !head -1 data/train_identity.csv\n",
    "identity_cols = identity_cols[0].split(',')"
   ]
  },
  {
   "cell_type": "code",
   "execution_count": 4,
   "metadata": {},
   "outputs": [
    {
     "name": "stdout",
     "output_type": "stream",
     "text": [
      "CPU times: user 1.74 s, sys: 3.72 s, total: 5.46 s\n",
      "Wall time: 27.6 s\n"
     ]
    }
   ],
   "source": [
    "%%time\n",
    "folder_path = 'data/'\n",
    "train = pd.read_pickle(f'{folder_path}train.pkl')\n",
    "test = pd.read_pickle(f'{folder_path}test.pkl')"
   ]
  },
  {
   "cell_type": "code",
   "execution_count": 5,
   "metadata": {},
   "outputs": [],
   "source": [
    "N_TRAIN_EXAMPLES = len(train)"
   ]
  },
  {
   "cell_type": "code",
   "execution_count": 6,
   "metadata": {},
   "outputs": [],
   "source": [
    "tr_am = pd.read_csv(f'{folder_path}train_transaction.csv', usecols=['TransactionAmt'], dtype=str)\n",
    "te_am = pd.read_csv(f'{folder_path}test_transaction.csv', usecols=['TransactionAmt'], dtype=str)\n",
    "train[['dollars', 'cents']] = tr_am.TransactionAmt.str.split('.', expand=True).astype(int)\n",
    "test[['dollars', 'cents']] = te_am.TransactionAmt.str.split('.', expand=True).astype(int)"
   ]
  },
  {
   "cell_type": "code",
   "execution_count": 7,
   "metadata": {},
   "outputs": [],
   "source": [
    "roman_df = pd.read_pickle('new_roman_features.pkl')"
   ]
  },
  {
   "cell_type": "code",
   "execution_count": 8,
   "metadata": {},
   "outputs": [],
   "source": [
    "roman_df.reset_index(drop=True, inplace=True)\n",
    "roman_df.set_index('index', inplace=True)"
   ]
  },
  {
   "cell_type": "code",
   "execution_count": 9,
   "metadata": {},
   "outputs": [],
   "source": [
    "roman_df.drop(labels=['is_foreign', 'is_holiday'], inplace=True, axis=1)"
   ]
  },
  {
   "cell_type": "code",
   "execution_count": 10,
   "metadata": {
    "scrolled": false
   },
   "outputs": [],
   "source": [
    "roman_feature_names = set(roman_df.columns.to_list())"
   ]
  },
  {
   "cell_type": "code",
   "execution_count": 11,
   "metadata": {},
   "outputs": [],
   "source": [
    "MODEL_FEATURES = set(test.columns) - set(['TransactionDT', 'TransactionID'])"
   ]
  },
  {
   "cell_type": "code",
   "execution_count": 12,
   "metadata": {},
   "outputs": [],
   "source": [
    "basic_features = set(test.columns) - set(['TransactionDT', 'TransactionID'])"
   ]
  },
  {
   "cell_type": "code",
   "execution_count": 13,
   "metadata": {},
   "outputs": [],
   "source": [
    "CATEGORICAL_FEATURES =  set(['id_12', 'id_13', 'id_14', 'id_15', 'id_16', 'id_17', 'id_18', 'id_19',\n",
    "            'id_20', 'id_21', 'id_22', 'id_23', 'id_24', 'id_25', 'id_26', 'id_27', 'id_28', 'id_29',\n",
    "            'id_30', 'id_31', 'id_32', 'id_33', 'id_34', 'id_35', 'id_36', 'id_37',\n",
    "            'id_38', 'DeviceType', 'DeviceInfo', 'ProductCD', 'card4', 'card6', 'M4','P_emaildomain',\n",
    "            'R_emaildomain', 'card1', 'card2', 'card3',  'card5', 'addr1', 'addr2', \n",
    "            'M1', 'M2', 'M3', 'M5', 'M6', 'M7', 'M8', 'M9'])"
   ]
  },
  {
   "cell_type": "markdown",
   "metadata": {},
   "source": [
    "Говорят, что неплохо бы дропнуть те карты, которые не встречается или в трейне, или в тесте"
   ]
  },
  {
   "cell_type": "code",
   "execution_count": 16,
   "metadata": {},
   "outputs": [
    {
     "name": "stdout",
     "output_type": "stream",
     "text": [
      "Rare cards 1097231\n",
      "No intersection in Train 10396\n",
      "Intersection in Train 580144\n",
      "####################\n",
      "No intersection in Train card2 5012\n",
      "Intersection in Train card2 585528\n",
      "####################\n",
      "No intersection in Train card3 47\n",
      "Intersection in Train card3 590493\n",
      "####################\n",
      "No intersection in Train card4 0\n",
      "Intersection in Train card4 590540\n",
      "####################\n",
      "No intersection in Train card5 7279\n",
      "Intersection in Train card5 583261\n",
      "####################\n",
      "No intersection in Train card6 30\n",
      "Intersection in Train card6 590510\n",
      "####################\n"
     ]
    }
   ],
   "source": [
    "for col in ['card1']: \n",
    "    valid_card = pd.concat([train[[col]], test[[col]]])\n",
    "    valid_card_std = valid_card.values.std()\n",
    "\n",
    "    invalid_cards = valid_card[valid_card <= 2]\n",
    "    print('Rare cards',len(invalid_cards))\n",
    "\n",
    "    valid_card = valid_card[valid_card > 2]\n",
    "    valid_card = list(valid_card.index)\n",
    "\n",
    "    print('No intersection in Train', len(train[~train[col].isin(test[col])]))\n",
    "    print('Intersection in Train', len(train[train[col].isin(test[col])]))\n",
    "    \n",
    "    train[col] = np.where(train[col].isin(test[col]), train[col], np.nan)\n",
    "    test[col]  = np.where(test[col].isin(train[col]), test[col], np.nan)\n",
    "\n",
    "    train[col] = np.where(train[col].isin(valid_card), train[col], np.nan)\n",
    "    test[col]  = np.where(test[col].isin(valid_card), test[col], np.nan)\n",
    "    print('#'*20)\n",
    "\n",
    "for col in ['card2','card3','card4','card5','card6',]: \n",
    "    print('No intersection in Train', col, len(train[~train[col].isin(test[col])]))\n",
    "    print('Intersection in Train', col, len(train[train[col].isin(test[col])]))\n",
    "    \n",
    "    train[col] = np.where(train[col].isin(test[col]), train[col], np.nan)\n",
    "    test[col]  = np.where(test[col].isin(train[col]), test[col], np.nan)\n",
    "    print('#'*20)"
   ]
  },
  {
   "cell_type": "code",
   "execution_count": 17,
   "metadata": {},
   "outputs": [],
   "source": [
    "all_df = pd.concat([train, test])\n",
    "all_df = pd.concat([all_df, roman_df], axis=1)"
   ]
  },
  {
   "cell_type": "markdown",
   "metadata": {},
   "source": [
    "# Фичи по датам"
   ]
  },
  {
   "cell_type": "code",
   "execution_count": 18,
   "metadata": {},
   "outputs": [],
   "source": [
    "from pandas.tseries.holiday import USFederalHolidayCalendar as calendar\n",
    "\n",
    "dates_range = pd.date_range(start='2017-10-01', end='2019-01-01')\n",
    "us_holidays = calendar().holidays(start=dates_range.min(), end=dates_range.max())"
   ]
  },
  {
   "cell_type": "code",
   "execution_count": 19,
   "metadata": {},
   "outputs": [],
   "source": [
    "START_DATE = datetime.datetime.strptime('2017-11-30', '%Y-%m-%d')\n"
   ]
  },
  {
   "cell_type": "code",
   "execution_count": 20,
   "metadata": {},
   "outputs": [],
   "source": [
    "del train, test, roman_df"
   ]
  },
  {
   "cell_type": "code",
   "execution_count": 21,
   "metadata": {},
   "outputs": [],
   "source": [
    "import gc"
   ]
  },
  {
   "cell_type": "code",
   "execution_count": 22,
   "metadata": {},
   "outputs": [
    {
     "data": {
      "text/plain": [
       "3920"
      ]
     },
     "execution_count": 22,
     "metadata": {},
     "output_type": "execute_result"
    }
   ],
   "source": [
    "gc.collect()"
   ]
  },
  {
   "cell_type": "code",
   "execution_count": 23,
   "metadata": {},
   "outputs": [],
   "source": [
    "def datetime_features(all_df):\n",
    "    all_df['DT'] = all_df['TransactionDT'].apply(lambda x: (START_DATE + datetime.timedelta(seconds = x)))\n",
    "    all_df['dayofweek'] = all_df['DT'].dt.dayofweek\n",
    "    all_df['dayofmonth'] = all_df['DT'].dt.day\n",
    "    all_df['hour'] = all_df['DT'].dt.hour\n",
    "    all_df['weekofmonth'] = (all_df['DT'].dt.day - 1) // 7 + 1\n",
    "    #all_df['is_holiday'] = (all_df['DT'].dt.date.astype('datetime64').isin(us_holidays)).astype(np.int8)\n",
    "    new_features = ['dayofweek', 'dayofmonth', 'hour', 'weekofmonth']#, 'is_holiday']\n",
    "    return new_features, new_features"
   ]
  },
  {
   "cell_type": "code",
   "execution_count": 24,
   "metadata": {},
   "outputs": [
    {
     "name": "stdout",
     "output_type": "stream",
     "text": [
      "CPU times: user 1.43 s, sys: 36 ms, total: 1.46 s\n",
      "Wall time: 1.46 s\n"
     ]
    }
   ],
   "source": [
    "%%time\n",
    "a, c = datetime_features(all_df)\n",
    "MODEL_FEATURES.update(a)\n",
    "CATEGORICAL_FEATURES.update(c)"
   ]
  },
  {
   "cell_type": "code",
   "execution_count": 25,
   "metadata": {},
   "outputs": [],
   "source": [
    "all_df['DT_split'] = (all_df['DT'].dt.year - 2017) * 12 + all_df['DT'].dt.month\n",
    "N_TRAIN = sum(all_df['DT_split'] < 17)"
   ]
  },
  {
   "cell_type": "code",
   "execution_count": 26,
   "metadata": {},
   "outputs": [],
   "source": [
    "all_df['day'] = ((all_df['DT'].dt.year-2017)*365 + all_df['DT'].dt.dayofyear).astype(np.int16)\n",
    "all_df['hour_day'] = all_df['DT'].dt.hour + 24 * (all_df['day'] - 335)"
   ]
  },
  {
   "cell_type": "markdown",
   "metadata": {},
   "source": [
    "# D-features"
   ]
  },
  {
   "cell_type": "code",
   "execution_count": 27,
   "metadata": {},
   "outputs": [],
   "source": [
    "d_cols = [col for col in all_df.columns if col.startswith('D') and not col[-1:].isalpha() and col != 'D9']"
   ]
  },
  {
   "cell_type": "code",
   "execution_count": 28,
   "metadata": {},
   "outputs": [
    {
     "data": {
      "text/plain": [
       "['D1',\n",
       " 'D10',\n",
       " 'D11',\n",
       " 'D12',\n",
       " 'D13',\n",
       " 'D14',\n",
       " 'D15',\n",
       " 'D2',\n",
       " 'D3',\n",
       " 'D4',\n",
       " 'D5',\n",
       " 'D6',\n",
       " 'D7',\n",
       " 'D8']"
      ]
     },
     "execution_count": 28,
     "metadata": {},
     "output_type": "execute_result"
    }
   ],
   "source": [
    "d_cols"
   ]
  },
  {
   "cell_type": "code",
   "execution_count": 29,
   "metadata": {},
   "outputs": [],
   "source": [
    "d_cols_notnull = [d + '_notnull' for d in d_cols + ['D9']]\n",
    "all_df[d_cols_notnull] = all_df[d_cols + ['D9']].notnull()"
   ]
  },
  {
   "cell_type": "code",
   "execution_count": 30,
   "metadata": {},
   "outputs": [],
   "source": [
    "# Lets transform D8 and D9 column\n",
    "# As we almost sure it has connection with hours\n",
    "all_df['D8_not_same_day'] = np.where(all_df['D8']>=1,1,0)\n",
    "all_df['D8_D9_decimal_dist'] = all_df['D8'].fillna(0)-all_df['D8'].fillna(0).astype(int)\n",
    "all_df['D8_D9_decimal_dist'] = ((all_df['D8_D9_decimal_dist']-all_df['D9'])**2)**0.5\n",
    "all_df['D8'] = all_df['D8'].fillna(-1).astype(int)"
   ]
  },
  {
   "cell_type": "code",
   "execution_count": 31,
   "metadata": {},
   "outputs": [],
   "source": [
    "MODEL_FEATURES.update(['D8_not_same_day', 'D8_D9_decimal_dist', 'D8_D9_decimal_dist'])"
   ]
  },
  {
   "cell_type": "code",
   "execution_count": 32,
   "metadata": {},
   "outputs": [],
   "source": [
    "def values_normalization(all_df, period, col, clip=True, minmax=True):\n",
    "        new_col = col + '_' + period\n",
    "        df = all_df[[col, period]].copy()\n",
    "        df[col] = df[col].astype(float)\n",
    "        if clip:\n",
    "            df[col] = df[col].clip(0) \n",
    "\n",
    "        aggs = df.groupby([period])[col].agg(['min', 'max', 'std', 'mean'])\n",
    "        \n",
    "        agg_max = aggs['max'].to_dict()\n",
    "        agg_min = aggs['min'].to_dict()\n",
    "        agg_std = aggs['std'].to_dict()\n",
    "        agg_mean = aggs['mean'].to_dict()\n",
    "\n",
    "        all_df['temp_min'] = all_df[period].map(agg_max)\n",
    "        all_df['temp_max'] = all_df[period].map(agg_min)\n",
    "        all_df['temp_std'] = all_df[period].map(agg_std)\n",
    "        all_df['temp_mean'] = all_df[period].map(agg_mean)\n",
    "        \n",
    "\n",
    "        all_df[new_col + '_min_max'] = ((all_df[col] - all_df['temp_min']) /\\\n",
    "                (all_df['temp_max'] - all_df['temp_min'])).astype(float)\n",
    "        \n",
    "        all_df[new_col + '_std_score'] = (all_df[col] - all_df['temp_mean']) / (all_df['temp_std'])\n",
    "\n",
    "        del all_df['temp_min'], all_df['temp_max'], all_df['temp_std'], all_df['temp_mean']"
   ]
  },
  {
   "cell_type": "code",
   "execution_count": 33,
   "metadata": {},
   "outputs": [
    {
     "name": "stdout",
     "output_type": "stream",
     "text": [
      "CPU times: user 23.7 s, sys: 31.3 s, total: 55 s\n",
      "Wall time: 55 s\n"
     ]
    }
   ],
   "source": [
    "%%time\n",
    "for period in ['day']:\n",
    "    for col in d_cols:\n",
    "        values_normalization(all_df, period, col, minmax=True)"
   ]
  },
  {
   "cell_type": "code",
   "execution_count": 34,
   "metadata": {},
   "outputs": [],
   "source": [
    "for col in ['D1','D2']:\n",
    "    all_df[col + '_scaled'] = all_df[col] / all_df[:N_TRAIN_EXAMPLES][col].max()"
   ]
  },
  {
   "cell_type": "code",
   "execution_count": 35,
   "metadata": {},
   "outputs": [],
   "source": [
    "MODEL_FEATURES.update(['D1_scaled', 'D2_scaled'])"
   ]
  },
  {
   "cell_type": "markdown",
   "metadata": {},
   "source": [
    "# E-mail features"
   ]
  },
  {
   "cell_type": "code",
   "execution_count": null,
   "metadata": {},
   "outputs": [],
   "source": [
    "def mail_split_features(df):\n",
    "    p_domain = ['P_emaildomain_1', 'P_emaildomain_2', 'P_emaildomain_3']\n",
    "    r_domain = ['R_emaildomain_1', 'R_emaildomain_2', 'R_emaildomain_3']\n",
    "    all_df[p_domain] =\\\n",
    "        all_df['P_emaildomain'].str.split('.', expand=True)\n",
    "    all_df[r_domain] =\\\n",
    "        all_df['P_emaildomain'].str.split('.', expand=True)\n",
    "    return p_domain + r_domain, p_domain + r_domain\n",
    "    "
   ]
  },
  {
   "cell_type": "code",
   "execution_count": null,
   "metadata": {},
   "outputs": [],
   "source": [
    "%%time\n",
    "a, c = mail_split_features(all_df)\n",
    "MODEL_FEATURES.update(a)\n",
    "CATEGORICAL_FEATURES.update(c)"
   ]
  },
  {
   "cell_type": "markdown",
   "metadata": {},
   "source": [
    "# Device info"
   ]
  },
  {
   "cell_type": "code",
   "execution_count": 36,
   "metadata": {},
   "outputs": [],
   "source": [
    "all_df['DeviceInfo'].fillna('', inplace=True)\n",
    "all_df['id_30'].fillna('', inplace=True)\n",
    "all_df['id_31'].fillna('', inplace=True)"
   ]
  },
  {
   "cell_type": "code",
   "execution_count": null,
   "metadata": {},
   "outputs": [],
   "source": [
    "def add_device_features(all_df):\n",
    "    all_df['DeviceInfoMajor'] = all_df['DeviceInfo'].str.split(' ', expand=True)[0]\n",
    "    all_df['DeviceInfoTop'] = all_df['DeviceInfo'].str.split('-', expand=True)[0]\n",
    "    all_df['DeviceInfoIsRV'] = all_df['DeviceInfoMajor'].apply(lambda x: 'rv' in x)\n",
    "    return ['DeviceInfoMajor', 'DeviceInfoTop', 'DeviceInfoIsRV'], ['DeviceInfoMajor', 'DeviceInfoTop']"
   ]
  },
  {
   "cell_type": "code",
   "execution_count": null,
   "metadata": {},
   "outputs": [],
   "source": [
    "%%time\n",
    "a, c = add_device_features(all_df)\n",
    "MODEL_FEATURES.update(a)\n",
    "CATEGORICAL_FEATURES.update(c)"
   ]
  },
  {
   "cell_type": "code",
   "execution_count": null,
   "metadata": {},
   "outputs": [],
   "source": [
    "def split_version(version):\n",
    "    n_sep_a = version.count('.')\n",
    "    n_sep_b = version.count('_')\n",
    "    if n_sep_a > 0:\n",
    "        return version.split('.')[0]\n",
    "    elif n_sep_b > 0:\n",
    "        return version.split('_')[0]\n",
    "    else:\n",
    "        return version\n",
    "\n",
    "def split_os(os):\n",
    "    spl = os.split(' ')\n",
    "    if len(spl) > 1:\n",
    "        os_name = ' '.join(spl[:-1])\n",
    "        major_version = split_version(spl[-1])\n",
    "        return os_name, ' '.join([os_name, major_version])\n",
    "    else:\n",
    "        return os, ''\n",
    "# TODO: add minor"
   ]
  },
  {
   "cell_type": "code",
   "execution_count": null,
   "metadata": {},
   "outputs": [],
   "source": [
    "def add_os_features(all_df):\n",
    "    os, version = zip(*all_df['id_30'].apply(lambda x: split_os(x)).values)\n",
    "    all_df['OSName'] = os\n",
    "    all_df['OSMajorVersion'] = version\n",
    "    return ['OSName', 'OSMajorVersion'], ['OSName', 'OSMajorVersion']"
   ]
  },
  {
   "cell_type": "code",
   "execution_count": null,
   "metadata": {},
   "outputs": [],
   "source": [
    "%%time\n",
    "a, c = add_os_features(all_df)\n",
    "MODEL_FEATURES.update(a)\n",
    "CATEGORICAL_FEATURES.update(c)"
   ]
  },
  {
   "cell_type": "code",
   "execution_count": 37,
   "metadata": {},
   "outputs": [],
   "source": [
    "# SHAME ON ME\n",
    "def get_browser(browser):\n",
    "    if 'safari' in browser:\n",
    "        return 'safari'\n",
    "    \n",
    "    if 'chrome' in browser:\n",
    "        return 'chrome'\n",
    "    \n",
    "    if browser.startswith('ie'):\n",
    "        return 'internetexplorer'\n",
    "    \n",
    "    if 'edge' in browser:\n",
    "        return 'edge'\n",
    "    \n",
    "    if 'firefox' in browser.lower():\n",
    "        return 'firefox'\n",
    "    \n",
    "    if 'samsung' in browser.lower():\n",
    "        return 'samsung'\n",
    "    \n",
    "    if 'google' in browser:\n",
    "        return 'google'\n",
    "    \n",
    "    if 'opera' in browser:\n",
    "        return 'opera'\n",
    "    \n",
    "    if 'android' in browser.lower():\n",
    "        return 'android'\n",
    "    \n",
    "    return browser\n",
    "\n",
    "def is_mobile(browser):\n",
    "    br = browser.lower()\n",
    "    if 'mobile' in br or 'for android' in br:\n",
    "        return True\n",
    "    else:\n",
    "        return False\n"
   ]
  },
  {
   "cell_type": "code",
   "execution_count": 38,
   "metadata": {},
   "outputs": [],
   "source": [
    "def get_browser_features(all_df):\n",
    "    all_df['Browser'] = all_df['id_31'].apply(lambda x: get_browser(x))\n",
    "    all_df['IsMobile'] = all_df['id_31'].apply(lambda x: is_mobile(x))\n",
    "    all_df['VersionNum'] = all_df['id_31'].fillna('0').\\\n",
    "        apply(lambda x: ''.join([i for i in x if i.isnumeric()]))\n",
    "    #all_df['BrowserVersion'] = all_df['Browser'] + ' ' + all_df['VersionNum'].astype('str')\n",
    "    \n",
    "    return ['Browser', 'IsMobile', 'VersionNum'],  ['Browser', 'IsMobile']"
   ]
  },
  {
   "cell_type": "code",
   "execution_count": 39,
   "metadata": {},
   "outputs": [
    {
     "name": "stdout",
     "output_type": "stream",
     "text": [
      "CPU times: user 1.48 s, sys: 0 ns, total: 1.48 s\n",
      "Wall time: 1.48 s\n"
     ]
    }
   ],
   "source": [
    "%%time\n",
    "a, c = get_browser_features(all_df)\n",
    "MODEL_FEATURES.update(a)\n",
    "CATEGORICAL_FEATURES.update(c)"
   ]
  },
  {
   "cell_type": "code",
   "execution_count": null,
   "metadata": {},
   "outputs": [],
   "source": [
    "all_df.shape"
   ]
  },
  {
   "cell_type": "markdown",
   "metadata": {},
   "source": [
    "# Some with M"
   ]
  },
  {
   "cell_type": "code",
   "execution_count": 40,
   "metadata": {},
   "outputs": [],
   "source": [
    "########################### M columns (except M4)\n",
    "# All these columns are binary encoded 1/0\n",
    "# We can have some features from it\n",
    "i_cols = ['M1','M2','M3','M5','M6','M7','M8','M9']\n",
    "\n",
    "all_df['M_sum'] = all_df[i_cols].sum(axis=1).astype(np.int8)\n",
    "all_df['M_na'] = all_df[i_cols].isna().sum(axis=1).astype(np.int8)\n",
    "\n",
    "MODEL_FEATURES.update(['M_sum', 'M_na'])"
   ]
  },
  {
   "cell_type": "markdown",
   "metadata": {},
   "source": [
    "# NaN count"
   ]
  },
  {
   "cell_type": "code",
   "execution_count": 41,
   "metadata": {},
   "outputs": [],
   "source": [
    "all_df['notnull_count'] = all_df[basic_features].notnull().sum(axis=1)"
   ]
  },
  {
   "cell_type": "code",
   "execution_count": 42,
   "metadata": {},
   "outputs": [],
   "source": [
    "MODEL_FEATURES.add('notnull_count')"
   ]
  },
  {
   "cell_type": "markdown",
   "metadata": {},
   "source": [
    "# UID"
   ]
  },
  {
   "cell_type": "code",
   "execution_count": 43,
   "metadata": {},
   "outputs": [],
   "source": [
    "cols_for_uid = ['card1', 'card2', 'card3', 'card5', 'addr1', 'addr2']"
   ]
  },
  {
   "cell_type": "code",
   "execution_count": 44,
   "metadata": {},
   "outputs": [],
   "source": [
    "all_df[cols_for_uid] = all_df[cols_for_uid].astype(str)"
   ]
  },
  {
   "cell_type": "code",
   "execution_count": 45,
   "metadata": {},
   "outputs": [],
   "source": [
    "all_df['uid1'] = all_df['card1'] + '_' + all_df['card2']\n",
    "\n",
    "all_df['uid2'] = all_df['uid1'] + '_' + all_df['card3'] + '_' + all_df['card5']\n",
    "\n",
    "all_df['uid3'] = all_df['uid2'] + '_' + all_df['addr1'] + '_' + all_df['addr2']\n",
    "\n",
    "all_df['uid4'] = all_df['uid3'] + '_' + all_df['P_emaildomain']\n",
    "\n",
    "all_df['uid5'] = all_df['uid3'] + '_' + all_df['R_emaildomain']\n",
    "\n",
    "all_df['card_and_subcard'] = all_df['card1'] + all_df['subcard_categorical'].astype('str')"
   ]
  },
  {
   "cell_type": "code",
   "execution_count": 46,
   "metadata": {},
   "outputs": [],
   "source": [
    "uids = [f'uid{i}' for i in range(1, 6)] + ['card_and_subcard']"
   ]
  },
  {
   "cell_type": "markdown",
   "metadata": {},
   "source": [
    " # TransactionAmt features"
   ]
  },
  {
   "cell_type": "markdown",
   "metadata": {},
   "source": [
    "Говорят, если в сумме транзакции есть более двух чисел после запятой, то это транзакция в иностранной валюте"
   ]
  },
  {
   "cell_type": "code",
   "execution_count": 47,
   "metadata": {},
   "outputs": [],
   "source": [
    "all_df['is_foreign'] = all_df['cents'].apply(lambda x: len(str(x)) > 2)"
   ]
  },
  {
   "cell_type": "code",
   "execution_count": 48,
   "metadata": {},
   "outputs": [],
   "source": [
    "MODEL_FEATURES.add('is_foreign')"
   ]
  },
  {
   "cell_type": "markdown",
   "metadata": {},
   "source": [
    "А раз уникальных TransactionAmt не очень много, то почему бы не добавить nunique для каждого из айдишников сверху"
   ]
  },
  {
   "cell_type": "code",
   "execution_count": 49,
   "metadata": {},
   "outputs": [
    {
     "data": {
      "text/plain": [
       "29806"
      ]
     },
     "execution_count": 49,
     "metadata": {},
     "output_type": "execute_result"
    }
   ],
   "source": [
    "all_df['TransactionAmt'].nunique()"
   ]
  },
  {
   "cell_type": "code",
   "execution_count": 50,
   "metadata": {},
   "outputs": [],
   "source": [
    "from sklearn.preprocessing import QuantileTransformer\n",
    "from collections import Counter"
   ]
  },
  {
   "cell_type": "code",
   "execution_count": 51,
   "metadata": {},
   "outputs": [
    {
     "name": "stdout",
     "output_type": "stream",
     "text": [
      "CPU times: user 10.5 s, sys: 5.53 s, total: 16 s\n",
      "Wall time: 16 s\n"
     ]
    }
   ],
   "source": [
    "%%time\n",
    "unique_amt_cols = []\n",
    "for uid in uids:\n",
    "    uniques = all_df.groupby(uid)['TransactionAmt'].nunique()\n",
    "    all_df[uid + '_unique_amt'] = all_df[uid].map(uniques)\n",
    "    unique_amt_cols.append(uid + '_unique_amt')\n",
    "    \n",
    "QT = QuantileTransformer(n_quantiles=500)\n",
    "all_df[unique_amt_cols] = QT.fit_transform(all_df[unique_amt_cols])"
   ]
  },
  {
   "cell_type": "code",
   "execution_count": 52,
   "metadata": {},
   "outputs": [],
   "source": [
    "MODEL_FEATURES.update(unique_amt_cols)"
   ]
  },
  {
   "cell_type": "markdown",
   "metadata": {},
   "source": [
    "# Следующая транзакция"
   ]
  },
  {
   "cell_type": "code",
   "execution_count": 61,
   "metadata": {},
   "outputs": [],
   "source": [
    "all_df.set_index('card_and_subcard', inplace=True)"
   ]
  },
  {
   "cell_type": "code",
   "execution_count": 108,
   "metadata": {},
   "outputs": [
    {
     "name": "stdout",
     "output_type": "stream",
     "text": [
      "CPU times: user 5min 32s, sys: 7.98 s, total: 5min 40s\n",
      "Wall time: 5min 39s\n"
     ]
    }
   ],
   "source": [
    "%%time\n",
    "same_cols = []\n",
    "for i in range(1, 4):\n",
    "    a = 'is_same_next_transaction_' + str(i)\n",
    "    b = 'is_same_prev_transaction_' + str(i)\n",
    "    all_df[a] = all_df.groupby('card_and_subcard')['TransactionAmt'].diff(i) == 0\n",
    "    all_df[b] = all_df.groupby('card_and_subcard')['TransactionAmt'].diff(-i) == 0\n",
    "    same_cols.extend([a, b])"
   ]
  },
  {
   "cell_type": "code",
   "execution_count": 109,
   "metadata": {},
   "outputs": [],
   "source": [
    "all_df['same_transaction_near_subcard'] = all_df[same_cols].sum(axis=1)"
   ]
  },
  {
   "cell_type": "code",
   "execution_count": 110,
   "metadata": {},
   "outputs": [],
   "source": [
    "MODEL_FEATURES.add('same_transaction_near_subcard')"
   ]
  },
  {
   "cell_type": "code",
   "execution_count": 111,
   "metadata": {},
   "outputs": [],
   "source": [
    "all_df.drop(same_cols, axis=1, inplace=True)"
   ]
  },
  {
   "cell_type": "code",
   "execution_count": 112,
   "metadata": {},
   "outputs": [],
   "source": [
    "all_df.reset_index(inplace=True)"
   ]
  },
  {
   "cell_type": "code",
   "execution_count": null,
   "metadata": {},
   "outputs": [],
   "source": [
    "is_same_cols = ['is_same_next_transaction', 'is_same_prev_transaction']"
   ]
  },
  {
   "cell_type": "markdown",
   "metadata": {},
   "source": [
    "# Frequency Encoding"
   ]
  },
  {
   "cell_type": "code",
   "execution_count": 65,
   "metadata": {},
   "outputs": [],
   "source": [
    "def encode_frequency(col, quantile=True):\n",
    "    return col.map(col.value_counts().to_dict())"
   ]
  },
  {
   "cell_type": "code",
   "execution_count": 66,
   "metadata": {},
   "outputs": [
    {
     "name": "stdout",
     "output_type": "stream",
     "text": [
      "CPU times: user 25.9 s, sys: 10.8 s, total: 36.7 s\n",
      "Wall time: 36.7 s\n"
     ]
    }
   ],
   "source": [
    "%%time\n",
    "freq_cols = []\n",
    "for col in list(CATEGORICAL_FEATURES) + uids + ['cents', 'dollars']:\n",
    "    all_df[col + '_freq'] = encode_frequency(all_df[col])\n",
    "    freq_cols.append(col + '_freq')\n",
    "    \n",
    "QT = QuantileTransformer(n_quantiles=500)\n",
    "all_df[freq_cols] = QT.fit_transform(all_df[freq_cols])"
   ]
  },
  {
   "cell_type": "code",
   "execution_count": 67,
   "metadata": {},
   "outputs": [],
   "source": [
    "MODEL_FEATURES.update(freq_cols)"
   ]
  },
  {
   "cell_type": "markdown",
   "metadata": {},
   "source": [
    "# Categorical"
   ]
  },
  {
   "cell_type": "code",
   "execution_count": 68,
   "metadata": {},
   "outputs": [],
   "source": [
    "from multiprocessing import Pool"
   ]
  },
  {
   "cell_type": "code",
   "execution_count": 69,
   "metadata": {},
   "outputs": [],
   "source": [
    "def encode(col):\n",
    "    le = LabelEncoder()\n",
    "    le.fit(all_df[col].astype(str).values)\n",
    "    return le.transform(all_df[col].astype(str).values)"
   ]
  },
  {
   "cell_type": "code",
   "execution_count": 70,
   "metadata": {},
   "outputs": [],
   "source": [
    "all_df['cents_categorical'] = all_df['cents'].copy()\n",
    "all_df['dollars_categorical'] = all_df['dollars'].copy()"
   ]
  },
  {
   "cell_type": "code",
   "execution_count": 71,
   "metadata": {},
   "outputs": [],
   "source": [
    "CATEGORICAL_FEATURES.update(['cents_categorical', 'dollars_categorical'])"
   ]
  },
  {
   "cell_type": "code",
   "execution_count": 72,
   "metadata": {},
   "outputs": [],
   "source": [
    "MODEL_FEATURES.update(['cents_categorical', 'dollars_categorical'])"
   ]
  },
  {
   "cell_type": "code",
   "execution_count": 73,
   "metadata": {},
   "outputs": [
    {
     "name": "stdout",
     "output_type": "stream",
     "text": [
      "CPU times: user 20.6 s, sys: 21.2 s, total: 41.8 s\n",
      "Wall time: 45 s\n"
     ]
    }
   ],
   "source": [
    "%%time\n",
    "with Pool(16) as pool:\n",
    "    encodes = pool.map(encode, CATEGORICAL_FEATURES)\n",
    "\n",
    "for name, enc in zip(CATEGORICAL_FEATURES, encodes):\n",
    "    all_df[name] = enc"
   ]
  },
  {
   "cell_type": "markdown",
   "metadata": {},
   "source": [
    "# Numerical encoding"
   ]
  },
  {
   "cell_type": "code",
   "execution_count": 74,
   "metadata": {},
   "outputs": [],
   "source": [
    "def calc_smooth_encoding(all_df, by, on, m):\n",
    "    # Compute the global mean\n",
    "    mean = all_df[on].mean()\n",
    "    \n",
    "    std = all_df[on].std()\n",
    "    \n",
    "    median = np.nanmedian(all_df[on])\n",
    "\n",
    "    # Compute the number of values and the mean of each group\n",
    "    agg = all_df.groupby(by)[on].agg(['count', 'mean', 'std', np.nanmedian])\n",
    "    counts = agg['count']\n",
    "    means = agg['mean']\n",
    "    stds = agg['std']\n",
    "    medians = agg['nanmedian']\n",
    "    \n",
    "\n",
    "    # Compute the \"smoothed\" means\n",
    "    smooth = (counts * means + m * mean) / (counts + m)\n",
    "    \n",
    "    smooth_std = (stds * counts + m * std ) / (counts + m)\n",
    "    \n",
    "    smooth_median = (medians * counts + m * median ) / (counts + m)\n",
    "\n",
    "    # Replace each value by the according smoothed mean\n",
    "    return all_df[by].map(smooth), all_df[by].map(smooth_std), all_df[by].map(smooth_median)"
   ]
  },
  {
   "cell_type": "code",
   "execution_count": 75,
   "metadata": {},
   "outputs": [
    {
     "name": "stdout",
     "output_type": "stream",
     "text": [
      "CPU times: user 17.5 s, sys: 17.8 s, total: 35.3 s\n",
      "Wall time: 35.3 s\n"
     ]
    }
   ],
   "source": [
    "%%time\n",
    "amt_features = []\n",
    "for col in uids:\n",
    "    mean, std, median = calc_smooth_encoding(all_df, col, 'TransactionAmt', 30)\n",
    "    all_df[col + '_TransactionAmt_mean'] = mean\n",
    "    all_df[col + '_TransactionAmt_std'] = std\n",
    "    #all_df[col + '_TransactionAmt_median'] = median\n",
    "    amt_features.extend([col + '_TransactionAmt_mean', col + '_TransactionAmt_std'])#, col + '_TransactionAmt_median'])"
   ]
  },
  {
   "cell_type": "code",
   "execution_count": 76,
   "metadata": {},
   "outputs": [
    {
     "name": "stdout",
     "output_type": "stream",
     "text": [
      "CPU times: user 17.5 s, sys: 17.5 s, total: 35 s\n",
      "Wall time: 35 s\n"
     ]
    }
   ],
   "source": [
    "%%time\n",
    "D15_features = []\n",
    "for col in uids:\n",
    "    mean, std, median = calc_smooth_encoding(all_df, col, 'D15_day_min_max', 30)\n",
    "    all_df[col + '_D15_mean'] = mean\n",
    "    all_df[col + '_D15_std'] = std\n",
    "    #all_df[col + '_D15_median'] = median\n",
    "    D15_features.extend([col + '_D15_mean', col + '_D15_std'])#, col + '_D15_median'])"
   ]
  },
  {
   "cell_type": "code",
   "execution_count": 77,
   "metadata": {},
   "outputs": [
    {
     "name": "stdout",
     "output_type": "stream",
     "text": [
      "CPU times: user 17.4 s, sys: 19 s, total: 36.4 s\n",
      "Wall time: 36.4 s\n"
     ]
    }
   ],
   "source": [
    "%%time\n",
    "C13_features = []\n",
    "for col in uids:\n",
    "    mean, std, median = calc_smooth_encoding(all_df, col, 'C13', 30)\n",
    "    all_df[col + '_C13_mean'] = mean\n",
    "    all_df[col + '_C13_std'] = std\n",
    "    #all_df[col + '_C13_median'] = median\n",
    "    C13_features.extend([col + '_C13_mean', col + '_C13_std'])#, col + '_C13_median']"
   ]
  },
  {
   "cell_type": "code",
   "execution_count": 78,
   "metadata": {},
   "outputs": [],
   "source": [
    "MODEL_FEATURES.update(D15_features + C13_features)"
   ]
  },
  {
   "cell_type": "code",
   "execution_count": 79,
   "metadata": {},
   "outputs": [],
   "source": [
    "MODEL_FEATURES.update(amt_features)"
   ]
  },
  {
   "cell_type": "code",
   "execution_count": 80,
   "metadata": {},
   "outputs": [],
   "source": [
    "all_df.to_pickle('all_my_features_sunday.pkl')"
   ]
  },
  {
   "cell_type": "markdown",
   "metadata": {},
   "source": [
    "# Power Transform"
   ]
  },
  {
   "cell_type": "code",
   "execution_count": 144,
   "metadata": {},
   "outputs": [],
   "source": [
    "from sklearn.preprocessing import power_transform\n",
    "from scipy.stats import skew\n",
    "\n",
    "\n",
    "def deskew_this_data(df, col_names, min_skew, method='yeo-johnson'):\n",
    "\n",
    "    transform_cols = []\n",
    "    for col in col_names:\n",
    "        if skew(df[col]) > min_skew:\n",
    "            transform_cols.append(col)\n",
    "\n",
    "    X = df[transform_cols]\n",
    "    n = len(transform_cols)\n",
    "    if n == 0:\n",
    "        return\n",
    "    elif n == 1:\n",
    "        X = X.reshape(-1, 1)\n",
    "    else:\n",
    "        pass\n",
    "\n",
    "    df[transform_cols] = power_transform(X, method=method)"
   ]
  },
  {
   "cell_type": "code",
   "execution_count": 149,
   "metadata": {},
   "outputs": [],
   "source": [
    "numeric_features = list(MODEL_FEATURES - CATEGORICAL_FEATURES)"
   ]
  },
  {
   "cell_type": "code",
   "execution_count": 152,
   "metadata": {},
   "outputs": [
    {
     "data": {
      "text/plain": [
       "<matplotlib.axes._subplots.AxesSubplot at 0x7fe79838cb90>"
      ]
     },
     "execution_count": 152,
     "metadata": {},
     "output_type": "execute_result"
    },
    {
     "data": {
      "image/png": "[encoded data removed]",
      "text/plain": [
       "<Figure size 432x288 with 1 Axes>"
      ]
     },
     "metadata": {
      "needs_background": "light"
     },
     "output_type": "display_data"
    }
   ],
   "source": [
    "all_df['uid1_TransactionAmt_std'].hist(bins=100)"
   ]
  },
  {
   "cell_type": "code",
   "execution_count": 157,
   "metadata": {},
   "outputs": [],
   "source": [
    "res = power_transform(all_df['uid1_TransactionAmt_std'].values.reshape(-1, 1))"
   ]
  },
  {
   "cell_type": "code",
   "execution_count": 165,
   "metadata": {},
   "outputs": [],
   "source": [
    "mask = all_df[numeric_features].dtypes != 'O'"
   ]
  },
  {
   "cell_type": "code",
   "execution_count": 170,
   "metadata": {},
   "outputs": [],
   "source": [
    "numeric_final = np.array(numeric_features)[mask]"
   ]
  },
  {
   "cell_type": "code",
   "execution_count": null,
   "metadata": {},
   "outputs": [],
   "source": [
    "%%time\n",
    "res = power_transform(all_df[numeric_final], method='yeo-johnson')"
   ]
  },
  {
   "cell_type": "code",
   "execution_count": 154,
   "metadata": {},
   "outputs": [
    {
     "data": {
      "text/plain": [
       "masked_array(data=1.18028934,\n",
       "             mask=False,\n",
       "       fill_value=1e+20)"
      ]
     },
     "execution_count": 154,
     "metadata": {},
     "output_type": "execute_result"
    }
   ],
   "source": [
    "skew(all_df['uid1_TransactionAmt_std'], nan_policy='omit')"
   ]
  },
  {
   "cell_type": "code",
   "execution_count": 150,
   "metadata": {},
   "outputs": [
    {
     "data": {
      "text/plain": [
       "['uid5_TransactionAmt_mean',\n",
       " 'dayofmonth_freq',\n",
       " 'V15',\n",
       " 'V118',\n",
       " 'V329',\n",
       " 'V282',\n",
       " 'card_and_subcard_TransactionAmt_mean',\n",
       " 'V159',\n",
       " 'V38',\n",
       " 'V242',\n",
       " 'V43',\n",
       " 'V276',\n",
       " 'V10',\n",
       " 'D10',\n",
       " 'V298',\n",
       " 'uid1_TransactionAmt_std',\n",
       " 'C2',\n",
       " 'V305',\n",
       " 'V32',\n",
       " 'V46',\n",
       " 'V165',\n",
       " 'uid1_TransactionAmt_mean',\n",
       " 'V252',\n",
       " 'V234',\n",
       " 'M7_freq',\n",
       " 'V220',\n",
       " 'id_27_freq',\n",
       " 'id_15_freq',\n",
       " 'V307',\n",
       " 'V94',\n",
       " 'V254',\n",
       " 'id_08',\n",
       " 'V171',\n",
       " 'V337',\n",
       " 'V86',\n",
       " 'V154',\n",
       " 'V205',\n",
       " 'V327',\n",
       " 'dist1',\n",
       " 'V79',\n",
       " 'V325',\n",
       " 'uid2_C13_std',\n",
       " 'V64',\n",
       " 'V80',\n",
       " 'id_14_freq',\n",
       " 'V77',\n",
       " 'V169',\n",
       " 'card5_freq',\n",
       " 'uid1_C13_std',\n",
       " 'V321',\n",
       " 'V90',\n",
       " 'V151',\n",
       " 'V37',\n",
       " 'card_and_subcard_D15_std',\n",
       " 'V65',\n",
       " 'dollars_freq',\n",
       " 'C13',\n",
       " 'D15',\n",
       " 'V185',\n",
       " 'V189',\n",
       " 'V53',\n",
       " 'V172',\n",
       " 'V157',\n",
       " 'V41',\n",
       " 'V144',\n",
       " 'V68',\n",
       " 'id_19_freq',\n",
       " 'V49',\n",
       " 'V310',\n",
       " 'id_37_freq',\n",
       " 'V166',\n",
       " 'V338',\n",
       " 'V48',\n",
       " 'M_sum',\n",
       " 'uid4_TransactionAmt_mean',\n",
       " 'V256',\n",
       " 'V110',\n",
       " 'V29',\n",
       " 'V180',\n",
       " 'id_04',\n",
       " 'C11',\n",
       " 'V186',\n",
       " 'V143',\n",
       " 'V292',\n",
       " 'V230',\n",
       " 'V253',\n",
       " 'V36',\n",
       " 'VersionNum',\n",
       " 'V279',\n",
       " 'V12',\n",
       " 'addr2_freq',\n",
       " 'V51',\n",
       " 'V107',\n",
       " 'V201',\n",
       " 'V247',\n",
       " 'V27',\n",
       " 'V92',\n",
       " 'V173',\n",
       " 'subcard_reg_timestamp_day_min_max',\n",
       " 'V268',\n",
       " 'V277',\n",
       " 'V280',\n",
       " 'V108',\n",
       " 'V300',\n",
       " 'V56',\n",
       " 'V83',\n",
       " 'V95',\n",
       " 'C10',\n",
       " 'uid5_freq',\n",
       " 'V199',\n",
       " 'V147',\n",
       " 'V241',\n",
       " 'uid3_unique_amt',\n",
       " 'V138',\n",
       " 'uid3_C13_std',\n",
       " 'V284',\n",
       " 'id_25_freq',\n",
       " 'V193',\n",
       " 'id_34_freq',\n",
       " 'V227',\n",
       " 'V236',\n",
       " 'V222',\n",
       " 'V31',\n",
       " 'V54',\n",
       " 'V119',\n",
       " 'V296',\n",
       " 'R_emaildomain_freq',\n",
       " 'V14',\n",
       " 'V315',\n",
       " 'V177',\n",
       " 'uid4_unique_amt',\n",
       " 'V213',\n",
       " 'V257',\n",
       " 'V61',\n",
       " 'V102',\n",
       " 'V115',\n",
       " 'D5',\n",
       " 'V40',\n",
       " 'V167',\n",
       " 'V133',\n",
       " 'V249',\n",
       " 'id_01',\n",
       " 'TransactionAmt',\n",
       " 'id_06',\n",
       " 'V4',\n",
       " 'V285',\n",
       " 'V264',\n",
       " 'M5_freq',\n",
       " 'V212',\n",
       " 'id_07',\n",
       " 'V139',\n",
       " 'C14',\n",
       " 'V243',\n",
       " 'V319',\n",
       " 'V306',\n",
       " 'V334',\n",
       " 'V121',\n",
       " 'V225',\n",
       " 'V145',\n",
       " 'V176',\n",
       " 'V134',\n",
       " 'uid3_TransactionAmt_mean',\n",
       " 'D8_D9_decimal_dist',\n",
       " 'V263',\n",
       " 'V63',\n",
       " 'M_na',\n",
       " 'D7',\n",
       " 'V146',\n",
       " 'id_22_freq',\n",
       " 'V328',\n",
       " 'V19',\n",
       " 'V309',\n",
       " 'uid2_TransactionAmt_mean',\n",
       " 'uid4_D15_std',\n",
       " 'V258',\n",
       " 'id_05',\n",
       " 'V50',\n",
       " 'V93',\n",
       " 'V155',\n",
       " 'V272',\n",
       " 'ProductCD_freq',\n",
       " 'V270',\n",
       " 'id_31_freq',\n",
       " 'card1_freq',\n",
       " 'id_23_freq',\n",
       " 'D14',\n",
       " 'C9',\n",
       " 'V255',\n",
       " 'V235',\n",
       " 'V150',\n",
       " 'V113',\n",
       " 'V294',\n",
       " 'V218',\n",
       " 'uid5_D15_mean',\n",
       " 'V330',\n",
       " 'V99',\n",
       " 'V188',\n",
       " 'V98',\n",
       " 'V178',\n",
       " 'V314',\n",
       " 'V127',\n",
       " 'D2_scaled',\n",
       " 'V206',\n",
       " 'V158',\n",
       " 'IsMobile_freq',\n",
       " 'uid3_TransactionAmt_std',\n",
       " 'V42',\n",
       " 'C4',\n",
       " 'dist2',\n",
       " 'D1',\n",
       " 'V2',\n",
       " 'V20',\n",
       " 'card_and_subcard_unique_amt',\n",
       " 'V11',\n",
       " 'V187',\n",
       " 'V85',\n",
       " 'V303',\n",
       " 'V182',\n",
       " 'V192',\n",
       " 'V161',\n",
       " 'V106',\n",
       " 'V74',\n",
       " 'V207',\n",
       " 'V326',\n",
       " 'C1',\n",
       " 'V217',\n",
       " 'V129',\n",
       " 'V164',\n",
       " 'V197',\n",
       " 'V1',\n",
       " 'V184',\n",
       " 'V160',\n",
       " 'V271',\n",
       " 'V293',\n",
       " 'V117',\n",
       " 'V195',\n",
       " 'V245',\n",
       " 'V126',\n",
       " 'V75',\n",
       " 'V269',\n",
       " 'V60',\n",
       " 'V135',\n",
       " 'V59',\n",
       " 'V18',\n",
       " 'V216',\n",
       " 'id_32_freq',\n",
       " 'V58',\n",
       " 'V273',\n",
       " 'V28',\n",
       " 'D1_scaled',\n",
       " 'uid4_D15_mean',\n",
       " 'uid4_TransactionAmt_std',\n",
       " 'card3_freq',\n",
       " 'V336',\n",
       " 'V299',\n",
       " 'V229',\n",
       " 'V233',\n",
       " 'V191',\n",
       " 'V251',\n",
       " 'V52',\n",
       " 'V149',\n",
       " 'uid5_TransactionAmt_std',\n",
       " 'V240',\n",
       " 'V283',\n",
       " 'DeviceType_freq',\n",
       " 'V123',\n",
       " 'V209',\n",
       " 'card_and_subcard_C13_mean',\n",
       " 'V244',\n",
       " 'V8',\n",
       " 'V96',\n",
       " 'uid2_D15_mean',\n",
       " 'V34',\n",
       " 'V39',\n",
       " 'V109',\n",
       " 'V262',\n",
       " 'V278',\n",
       " 'V274',\n",
       " 'V317',\n",
       " 'V72',\n",
       " 'V228',\n",
       " 'uid3_C13_mean',\n",
       " 'V3',\n",
       " 'V13',\n",
       " 'V174',\n",
       " 'M8_freq',\n",
       " 'V76',\n",
       " 'V170',\n",
       " 'V324',\n",
       " 'V33',\n",
       " 'Browser_freq',\n",
       " 'V9',\n",
       " 'V140',\n",
       " 'V82',\n",
       " 'V223',\n",
       " 'V318',\n",
       " 'uid5_C13_std',\n",
       " 'id_21_freq',\n",
       " 'V194',\n",
       " 'V16',\n",
       " 'V237',\n",
       " 'id_11',\n",
       " 'V148',\n",
       " 'V339',\n",
       " 'uid4_C13_mean',\n",
       " 'V238',\n",
       " 'V168',\n",
       " 'C5',\n",
       " 'V261',\n",
       " 'uid1_C13_mean',\n",
       " 'V6',\n",
       " 'hour_freq',\n",
       " 'V24',\n",
       " 'V156',\n",
       " 'C12',\n",
       " 'id_38_freq',\n",
       " 'V302',\n",
       " 'uid5_D15_std',\n",
       " 'V91',\n",
       " 'V132',\n",
       " 'V81',\n",
       " 'V208',\n",
       " 'id_29_freq',\n",
       " 'id_10',\n",
       " 'V35',\n",
       " 'D3',\n",
       " 'V316',\n",
       " 'is_foreign',\n",
       " 'same_transaction_near_subcard',\n",
       " 'V111',\n",
       " 'V25',\n",
       " 'V301',\n",
       " 'V287',\n",
       " 'M3_freq',\n",
       " 'id_02',\n",
       " 'V88',\n",
       " 'V70',\n",
       " 'D11',\n",
       " 'id_30_freq',\n",
       " 'V211',\n",
       " 'cents',\n",
       " 'card_and_subcard_freq',\n",
       " 'V179',\n",
       " 'V141',\n",
       " 'V131',\n",
       " 'V313',\n",
       " 'V125',\n",
       " 'M1_freq',\n",
       " 'V281',\n",
       " 'V5',\n",
       " 'V128',\n",
       " 'V221',\n",
       " 'V259',\n",
       " 'M9_freq',\n",
       " 'V286',\n",
       " 'id_24_freq',\n",
       " 'id_28_freq',\n",
       " 'same_transaction_near',\n",
       " 'V142',\n",
       " 'id_09',\n",
       " 'V100',\n",
       " 'V198',\n",
       " 'V231',\n",
       " 'uid2_D15_std',\n",
       " 'V260',\n",
       " 'V136',\n",
       " 'id_12_freq',\n",
       " 'weekofmonth_freq',\n",
       " 'V320',\n",
       " 'V78',\n",
       " 'uid4_freq',\n",
       " 'V105',\n",
       " 'V214',\n",
       " 'V203',\n",
       " 'V130',\n",
       " 'V101',\n",
       " 'card2_freq',\n",
       " 'uid4_C13_std',\n",
       " 'D9',\n",
       " 'uid5_C13_mean',\n",
       " 'uid1_unique_amt',\n",
       " 'D8',\n",
       " 'V103',\n",
       " 'card_and_subcard_TransactionAmt_std',\n",
       " 'V97',\n",
       " 'V153',\n",
       " 'D4',\n",
       " 'V248',\n",
       " 'V175',\n",
       " 'V304',\n",
       " 'uid3_freq',\n",
       " 'addr1_freq',\n",
       " 'uid2_freq',\n",
       " 'V104',\n",
       " 'card4_freq',\n",
       " 'V137',\n",
       " 'V66',\n",
       " 'id_17_freq',\n",
       " 'V62',\n",
       " 'V224',\n",
       " 'uid3_D15_std',\n",
       " 'V87',\n",
       " 'V162',\n",
       " 'V289',\n",
       " 'V322',\n",
       " 'V202',\n",
       " 'V71',\n",
       " 'V47',\n",
       " 'C7',\n",
       " 'D12',\n",
       " 'V89',\n",
       " 'V190',\n",
       " 'V311',\n",
       " 'id_36_freq',\n",
       " 'V295',\n",
       " 'M2_freq',\n",
       " 'uid1_freq',\n",
       " 'V57',\n",
       " 'V181',\n",
       " 'V204',\n",
       " 'V239',\n",
       " 'card_and_subcard_D15_mean',\n",
       " 'V200',\n",
       " 'V267',\n",
       " 'C8',\n",
       " 'dayofweek_freq',\n",
       " 'V73',\n",
       " 'uid5_unique_amt',\n",
       " 'V291',\n",
       " 'C3',\n",
       " 'V332',\n",
       " 'V122',\n",
       " 'V112',\n",
       " 'D6',\n",
       " 'V226',\n",
       " 'V333',\n",
       " 'V45',\n",
       " 'V183',\n",
       " 'M4_freq',\n",
       " 'cents_freq',\n",
       " 'V21',\n",
       " 'V219',\n",
       " 'id_33_freq',\n",
       " 'D2',\n",
       " 'V30',\n",
       " 'V297',\n",
       " 'uid1_D15_std',\n",
       " 'V7',\n",
       " 'V26',\n",
       " 'V22',\n",
       " 'id_03',\n",
       " 'V152',\n",
       " 'uid2_C13_mean',\n",
       " 'uid1_D15_mean',\n",
       " 'V246',\n",
       " 'card6_freq',\n",
       " 'uid2_unique_amt',\n",
       " 'V265',\n",
       " 'P_emaildomain_freq',\n",
       " 'id_20_freq',\n",
       " 'notnull_count',\n",
       " 'id_16_freq',\n",
       " 'M6_freq',\n",
       " 'V17',\n",
       " 'V323',\n",
       " 'V116',\n",
       " 'V196',\n",
       " 'V44',\n",
       " 'V114',\n",
       " 'dollars',\n",
       " 'uid2_TransactionAmt_std',\n",
       " 'V67',\n",
       " 'V335',\n",
       " 'V275',\n",
       " 'id_18_freq',\n",
       " 'V84',\n",
       " 'id_35_freq',\n",
       " 'V308',\n",
       " 'V312',\n",
       " 'V69',\n",
       " 'DeviceInfo_freq',\n",
       " 'V232',\n",
       " 'V266',\n",
       " 'id_26_freq',\n",
       " 'V331',\n",
       " 'V215',\n",
       " 'V210',\n",
       " 'V288',\n",
       " 'id_13_freq',\n",
       " 'V120',\n",
       " 'V55',\n",
       " 'D13',\n",
       " 'V124',\n",
       " 'V23',\n",
       " 'C6',\n",
       " 'uid3_D15_mean',\n",
       " 'D8_not_same_day',\n",
       " 'V290',\n",
       " 'card_and_subcard_C13_std',\n",
       " 'V163',\n",
       " 'V250']"
      ]
     },
     "execution_count": 150,
     "metadata": {},
     "output_type": "execute_result"
    }
   ],
   "source": [
    "numeric_features"
   ]
  },
  {
   "cell_type": "markdown",
   "metadata": {},
   "source": [
    "# Splits"
   ]
  },
  {
   "cell_type": "code",
   "execution_count": 113,
   "metadata": {},
   "outputs": [],
   "source": [
    "train_final = all_df[:N_TRAIN_EXAMPLES]\n",
    "test_final = all_df[N_TRAIN_EXAMPLES:]\n",
    "\n",
    "tr = train_final[:N_TRAIN]\n",
    "val = train_final[N_TRAIN:]"
   ]
  },
  {
   "cell_type": "code",
   "execution_count": 114,
   "metadata": {},
   "outputs": [],
   "source": [
    "def downsample(df, how_strong=2):\n",
    "    positive = df[df.isFraud == 1]\n",
    "    negative = df[df.isFraud == 0]\n",
    "    negative = negative.sample(int(len(negative) / how_strong))\n",
    "    res = pd.concat([positive, negative])\n",
    "    return res.sample(len(res))"
   ]
  },
  {
   "cell_type": "code",
   "execution_count": 212,
   "metadata": {},
   "outputs": [],
   "source": [
    "tr = downsample(tr, 5)\n",
    "val = downsample(val, 5)"
   ]
  },
  {
   "cell_type": "code",
   "execution_count": 96,
   "metadata": {},
   "outputs": [],
   "source": [
    "values_normalization(all_df, 'day', 'subcard_reg_timestamp')"
   ]
  },
  {
   "cell_type": "markdown",
   "metadata": {},
   "source": [
    "# Train"
   ]
  },
  {
   "cell_type": "code",
   "execution_count": 115,
   "metadata": {},
   "outputs": [],
   "source": [
    "add_cols = [col + '_day_min_max' for col in d_cols] \n",
    "add_cols = add_cols + [col + '_day_std_score' for col in d_cols]"
   ]
  },
  {
   "cell_type": "code",
   "execution_count": 116,
   "metadata": {},
   "outputs": [],
   "source": [
    "from IEEE_FRAUD.settings import CATEGORICAL_FEATURES as roman_categorical"
   ]
  },
  {
   "cell_type": "code",
   "execution_count": 117,
   "metadata": {},
   "outputs": [],
   "source": [
    "import pickle"
   ]
  },
  {
   "cell_type": "code",
   "execution_count": 118,
   "metadata": {},
   "outputs": [],
   "source": [
    "with open('col_names_sunday.pkl', 'wb') as f:\n",
    "    pickle.dump((MODEL_FEATURES, CATEGORICAL_FEATURES, roman_feature_names, roman_categorical, add_cols), f)"
   ]
  },
  {
   "cell_type": "code",
   "execution_count": 119,
   "metadata": {},
   "outputs": [],
   "source": [
    "MODEL_FEATURES.add('subcard_reg_timestamp_day_min_max')"
   ]
  },
  {
   "cell_type": "code",
   "execution_count": 120,
   "metadata": {},
   "outputs": [],
   "source": [
    "roman_categorical = list(set(roman_categorical) - set(['is_holiday']))"
   ]
  },
  {
   "cell_type": "code",
   "execution_count": 121,
   "metadata": {},
   "outputs": [],
   "source": [
    "good_cols = list(MODEL_FEATURES - set(['VersionNum']) - set(['card1']) -\\\n",
    "                    set(d_cols)) + add_cols\n",
    "good_categotical = list(set(CATEGORICAL_FEATURES) - set(['card1']))"
   ]
  },
  {
   "cell_type": "code",
   "execution_count": null,
   "metadata": {},
   "outputs": [],
   "source": []
  },
  {
   "cell_type": "code",
   "execution_count": 122,
   "metadata": {},
   "outputs": [],
   "source": [
    "all_good_features = set(good_cols +\\\n",
    "                            ['subcard_reg_timestamp_day_min_max',\n",
    "                             ] + list(roman_feature_names)) -\\\n",
    "    set(['card1', 'dayofmonth'])\n",
    "all_good_categorical = set(good_categotical + roman_categorical) - set(['card1', 'is_holiday', 'dayofmonth'])"
   ]
  },
  {
   "cell_type": "code",
   "execution_count": 123,
   "metadata": {},
   "outputs": [],
   "source": [
    "dtrain = lgb.Dataset(tr[all_good_features], label=tr['isFraud'],\n",
    "                     categorical_feature=all_good_categorical,free_raw_data=False)\n",
    "dval = lgb.Dataset(val[all_good_features], label=val['isFraud'],\n",
    "                   categorical_feature=all_good_categorical, free_raw_data=False)"
   ]
  },
  {
   "cell_type": "code",
   "execution_count": 124,
   "metadata": {},
   "outputs": [],
   "source": [
    "params = {'num_leaves': 200,\n",
    "          'min_child_samples': 40,\n",
    "          #'min_sum_hessian_in_leaf': 5e-3,\n",
    "          #'max_bin': 1023,\n",
    "          #'min_data_in_leaf': \n",
    "          #'scale_pos_weight': 2,\n",
    "          'objective': 'binary',\n",
    "          'metric': 'auc',\n",
    "          'max_depth': 13,\n",
    "          'learning_rate': 0.01,\n",
    "          \"boosting_type\": \"goss\",\n",
    "          \"top_rate\": 0.6,\n",
    "          \"other_rate\": 0.1,\n",
    "          \"bagging_freq\": 0,\n",
    "          'nthread': 16,\n",
    "          \n",
    "          'pos_bagging_fraction': 0.8,\n",
    "          'neg_bagging_fraction': 0.01,\n",
    "          \"bagging_fraction\": 0.5,\n",
    "          \"bagging_seed\": 11,\n",
    "          'reg_alpha': 0.3,\n",
    "          'reg_lambda': 0.3,\n",
    "          \n",
    "          'feature_fraction': 0.9,\n",
    "          'min_data_per_group': 25,\n",
    "          'cat_smooth': 500,\n",
    "          'max_cat_to_onehot': 8\n",
    "          #'categorical_feature': cat_cols\n",
    "         }"
   ]
  },
  {
   "cell_type": "code",
   "execution_count": 125,
   "metadata": {},
   "outputs": [
    {
     "name": "stdout",
     "output_type": "stream",
     "text": [
      "Training until validation scores don't improve for 25 rounds.\n",
      "[100]\ttrain's auc: 0.944835\tval's auc: 0.902119\n",
      "[200]\ttrain's auc: 0.96959\tval's auc: 0.919802\n",
      "[300]\ttrain's auc: 0.98095\tval's auc: 0.928076\n",
      "[400]\ttrain's auc: 0.987938\tval's auc: 0.933185\n",
      "[500]\ttrain's auc: 0.992262\tval's auc: 0.937322\n",
      "[600]\ttrain's auc: 0.995183\tval's auc: 0.940466\n",
      "[700]\ttrain's auc: 0.996966\tval's auc: 0.942374\n",
      "[800]\ttrain's auc: 0.998149\tval's auc: 0.944051\n",
      "[900]\ttrain's auc: 0.998844\tval's auc: 0.945225\n",
      "[1000]\ttrain's auc: 0.999284\tval's auc: 0.946037\n",
      "[1100]\ttrain's auc: 0.999572\tval's auc: 0.946852\n",
      "[1200]\ttrain's auc: 0.999751\tval's auc: 0.947426\n",
      "[1300]\ttrain's auc: 0.999856\tval's auc: 0.947971\n",
      "[1400]\ttrain's auc: 0.999919\tval's auc: 0.948361\n",
      "[1500]\ttrain's auc: 0.999955\tval's auc: 0.948664\n",
      "[1700]\ttrain's auc: 0.999988\tval's auc: 0.949173\n",
      "[1800]\ttrain's auc: 0.999995\tval's auc: 0.949525\n",
      "[1900]\ttrain's auc: 0.999998\tval's auc: 0.949825\n",
      "[2000]\ttrain's auc: 0.999999\tval's auc: 0.9502\n",
      "[2100]\ttrain's auc: 1\tval's auc: 0.950447\n",
      "[2200]\ttrain's auc: 1\tval's auc: 0.950601\n",
      "[2300]\ttrain's auc: 1\tval's auc: 0.950798\n",
      "[2400]\ttrain's auc: 1\tval's auc: 0.951076\n",
      "[2500]\ttrain's auc: 1\tval's auc: 0.951282\n",
      "Early stopping, best iteration is:\n",
      "[2544]\ttrain's auc: 1\tval's auc: 0.951327\n",
      "CPU times: user 4h 24min 56s, sys: 2min 20s, total: 4h 27min 16s\n",
      "Wall time: 18min 6s\n"
     ]
    }
   ],
   "source": [
    "%%time\n",
    "model = lgb.train(params, dtrain, num_boost_round=10000,\n",
    "                  valid_sets=(dval, dtrain), valid_names=('val', 'train'),\n",
    "                early_stopping_rounds=25, verbose_eval=100)"
   ]
  },
  {
   "cell_type": "code",
   "execution_count": null,
   "metadata": {},
   "outputs": [],
   "source": [
    "0.947236"
   ]
  },
  {
   "cell_type": "code",
   "execution_count": null,
   "metadata": {},
   "outputs": [],
   "source": [
    "0.947028 0.946727 0.946764"
   ]
  },
  {
   "cell_type": "code",
   "execution_count": null,
   "metadata": {},
   "outputs": [],
   "source": [
    "%%time\n",
    "model = lgb.train(params, dtrain, num_boost_round=10000,\n",
    "                  valid_sets=(dval, dtrain), valid_names=('val', 'train'),\n",
    "                early_stopping_rounds=25, verbose_eval=25)"
   ]
  },
  {
   "cell_type": "markdown",
   "metadata": {},
   "source": [
    "# Split importance"
   ]
  },
  {
   "cell_type": "code",
   "execution_count": 126,
   "metadata": {},
   "outputs": [
    {
     "data": {
      "text/plain": [
       "65"
      ]
     },
     "execution_count": 126,
     "metadata": {},
     "output_type": "execute_result"
    }
   ],
   "source": [
    "feature_imp = pd.DataFrame(sorted(zip(model.feature_importance('split'), good_cols)), columns=['Value','Feature'])\n",
    "bad_cols = feature_imp[feature_imp['Value'] < 1]['Feature']\n",
    "len(bad_cols)"
   ]
  },
  {
   "cell_type": "code",
   "execution_count": 127,
   "metadata": {
    "scrolled": true
   },
   "outputs": [
    {
     "data": {
      "image/png": "[encoded data removed]",
      "text/plain": [
       "<Figure size 720x1440 with 1 Axes>"
      ]
     },
     "metadata": {
      "needs_background": "light"
     },
     "output_type": "display_data"
    }
   ],
   "source": [
    "feature_imp = pd.DataFrame(sorted(zip(model.feature_importance('split'), all_good_features)), columns=['Value','Feature'])\n",
    "bad_cols = feature_imp[feature_imp['Value'] < 1]['Feature']\n",
    "plt.figure(figsize=(10, 20))\n",
    "sns.barplot(x=\"Value\", y=\"Feature\", data=feature_imp.sort_values(by=\"Value\", ascending=False)[:100])\n",
    "plt.tight_layout()\n",
    "plt.show()"
   ]
  },
  {
   "cell_type": "markdown",
   "metadata": {},
   "source": [
    "# SHAP importance"
   ]
  },
  {
   "cell_type": "code",
   "execution_count": 128,
   "metadata": {},
   "outputs": [],
   "source": [
    "shap_test = test_final.sample(10000)"
   ]
  },
  {
   "cell_type": "code",
   "execution_count": null,
   "metadata": {},
   "outputs": [],
   "source": [
    "shap_imp[shap_imp['Feature'] == 'cents_freq']"
   ]
  },
  {
   "cell_type": "code",
   "execution_count": 129,
   "metadata": {},
   "outputs": [
    {
     "data": {
      "image/png": "[encoded data removed]",
      "text/plain": [
       "<Figure size 720x720 with 1 Axes>"
      ]
     },
     "metadata": {
      "needs_background": "light"
     },
     "output_type": "display_data"
    },
    {
     "name": "stdout",
     "output_type": "stream",
     "text": [
      "CPU times: user 1h 39min 14s, sys: 4.34 s, total: 1h 39min 19s\n",
      "Wall time: 6min 22s\n"
     ]
    }
   ],
   "source": [
    "%%time\n",
    "res = model.predict(shap_test[all_good_features], pred_contrib=True)\n",
    "mean_shap = np.abs(res).mean(axis=0)\n",
    "shap_imp = pd.DataFrame(sorted(zip(mean_shap, all_good_features)), columns=['Value','Feature'])\n",
    "plt.figure(figsize=(10, 10))\n",
    "sns.barplot(x=\"Value\", y=\"Feature\", data=shap_imp.sort_values(by=\"Value\", ascending=False)[:60])\n",
    "plt.tight_layout()\n",
    "plt.show()"
   ]
  },
  {
   "cell_type": "markdown",
   "metadata": {},
   "source": [
    "# Fit KFold (Scary)"
   ]
  },
  {
   "cell_type": "code",
   "execution_count": 130,
   "metadata": {},
   "outputs": [],
   "source": [
    "from sklearn.model_selection import GroupKFold"
   ]
  },
  {
   "cell_type": "code",
   "execution_count": 131,
   "metadata": {},
   "outputs": [],
   "source": [
    "gkf = GroupKFold(6)"
   ]
  },
  {
   "cell_type": "code",
   "execution_count": 132,
   "metadata": {},
   "outputs": [],
   "source": [
    "params = {'num_leaves': 200,\n",
    "          'min_child_samples': 40,\n",
    "          #'min_sum_hessian_in_leaf': 5e-3,\n",
    "          #'max_bin': 1023,\n",
    "          #'min_data_in_leaf': \n",
    "          #'scale_pos_weight': 2,\n",
    "          'objective': 'binary',\n",
    "          'metric': 'auc',\n",
    "          'max_depth': 13,\n",
    "          'learning_rate': 0.007,\n",
    "          \"boosting_type\": \"goss\",\n",
    "          \"top_rate\": 0.6,\n",
    "          \"other_rate\": 0.1,\n",
    "          \"bagging_freq\": 0,\n",
    "          'nthread': 16,\n",
    "          \n",
    "          'pos_bagging_fraction': 0.8,\n",
    "          'neg_bagging_fraction': 0.01,\n",
    "          \"bagging_fraction\": 0.5,\n",
    "          \"bagging_seed\": 11,\n",
    "          'reg_alpha': 0.3,\n",
    "          'reg_lambda': 0.3,\n",
    "          \n",
    "          'feature_fraction': 0.9,\n",
    "          'min_data_per_group': 25,\n",
    "          'cat_smooth': 500,\n",
    "          'max_cat_to_onehot': 8\n",
    "          #'categorical_feature': cat_cols\n",
    "         }"
   ]
  },
  {
   "cell_type": "code",
   "execution_count": 133,
   "metadata": {},
   "outputs": [],
   "source": [
    "import gc"
   ]
  },
  {
   "cell_type": "code",
   "execution_count": 134,
   "metadata": {},
   "outputs": [],
   "source": [
    "del dtrain, dval"
   ]
  },
  {
   "cell_type": "code",
   "execution_count": 135,
   "metadata": {},
   "outputs": [
    {
     "data": {
      "text/plain": [
       "36012"
      ]
     },
     "execution_count": 135,
     "metadata": {},
     "output_type": "execute_result"
    }
   ],
   "source": [
    "gc.collect()"
   ]
  },
  {
   "cell_type": "code",
   "execution_count": 136,
   "metadata": {
    "scrolled": true
   },
   "outputs": [
    {
     "name": "stderr",
     "output_type": "stream",
     "text": [
      "/home/a_tishurov/.conda/envs/experiments/lib/python3.7/site-packages/lightgbm/basic.py:1205: UserWarning: Using categorical_feature in Dataset.\n",
      "  warnings.warn('Using categorical_feature in Dataset.')\n",
      "/home/a_tishurov/.conda/envs/experiments/lib/python3.7/site-packages/lightgbm/basic.py:762: UserWarning: categorical_feature in param dict is overridden.\n",
      "  warnings.warn('categorical_feature in param dict is overridden.')\n"
     ]
    },
    {
     "name": "stdout",
     "output_type": "stream",
     "text": [
      "Training until validation scores don't improve for 100 rounds.\n",
      "[100]\tvalid_0's auc: 0.874773\n",
      "[200]\tvalid_0's auc: 0.890246\n",
      "[300]\tvalid_0's auc: 0.898797\n",
      "[400]\tvalid_0's auc: 0.904722\n",
      "[500]\tvalid_0's auc: 0.9085\n",
      "[600]\tvalid_0's auc: 0.911662\n",
      "[700]\tvalid_0's auc: 0.914021\n",
      "[800]\tvalid_0's auc: 0.916415\n",
      "[900]\tvalid_0's auc: 0.918578\n",
      "[1000]\tvalid_0's auc: 0.920177\n",
      "[1100]\tvalid_0's auc: 0.921388\n",
      "[1200]\tvalid_0's auc: 0.922167\n",
      "[1300]\tvalid_0's auc: 0.923161\n",
      "[1400]\tvalid_0's auc: 0.924104\n",
      "[1500]\tvalid_0's auc: 0.924863\n",
      "[1600]\tvalid_0's auc: 0.925643\n",
      "[1700]\tvalid_0's auc: 0.926122\n",
      "[1800]\tvalid_0's auc: 0.926505\n",
      "[1900]\tvalid_0's auc: 0.927156\n",
      "[2000]\tvalid_0's auc: 0.92752\n",
      "[2100]\tvalid_0's auc: 0.927948\n",
      "[2400]\tvalid_0's auc: 0.928738\n",
      "[2500]\tvalid_0's auc: 0.928909\n",
      "[2600]\tvalid_0's auc: 0.929149\n",
      "[2700]\tvalid_0's auc: 0.929391\n",
      "[2800]\tvalid_0's auc: 0.929418\n",
      "[2900]\tvalid_0's auc: 0.929395\n",
      "[3000]\tvalid_0's auc: 0.929569\n",
      "[3100]\tvalid_0's auc: 0.929675\n",
      "[3200]\tvalid_0's auc: 0.929731\n",
      "[3300]\tvalid_0's auc: 0.929866\n",
      "[3400]\tvalid_0's auc: 0.929988\n",
      "[3500]\tvalid_0's auc: 0.930201\n",
      "[3600]\tvalid_0's auc: 0.930294\n",
      "[3700]\tvalid_0's auc: 0.930416\n",
      "[3800]\tvalid_0's auc: 0.930596\n",
      "[3900]\tvalid_0's auc: 0.93062\n",
      "[4000]\tvalid_0's auc: 0.930741\n",
      "[4100]\tvalid_0's auc: 0.930821\n",
      "[4200]\tvalid_0's auc: 0.930966\n",
      "[4300]\tvalid_0's auc: 0.931035\n",
      "[4400]\tvalid_0's auc: 0.931237\n",
      "[4500]\tvalid_0's auc: 0.931123\n",
      "Early stopping, best iteration is:\n",
      "[4400]\tvalid_0's auc: 0.931237\n",
      "Training until validation scores don't improve for 100 rounds.\n",
      "[100]\tvalid_0's auc: 0.906095\n",
      "[200]\tvalid_0's auc: 0.92421\n",
      "[300]\tvalid_0's auc: 0.933485\n",
      "[400]\tvalid_0's auc: 0.939456\n",
      "[500]\tvalid_0's auc: 0.943645\n",
      "[600]\tvalid_0's auc: 0.946478\n",
      "[700]\tvalid_0's auc: 0.948456\n",
      "[800]\tvalid_0's auc: 0.950249\n",
      "[900]\tvalid_0's auc: 0.951705\n",
      "[1000]\tvalid_0's auc: 0.952567\n",
      "[1100]\tvalid_0's auc: 0.953419\n",
      "[1200]\tvalid_0's auc: 0.954016\n",
      "[1300]\tvalid_0's auc: 0.954679\n",
      "[1400]\tvalid_0's auc: 0.955214\n",
      "[1500]\tvalid_0's auc: 0.955566\n",
      "[1600]\tvalid_0's auc: 0.955884\n",
      "[1700]\tvalid_0's auc: 0.956197\n",
      "[1800]\tvalid_0's auc: 0.956428\n",
      "[1900]\tvalid_0's auc: 0.956578\n",
      "[2000]\tvalid_0's auc: 0.95668\n",
      "[2100]\tvalid_0's auc: 0.956801\n",
      "[2200]\tvalid_0's auc: 0.956973\n",
      "[2300]\tvalid_0's auc: 0.957117\n",
      "[2400]\tvalid_0's auc: 0.957282\n",
      "[2500]\tvalid_0's auc: 0.957472\n",
      "[2600]\tvalid_0's auc: 0.957544\n",
      "[2700]\tvalid_0's auc: 0.957712\n",
      "[2800]\tvalid_0's auc: 0.957824\n",
      "[2900]\tvalid_0's auc: 0.957923\n",
      "[3000]\tvalid_0's auc: 0.957965\n",
      "[3100]\tvalid_0's auc: 0.95806\n",
      "[3200]\tvalid_0's auc: 0.958151\n",
      "[3300]\tvalid_0's auc: 0.958266\n",
      "[3400]\tvalid_0's auc: 0.95831\n",
      "[3500]\tvalid_0's auc: 0.958389\n",
      "[3600]\tvalid_0's auc: 0.958436\n",
      "[3700]\tvalid_0's auc: 0.958491\n",
      "[3800]\tvalid_0's auc: 0.958524\n",
      "[3900]\tvalid_0's auc: 0.958568\n",
      "[4000]\tvalid_0's auc: 0.958587\n",
      "[4100]\tvalid_0's auc: 0.958626\n",
      "[4200]\tvalid_0's auc: 0.958628\n",
      "[4300]\tvalid_0's auc: 0.958685\n",
      "[4400]\tvalid_0's auc: 0.958717\n",
      "[4500]\tvalid_0's auc: 0.958677\n",
      "Early stopping, best iteration is:\n",
      "[4403]\tvalid_0's auc: 0.958718\n",
      "Training until validation scores don't improve for 100 rounds.\n",
      "[100]\tvalid_0's auc: 0.904634\n",
      "[200]\tvalid_0's auc: 0.923825\n",
      "[300]\tvalid_0's auc: 0.935114\n",
      "[400]\tvalid_0's auc: 0.941554\n",
      "[500]\tvalid_0's auc: 0.945717\n",
      "[600]\tvalid_0's auc: 0.948508\n",
      "[700]\tvalid_0's auc: 0.95074\n",
      "[800]\tvalid_0's auc: 0.952392\n",
      "[900]\tvalid_0's auc: 0.953586\n",
      "[1000]\tvalid_0's auc: 0.954746\n",
      "[1100]\tvalid_0's auc: 0.955757\n",
      "[1200]\tvalid_0's auc: 0.95655\n",
      "[1300]\tvalid_0's auc: 0.957181\n",
      "[1400]\tvalid_0's auc: 0.957719\n",
      "[1500]\tvalid_0's auc: 0.958159\n",
      "[1600]\tvalid_0's auc: 0.958654\n",
      "[1700]\tvalid_0's auc: 0.958943\n",
      "[1800]\tvalid_0's auc: 0.95917\n",
      "[1900]\tvalid_0's auc: 0.959311\n",
      "[2000]\tvalid_0's auc: 0.959524\n",
      "[2100]\tvalid_0's auc: 0.959798\n",
      "[2200]\tvalid_0's auc: 0.95995\n",
      "[2300]\tvalid_0's auc: 0.960121\n",
      "[2400]\tvalid_0's auc: 0.960179\n",
      "[2500]\tvalid_0's auc: 0.960412\n",
      "[2600]\tvalid_0's auc: 0.960518\n",
      "[2700]\tvalid_0's auc: 0.960647\n",
      "[2800]\tvalid_0's auc: 0.960856\n",
      "[2900]\tvalid_0's auc: 0.961028\n",
      "[3000]\tvalid_0's auc: 0.961217\n",
      "[3100]\tvalid_0's auc: 0.961349\n",
      "[3200]\tvalid_0's auc: 0.961419\n",
      "[3300]\tvalid_0's auc: 0.961546\n",
      "[3400]\tvalid_0's auc: 0.96167\n",
      "[3500]\tvalid_0's auc: 0.961813\n",
      "[3600]\tvalid_0's auc: 0.961909\n",
      "[3700]\tvalid_0's auc: 0.962008\n",
      "[3800]\tvalid_0's auc: 0.962099\n",
      "[3900]\tvalid_0's auc: 0.96214\n",
      "[4000]\tvalid_0's auc: 0.962292\n",
      "[4100]\tvalid_0's auc: 0.962327\n",
      "[4200]\tvalid_0's auc: 0.962409\n",
      "[4300]\tvalid_0's auc: 0.96245\n",
      "[4400]\tvalid_0's auc: 0.962565\n",
      "[4500]\tvalid_0's auc: 0.962679\n",
      "[4600]\tvalid_0's auc: 0.962688\n",
      "[4700]\tvalid_0's auc: 0.962756\n",
      "[4800]\tvalid_0's auc: 0.962888\n",
      "[4900]\tvalid_0's auc: 0.962919\n",
      "[5000]\tvalid_0's auc: 0.963021\n",
      "[5100]\tvalid_0's auc: 0.963105\n",
      "[5200]\tvalid_0's auc: 0.963152\n",
      "[5300]\tvalid_0's auc: 0.963194\n",
      "[5400]\tvalid_0's auc: 0.96322\n",
      "[5500]\tvalid_0's auc: 0.963293\n",
      "[5600]\tvalid_0's auc: 0.963346\n",
      "[5700]\tvalid_0's auc: 0.963407\n",
      "[5800]\tvalid_0's auc: 0.963444\n",
      "[5900]\tvalid_0's auc: 0.963452\n",
      "[6000]\tvalid_0's auc: 0.963509\n",
      "[6100]\tvalid_0's auc: 0.963516\n",
      "[6200]\tvalid_0's auc: 0.963521\n",
      "Early stopping, best iteration is:\n",
      "[6167]\tvalid_0's auc: 0.963545\n",
      "Training until validation scores don't improve for 100 rounds.\n",
      "[100]\tvalid_0's auc: 0.895714\n",
      "[200]\tvalid_0's auc: 0.911239\n",
      "[300]\tvalid_0's auc: 0.920633\n",
      "[400]\tvalid_0's auc: 0.927139\n",
      "[500]\tvalid_0's auc: 0.931347\n",
      "[600]\tvalid_0's auc: 0.934741\n",
      "[700]\tvalid_0's auc: 0.937451\n",
      "[800]\tvalid_0's auc: 0.939699\n",
      "[900]\tvalid_0's auc: 0.941505\n",
      "[1000]\tvalid_0's auc: 0.943008\n",
      "[1100]\tvalid_0's auc: 0.944048\n",
      "[1200]\tvalid_0's auc: 0.944994\n",
      "[1300]\tvalid_0's auc: 0.945784\n",
      "[1400]\tvalid_0's auc: 0.946282\n",
      "[1500]\tvalid_0's auc: 0.946789\n",
      "[1600]\tvalid_0's auc: 0.947165\n",
      "[1700]\tvalid_0's auc: 0.947538\n",
      "[1800]\tvalid_0's auc: 0.947897\n",
      "[1900]\tvalid_0's auc: 0.948162\n",
      "[2000]\tvalid_0's auc: 0.948325\n",
      "[2100]\tvalid_0's auc: 0.948542\n",
      "[2200]\tvalid_0's auc: 0.948705\n",
      "[2300]\tvalid_0's auc: 0.949026\n",
      "[2400]\tvalid_0's auc: 0.949106\n",
      "[2500]\tvalid_0's auc: 0.949332\n",
      "[2600]\tvalid_0's auc: 0.949607\n",
      "[2700]\tvalid_0's auc: 0.94981\n",
      "[2800]\tvalid_0's auc: 0.950014\n",
      "[2900]\tvalid_0's auc: 0.950134\n",
      "[3000]\tvalid_0's auc: 0.950303\n",
      "[3100]\tvalid_0's auc: 0.950497\n",
      "[3200]\tvalid_0's auc: 0.950646\n",
      "[3300]\tvalid_0's auc: 0.95079\n",
      "[3400]\tvalid_0's auc: 0.95096\n",
      "[3500]\tvalid_0's auc: 0.951039\n",
      "[3600]\tvalid_0's auc: 0.951146\n",
      "[3700]\tvalid_0's auc: 0.951245\n",
      "[3800]\tvalid_0's auc: 0.951385\n",
      "[3900]\tvalid_0's auc: 0.951485\n",
      "[4000]\tvalid_0's auc: 0.95161\n",
      "[4100]\tvalid_0's auc: 0.951717\n",
      "[4200]\tvalid_0's auc: 0.951778\n",
      "[4300]\tvalid_0's auc: 0.951803\n",
      "[4400]\tvalid_0's auc: 0.951829\n",
      "[4500]\tvalid_0's auc: 0.951834\n",
      "Early stopping, best iteration is:\n",
      "[4441]\tvalid_0's auc: 0.951848\n",
      "Training until validation scores don't improve for 100 rounds.\n",
      "[100]\tvalid_0's auc: 0.92062\n",
      "[200]\tvalid_0's auc: 0.937128\n",
      "[300]\tvalid_0's auc: 0.945502\n",
      "[400]\tvalid_0's auc: 0.949907\n",
      "[500]\tvalid_0's auc: 0.952519\n",
      "[600]\tvalid_0's auc: 0.954484\n",
      "[700]\tvalid_0's auc: 0.955742\n",
      "[800]\tvalid_0's auc: 0.956819\n",
      "[900]\tvalid_0's auc: 0.957748\n",
      "[1000]\tvalid_0's auc: 0.958361\n",
      "[1100]\tvalid_0's auc: 0.958577\n",
      "[1200]\tvalid_0's auc: 0.958881\n",
      "[1300]\tvalid_0's auc: 0.959095\n",
      "[1400]\tvalid_0's auc: 0.959214\n",
      "[1500]\tvalid_0's auc: 0.959491\n",
      "[1600]\tvalid_0's auc: 0.95949\n",
      "[1700]\tvalid_0's auc: 0.959612\n",
      "[1800]\tvalid_0's auc: 0.959625\n",
      "[1900]\tvalid_0's auc: 0.959816\n",
      "[2000]\tvalid_0's auc: 0.959943\n",
      "[2100]\tvalid_0's auc: 0.959942\n",
      "[2200]\tvalid_0's auc: 0.959944\n",
      "Early stopping, best iteration is:\n",
      "[2130]\tvalid_0's auc: 0.959971\n",
      "Training until validation scores don't improve for 100 rounds.\n",
      "[100]\tvalid_0's auc: 0.900858\n",
      "[200]\tvalid_0's auc: 0.923288\n",
      "[300]\tvalid_0's auc: 0.93523\n",
      "[400]\tvalid_0's auc: 0.942954\n",
      "[500]\tvalid_0's auc: 0.947263\n",
      "[600]\tvalid_0's auc: 0.950596\n",
      "[700]\tvalid_0's auc: 0.953169\n",
      "[800]\tvalid_0's auc: 0.955584\n",
      "[900]\tvalid_0's auc: 0.957303\n",
      "[1000]\tvalid_0's auc: 0.958945\n",
      "[1100]\tvalid_0's auc: 0.960162\n",
      "[1200]\tvalid_0's auc: 0.961157\n",
      "[1300]\tvalid_0's auc: 0.962038\n",
      "[1400]\tvalid_0's auc: 0.962664\n",
      "[1500]\tvalid_0's auc: 0.963108\n",
      "[1600]\tvalid_0's auc: 0.963457\n",
      "[1700]\tvalid_0's auc: 0.963851\n",
      "[1800]\tvalid_0's auc: 0.964109\n",
      "[1900]\tvalid_0's auc: 0.964403\n",
      "[2000]\tvalid_0's auc: 0.964645\n",
      "[2100]\tvalid_0's auc: 0.964891\n",
      "[2200]\tvalid_0's auc: 0.965078\n",
      "[2300]\tvalid_0's auc: 0.9653\n",
      "[2400]\tvalid_0's auc: 0.965432\n",
      "[2500]\tvalid_0's auc: 0.96566\n",
      "[2600]\tvalid_0's auc: 0.965804\n",
      "[2700]\tvalid_0's auc: 0.965935\n",
      "[2800]\tvalid_0's auc: 0.966144\n"
     ]
    },
    {
     "name": "stdout",
     "output_type": "stream",
     "text": [
      "[2900]\tvalid_0's auc: 0.966343\n",
      "[3000]\tvalid_0's auc: 0.966448\n",
      "[3100]\tvalid_0's auc: 0.966579\n",
      "[3200]\tvalid_0's auc: 0.966714\n",
      "[3300]\tvalid_0's auc: 0.966831\n",
      "[3400]\tvalid_0's auc: 0.966975\n",
      "[3500]\tvalid_0's auc: 0.967077\n",
      "[3600]\tvalid_0's auc: 0.96713\n",
      "[3700]\tvalid_0's auc: 0.967195\n",
      "[3800]\tvalid_0's auc: 0.967224\n",
      "Early stopping, best iteration is:\n",
      "[3789]\tvalid_0's auc: 0.967238\n"
     ]
    }
   ],
   "source": [
    "scores = []\n",
    "all_preds = []\n",
    "for train_ids, val_ids in gkf.split(train_final, train_final['isFraud'], train_final['DT_split']):\n",
    "    df_tr = train_final.loc[train_ids]\n",
    "    df_val = train_final.loc[val_ids]\n",
    "    dtrain = lgb.Dataset(df_tr[all_good_features], label=df_tr['isFraud'],\n",
    "                         categorical_feature=all_good_categorical, free_raw_data=False)\n",
    "    dval = lgb.Dataset(df_val[all_good_features], label=df_val['isFraud'],\n",
    "                       categorical_feature=all_good_categorical, free_raw_data=False)\n",
    "    \n",
    "    \n",
    "    model = lgb.train(params, dtrain, num_boost_round=10000, valid_sets=(dval),\n",
    "                early_stopping_rounds=100, verbose_eval=100)\n",
    "    preds = model.predict(test_final[all_good_features], num_iteration=model.best_iteration)\n",
    "    \n",
    "    all_preds.append(preds)\n",
    "    scores.append(model.best_score)"
   ]
  },
  {
   "cell_type": "code",
   "execution_count": 137,
   "metadata": {},
   "outputs": [
    {
     "data": {
      "text/plain": [
       "[defaultdict(dict, {'valid_0': {'auc': 0.93123729947995}}),\n",
       " defaultdict(dict, {'valid_0': {'auc': 0.9587183492203231}}),\n",
       " defaultdict(dict, {'valid_0': {'auc': 0.9635447724934437}}),\n",
       " defaultdict(dict, {'valid_0': {'auc': 0.9518483896890105}}),\n",
       " defaultdict(dict, {'valid_0': {'auc': 0.9599709559599323}}),\n",
       " defaultdict(dict, {'valid_0': {'auc': 0.9672375021587746}})]"
      ]
     },
     "execution_count": 137,
     "metadata": {},
     "output_type": "execute_result"
    }
   ],
   "source": [
    "scores"
   ]
  },
  {
   "cell_type": "code",
   "execution_count": 138,
   "metadata": {},
   "outputs": [
    {
     "data": {
      "text/plain": [
       "[0.93123729947995,\n",
       " 0.9587183492203231,\n",
       " 0.9635447724934437,\n",
       " 0.9518483896890105,\n",
       " 0.9599709559599323,\n",
       " 0.9672375021587746]"
      ]
     },
     "execution_count": 138,
     "metadata": {},
     "output_type": "execute_result"
    }
   ],
   "source": [
    "[score['valid_0']['auc'] for score in scores]"
   ]
  },
  {
   "cell_type": "code",
   "execution_count": 139,
   "metadata": {},
   "outputs": [],
   "source": [
    "best_score = np.mean([score['valid_0']['auc'] for score in scores])"
   ]
  },
  {
   "cell_type": "code",
   "execution_count": 140,
   "metadata": {},
   "outputs": [
    {
     "data": {
      "text/plain": [
       "0.9554262115002391"
      ]
     },
     "execution_count": 140,
     "metadata": {},
     "output_type": "execute_result"
    }
   ],
   "source": [
    "best_score"
   ]
  },
  {
   "cell_type": "code",
   "execution_count": 141,
   "metadata": {},
   "outputs": [],
   "source": [
    "from scipy.stats import gmean"
   ]
  },
  {
   "cell_type": "code",
   "execution_count": 142,
   "metadata": {},
   "outputs": [
    {
     "data": {
      "text/plain": [
       "array([[1.        , 0.99931604],\n",
       "       [0.99931604, 1.        ]])"
      ]
     },
     "execution_count": 142,
     "metadata": {},
     "output_type": "execute_result"
    }
   ],
   "source": [
    "from scipy.stats import gmean\n",
    "gmean_preds = gmean(all_preds, axis=0)\n",
    "np.corrcoef(gmean_preds, np.mean(all_preds, axis=0))"
   ]
  },
  {
   "cell_type": "markdown",
   "metadata": {},
   "source": [
    "# Fit all (Optional)"
   ]
  },
  {
   "cell_type": "code",
   "execution_count": 245,
   "metadata": {},
   "outputs": [],
   "source": [
    "dfinal = lgb.Dataset(train_final[all_good_features], label=train_final['isFraud'],\n",
    "                     categorical_feature=all_good_categorical, free_raw_data=False)"
   ]
  },
  {
   "cell_type": "code",
   "execution_count": 246,
   "metadata": {},
   "outputs": [
    {
     "name": "stderr",
     "output_type": "stream",
     "text": [
      "/home/a_tishurov/.conda/envs/experiments/lib/python3.7/site-packages/lightgbm/basic.py:1205: UserWarning: Using categorical_feature in Dataset.\n",
      "  warnings.warn('Using categorical_feature in Dataset.')\n"
     ]
    },
    {
     "name": "stdout",
     "output_type": "stream",
     "text": [
      "CPU times: user 6h 50min 48s, sys: 5min 10s, total: 6h 55min 59s\n",
      "Wall time: 27min 26s\n"
     ]
    }
   ],
   "source": [
    "%%time\n",
    "model_all = lgb.train(params, dtrain,\n",
    "                      num_boost_round=4000,\n",
    "                      verbose_eval=50)"
   ]
  },
  {
   "cell_type": "markdown",
   "metadata": {},
   "source": [
    "# Predict"
   ]
  },
  {
   "cell_type": "code",
   "execution_count": 248,
   "metadata": {},
   "outputs": [
    {
     "name": "stdout",
     "output_type": "stream",
     "text": [
      "CPU times: user 7min 48s, sys: 21.3 s, total: 8min 10s\n",
      "Wall time: 57.8 s\n"
     ]
    }
   ],
   "source": [
    "%%time\n",
    "preds = model_all.predict(test_final[good_cols], num_iteration=model.best_iteration)"
   ]
  },
  {
   "cell_type": "code",
   "execution_count": 143,
   "metadata": {},
   "outputs": [],
   "source": [
    "sub = pd.read_csv('data/sample_submission.csv')\n",
    "sub['isFraud'] = gmean_preds\n",
    "sub.to_csv(f'submissions/gkfold_add_subgroup_features{best_score:0.7}.csv.gz', index=False)"
   ]
  },
  {
   "cell_type": "code",
   "execution_count": null,
   "metadata": {},
   "outputs": [],
   "source": [
    "f'submissions/kfold_without_te_12_folds{best_score:0.4}.csv.gz'"
   ]
  },
  {
   "cell_type": "code",
   "execution_count": null,
   "metadata": {},
   "outputs": [],
   "source": [
    "sub2 = pd.read_csv('submissions/gkfold_d_min_max_0.94122.csv.gz')"
   ]
  },
  {
   "cell_type": "code",
   "execution_count": null,
   "metadata": {},
   "outputs": [],
   "source": [
    "np.corrcoef(sub.isFraud, sub2.isFraud)"
   ]
  },
  {
   "cell_type": "markdown",
   "metadata": {},
   "source": [
    "# Permutation Importance"
   ]
  },
  {
   "cell_type": "markdown",
   "metadata": {},
   "source": [
    "# Adversarial"
   ]
  },
  {
   "cell_type": "code",
   "execution_count": null,
   "metadata": {},
   "outputs": [],
   "source": [
    "all_df['is_test'] = [0 for _ in range(len(train))] + [1 for _ in range(len(test))]"
   ]
  },
  {
   "cell_type": "code",
   "execution_count": null,
   "metadata": {},
   "outputs": [],
   "source": [
    "adv_df = all_df.sample(100000)"
   ]
  },
  {
   "cell_type": "code",
   "execution_count": null,
   "metadata": {},
   "outputs": [],
   "source": [
    "good_cols = list(MODEL_FEATURES - set(['VersionNum'])) #- set(baaad))# -\\\n",
    "#                 set(['BrowserVersion', 'V9', 'id_31', 'id_13']))\n",
    "good_categotical = list(set(CATEGORICAL_FEATURES))# - set(baaad))# -\\\n",
    "#                        set([ 'BrowserVersion', 'id_31', 'id_13']))\\"
   ]
  },
  {
   "cell_type": "code",
   "execution_count": null,
   "metadata": {},
   "outputs": [],
   "source": [
    "d_adv = lgb.Dataset(adv_df[good_cols], label=adv_df['is_test'], categorical_feature=good_categotical,\n",
    "                    free_raw_data=False)"
   ]
  },
  {
   "cell_type": "code",
   "execution_count": null,
   "metadata": {},
   "outputs": [],
   "source": [
    "adv_model = lgb.train(params, d_adv,\n",
    "                      num_boost_round=60,\n",
    "                      verbose_eval=10)"
   ]
  },
  {
   "cell_type": "code",
   "execution_count": null,
   "metadata": {},
   "outputs": [],
   "source": [
    "from sklearn.metrics import roc_auc_score"
   ]
  },
  {
   "cell_type": "code",
   "execution_count": null,
   "metadata": {},
   "outputs": [],
   "source": [
    "pred = adv_model.predict(adv_df[good_cols])"
   ]
  },
  {
   "cell_type": "code",
   "execution_count": null,
   "metadata": {},
   "outputs": [],
   "source": [
    "roc_auc_score(adv_df['is_test'], pred)"
   ]
  },
  {
   "cell_type": "code",
   "execution_count": null,
   "metadata": {},
   "outputs": [],
   "source": [
    "['card1', 'card2', 'BrowserVersion', 'V9', 'id_31', 'id_13']\n",
    "baaad = ['id_13_freq', 'D15', 'dist1', 'D11', 'dayofmonth',\n",
    "         'D10', 'BrowserVersion_freq', 'id_31_freq',\n",
    "         'dayofmonth_freq', 'D4', 'C12', 'V326', 'id_38',\n",
    "         'M_na', 'V335', 'id_38_freq', 'V8', 'M9_freq', 'id_01', 'id_34', 'Browser',\n",
    "         'id_34_freq', 'OSMajorVersion', 'OSMajorVersion_freq','card5', 'id_32', 'id_30_freq', 'id_33_freq'] +\\\n",
    "        [f for f in all_df.columns if f.startswith('D') and len(f) <= 3] +\\\n",
    "        [f for f in all_df.columns if f.startswith('V') and len(f) <= 4] +\\\n",
    "        [f for f in all_df.columns if f.startswith('C') and len(f) <= 4] +\\\n",
    "        [f for f in all_df.columns if f.startswith('id_')\n",
    "         or f.startswith('uid') or f.startswith('addr')] +\\\n",
    "        [f for f in all_df.columns if f.startswith('M') and (len(f) <= 4 or f.endswith('freq'))]"
   ]
  },
  {
   "cell_type": "code",
   "execution_count": null,
   "metadata": {},
   "outputs": [],
   "source": [
    "train['id_32'].hist()"
   ]
  },
  {
   "cell_type": "code",
   "execution_count": null,
   "metadata": {},
   "outputs": [],
   "source": [
    "test['id_32'].hist()"
   ]
  },
  {
   "cell_type": "code",
   "execution_count": null,
   "metadata": {},
   "outputs": [],
   "source": [
    "all_df[:len(train)]['V8'].hist()"
   ]
  },
  {
   "cell_type": "code",
   "execution_count": null,
   "metadata": {},
   "outputs": [],
   "source": [
    "all_df[len(train):]['V8'].hist()"
   ]
  },
  {
   "cell_type": "code",
   "execution_count": null,
   "metadata": {},
   "outputs": [],
   "source": [
    "len(good_cols)"
   ]
  },
  {
   "cell_type": "code",
   "execution_count": null,
   "metadata": {},
   "outputs": [],
   "source": [
    "all_df['BrowserVersion'].value_counts()"
   ]
  },
  {
   "cell_type": "code",
   "execution_count": null,
   "metadata": {},
   "outputs": [],
   "source": [
    "%%time\n",
    "sample = adv_df.sample(5000)\n",
    "res = adv_model.predict(sample[good_cols], pred_contrib=True)\n",
    "mean_shap = np.abs(res).mean(axis=0)\n",
    "shap_imp = pd.DataFrame(sorted(zip(mean_shap, good_cols)), columns=['Value','Feature'])\n",
    "plt.figure(figsize=(10, 10))\n",
    "sns.barplot(x=\"Value\", y=\"Feature\", data=shap_imp.sort_values(by=\"Value\", ascending=False)[:60])\n",
    "plt.tight_layout()\n",
    "plt.show()"
   ]
  },
  {
   "cell_type": "code",
   "execution_count": null,
   "metadata": {},
   "outputs": [],
   "source": [
    "from eli5.sklearn import PermutationImportance"
   ]
  },
  {
   "cell_type": "code",
   "execution_count": null,
   "metadata": {},
   "outputs": [],
   "source": [
    "from lightgbm import LGBMClassifier"
   ]
  },
  {
   "cell_type": "code",
   "execution_count": null,
   "metadata": {},
   "outputs": [],
   "source": [
    "lgb_clf = LGBMClassifier(**params)"
   ]
  },
  {
   "cell_type": "code",
   "execution_count": null,
   "metadata": {},
   "outputs": [],
   "source": [
    "%%time\n",
    "lgb_clf.fit(tr[good_cols].fillna(-1), tr['isFraud'], feature_name=good_cols, categorical_feature=good_categotical)"
   ]
  },
  {
   "cell_type": "code",
   "execution_count": null,
   "metadata": {},
   "outputs": [],
   "source": [
    "imp = PermutationImportance(lgb_clf, 'roc_auc', refit=False)"
   ]
  },
  {
   "cell_type": "code",
   "execution_count": null,
   "metadata": {},
   "outputs": [],
   "source": [
    "%%time\n",
    "res = imp.fit(val[good_cols].fillna(-1), val['isFraud'])"
   ]
  },
  {
   "cell_type": "markdown",
   "metadata": {},
   "source": [
    "# PCA"
   ]
  },
  {
   "cell_type": "code",
   "execution_count": null,
   "metadata": {},
   "outputs": [],
   "source": [
    "from sklearn.decomposition import PCA"
   ]
  },
  {
   "cell_type": "code",
   "execution_count": null,
   "metadata": {},
   "outputs": [],
   "source": [
    "C_cols = [col for col in all_df.columns if col.startswith('C') and len(col) < 4]"
   ]
  },
  {
   "cell_type": "code",
   "execution_count": null,
   "metadata": {},
   "outputs": [],
   "source": [
    "C_pca = PCA(n_components=0.99).fit_transform(all_df[C_cols].fillna(0))"
   ]
  },
  {
   "cell_type": "code",
   "execution_count": null,
   "metadata": {
    "scrolled": true
   },
   "outputs": [],
   "source": [
    "C_pca[:, 0].shape"
   ]
  },
  {
   "cell_type": "code",
   "execution_count": null,
   "metadata": {},
   "outputs": [],
   "source": [
    "pca_cols = []\n",
    "for i, col in enumerate([f'C_PCA_{c}' for c in range(C_pca.shape[1])]):\n",
    "    all_df[col] = C_pca[:, i]\n",
    "    pca_cols.append(col)\n",
    "    "
   ]
  },
  {
   "cell_type": "code",
   "execution_count": null,
   "metadata": {},
   "outputs": [],
   "source": [
    "MODEL_FEATURES.update(pca_cols)"
   ]
  },
  {
   "cell_type": "code",
   "execution_count": null,
   "metadata": {},
   "outputs": [],
   "source": [
    "V_cols = [col for col in all_df.columns if col.startswith('V') and len(col) < 5]"
   ]
  },
  {
   "cell_type": "code",
   "execution_count": null,
   "metadata": {},
   "outputs": [],
   "source": [
    "%%time\n",
    "V_pca = PCA(n_components=0.99).fit_transform(all_df[V_cols].fillna(0))"
   ]
  },
  {
   "cell_type": "code",
   "execution_count": null,
   "metadata": {},
   "outputs": [],
   "source": [
    "v_pca_cols = []\n",
    "for i, col in enumerate([f'V_PCA_{c}' for c in range(V_pca.shape[1])]):\n",
    "    all_df[col] = V_pca[:, i]\n",
    "    v_pca_cols.append(col)\n",
    "    "
   ]
  },
  {
   "cell_type": "code",
   "execution_count": null,
   "metadata": {},
   "outputs": [],
   "source": [
    "MODEL_FEATURES.update(v_pca_cols)"
   ]
  },
  {
   "cell_type": "code",
   "execution_count": null,
   "metadata": {},
   "outputs": [],
   "source": [
    "diff_cols = []\n",
    "d_cols = [col for col in all_df.columns if col.startswith('D') and len(col) < 3 and col != 'DT']\n",
    "for col in d_cols:\n",
    "    all_df[col + '_diff'] = all_df[col].diff()\n",
    "    diff_cols.append(col + '_diff')"
   ]
  },
  {
   "cell_type": "code",
   "execution_count": null,
   "metadata": {},
   "outputs": [],
   "source": []
  },
  {
   "cell_type": "code",
   "execution_count": null,
   "metadata": {},
   "outputs": [],
   "source": [
    "g = ['id_33_freq', 'V143', 'id_11', 'id_20_freq', 'V123', 'V323', 'V267', 'uid5_D15_std', 'V269', 'id_24', 'V212', 'V234', 'uid2_D15_std', 'V24', 'V259', 'V316', 'V12', 'V334', 'V115', 'V261', 'V77', 'M6', 'C8', 'V57', 'uid3_D15_std', 'V92', 'id_28', 'V67', 'V34', 'R_emaildomain_2', 'V228', 'C12', 'V4', 'V328', 'V248', 'DeviceType_freq', 'C6', 'V294', 'V106', 'V265', 'id_12_freq', 'V139', 'V250', 'V258', 'V39', 'V18', 'V32', 'V48', 'id_08', 'addr1', 'V80', 'id_02', 'V320', 'M6_freq', 'id_23', 'uid5_TransactionAmt_std', 'OSMajorVersion_freq', 'V111', 'V10', 'P_emaildomain_1_freq', 'V225', 'R_emaildomain_3_freq', 'V199', 'D9', 'V244', 'M7', 'V50', 'OSMajorVersion', 'id_12', 'id_37_freq', 'V313', 'V101', 'id_38', 'V231', 'V216', 'V186', 'V220', 'V293', 'V55', 'uid3_freq', 'V170', 'V84', 'V98', 'V140', 'V256', 'DeviceInfoMajor', 'id_32_freq', 'V181', 'id_25_freq', 'V284', 'V29', 'V58', 'R_emaildomain_1', 'addr2_freq', 'V301', 'id_18', 'dayofmonth_freq', 'V63', 'V298', 'V289', 'V281', 'V255', 'M_na', 'V292', 'M3_freq', 'uid2_D15_mean', 'D12_day_min_max', 'V81', 'V300', 'dayofweek_freq', 'V270', 'uid4_TransactionAmt_std', 'V15', 'V175', 'id_32', 'id_19', 'V69', 'V178', 'V36', 'V260', 'V242', 'D14_day_min_max', 'V251', 'V20', 'DeviceInfo', 'V224', 'V86', 'id_37', 'id_35_freq', 'V156', 'V276', 'V303', 'addr1_freq', 'V253', 'V168', 'V335', 'V132', 'V79', 'V266', 'id_15_freq', 'V208', 'V108', 'V90', 'V185', 'V91', 'decimal_len', 'R_emaildomain_1_freq', 'P_emaildomain_2_freq', 'V133', 'V167', 'C7', 'id_10', 'V271', 'V213', 'V198', 'id_05', 'DeviceInfo_freq', 'V94', 'V126', 'M8_freq', 'V46', 'id_17', 'V155', 'V262', 'id_01', 'V53', 'V273', 'uid4_D15_mean', 'M4', 'V17', 'id_22', 'V286', 'V200', 'V246', 'id_17_freq', 'C10', 'M8', 'id_31_freq', 'V161', 'card5', 'V218', 'V26', 'V162', 'V338', 'V307', 'R_emaildomain', 'V5', 'decimal_value_freq', 'uid3_D15_mean', 'uid5_C13_mean', 'id_16_freq', 'V254', 'is_holiday_freq', 'V183', 'P_emaildomain_2', 'V76', 'P_emaildomain', 'V188', 'V195', 'V124', 'V75', 'dayofmonth', 'V95', 'D6_day_min_max', 'V35', 'V308', 'uid2_unique_amt', 'id_30', 'V336', 'V193', 'R_emaildomain_2_freq', 'V2', 'V127', 'uid4_freq', 'V45', 'V33', 'M1', 'uid2_TransactionAmt_std', 'weekofmonth', 'V73', 'id_28_freq', 'C1', 'V99', 'DeviceInfoTop', 'V243', 'V215', 'V104', 'uid4_C13_mean', 'card4_freq', 'id_34', 'V222', 'dist2', 'V83', 'M9', 'V49', 'OSName_freq', 'M3', 'V169', 'id_30_freq', 'V235', 'V311', 'D7_day_min_max', 'V205', 'V103', 'V209', 'V203', 'id_36', 'V149', 'D11_day_min_max', 'V290', 'V166', 'M9_freq', 'V236', 'V112', 'id_19_freq', 'V116', 'V31', 'id_14', 'V291', 'uid5_TransactionAmt_mean', 'id_38_freq', 'C13', 'V56', 'IsMobile_freq', 'V330', 'V85', 'V128', 'V152', 'id_36_freq', 'V11', 'V22', 'uid1_TransactionAmt_mean', 'V304', 'M5_freq', 'V25', 'V190', 'card4', 'V54', 'V109', 'P_emaildomain_1', 'id_13', 'Browser_freq', 'V43', 'V202', 'is_holiday', 'V174', 'V191', 'V219', 'V277', 'id_20', 'V23', 'id_23_freq', 'V142', 'id_09', 'D4_day_min_max', 'V157', 'V146', 'V275', 'Browser', 'V135', 'id_31', 'V263', 'V9', 'P_emaildomain_freq', 'V221', 'uid1_D15_mean', 'C5', 'V288', 'C3', 'V37', 'V187', 'D3_day_min_max', 'V165', 'V296', 'V72', 'V299', 'card3_freq', 'V147', 'D2_day_min_max', 'V272', 'V171', 'V52', 'V38', 'uid2_freq', 'V138', 'V238', 'ProductCD_freq', 'V110', 'D8_day_min_max', 'card6_freq', 'id_15', 'V264', 'C9', 'V322', 'uid1_freq', 'uid2_C13_mean', 'id_13_freq', 'V283', 'V237', 'V159', 'V227', 'V19', 'V62', 'V130', 'id_06', 'V207', 'R_emaildomain_3', 'uid4_D15_std', 'V47', 'V158', 'V282', 'V180', 'V102', 'V154', 'V206', 'V339', 'uid5_unique_amt', 'V229', 'IsMobile', 'uid4_unique_amt', 'V136', 'V100', 'uid1_C13_std', 'V177', 'V66', 'uid1_unique_amt', 'V201', 'V105', 'TransactionAmt', 'V214', 'id_07', 'V257', 'V332', 'V319', 'M4_freq', 'V114', 'C14', 'V134', 'V249', 'id_14_freq', 'V8', 'V51', 'D13_day_min_max', 'card6', 'V315', 'hour_freq', 'V245', 'V61', 'V268', 'V239', 'DeviceInfoMajor_freq', 'DeviceInfoTop_freq', 'V42', 'V148', 'V297', 'V192', 'dayofweek', 'V247', 'V204', 'id_24_freq', 'C11', 'V196', 'uid5_freq', 'V223', 'uid1_C13_mean', 'card2_freq', 'V78', 'V64', 'V295', 'uid1_D15_std', 'V172', 'V333', 'uid4_TransactionAmt_mean', 'V194', 'id_16', 'V280', 'V232', 'uid3_C13_std', 'V189', 'V324', 'V176', 'V321', 'D10_day_min_max', 'V70', 'V306', 'ProductCD', 'card5_freq', 'V60', 'V164', 'V151', 'V44', 'V337', 'V326', 'V13', 'V331', 'V317', 'V30', 'V278', 'OSName', 'id_34_freq', 'id_03', 'card1_freq', 'V7', 'V121', 'uid3_TransactionAmt_mean', 'V71', 'V226', 'M2', 'V302', 'uid3_unique_amt', 'card3', 'V217', 'V150', 'V96', 'V40', 'C2', 'weekofmonth_freq', 'V184', 'C4', 'M5', 'V145', 'V309', 'V173', 'uid5_D15_mean', 'V137', 'V210', 'decimal_value', 'uid5_C13_std', 'V182', 'V87', 'D1_day_min_max', 'V125', 'V252', 'V287', 'V160', 'D15_day_min_max', 'V211', 'V310', 'uid2_C13_std', 'id_26_freq', 'M7_freq', 'V163', 'V312', 'uid1_TransactionAmt_std', 'V131', 'V329', 'R_emaildomain_freq', 'uid2_TransactionAmt_mean', 'V285', 'V274', 'V129', 'V230', 'V74', 'uid4_C13_std', 'V279', 'V3', 'V59', 'dist1', 'uid3_C13_mean', 'V82', 'uid3_TransactionAmt_std', 'V233', 'id_33', 'V144', 'M2_freq', 'V197', 'id_18_freq', 'V153', 'V6', 'V314', 'V97', 'V318', 'V179', 'id_04', 'id_21_freq', 'D5_day_min_max', 'DeviceType', 'V93']"
   ]
  },
  {
   "cell_type": "code",
   "execution_count": null,
   "metadata": {},
   "outputs": [],
   "source": [
    "len(g)"
   ]
  },
  {
   "cell_type": "code",
   "execution_count": null,
   "metadata": {},
   "outputs": [],
   "source": []
  }
 ],
 "metadata": {
  "kernelspec": {
   "display_name": "Python [conda env:experiments]",
   "language": "python",
   "name": "conda-env-experiments-py"
  },
  "language_info": {
   "codemirror_mode": {
    "name": "ipython",
    "version": 3
   },
   "file_extension": ".py",
   "mimetype": "text/x-python",
   "name": "python",
   "nbconvert_exporter": "python",
   "pygments_lexer": "ipython3",
   "version": "3.7.4"
  }
 },
 "nbformat": 4,
 "nbformat_minor": 2
}
