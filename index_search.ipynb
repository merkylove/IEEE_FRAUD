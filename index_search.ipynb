{
 "cells": [
  {
   "cell_type": "code",
   "execution_count": 1,
   "metadata": {},
   "outputs": [],
   "source": [
    "import pandas as pd"
   ]
  },
  {
   "cell_type": "code",
   "execution_count": 2,
   "metadata": {},
   "outputs": [
    {
     "name": "stdout",
     "output_type": "stream",
     "text": [
      "CPU times: user 1.05 s, sys: 2.05 s, total: 3.1 s\n",
      "Wall time: 3.12 s\n"
     ]
    }
   ],
   "source": [
    "%%time\n",
    "folder_path = 'data/'\n",
    "train = pd.read_pickle(f'{folder_path}train.pkl')"
   ]
  },
  {
   "cell_type": "code",
   "execution_count": 3,
   "metadata": {},
   "outputs": [],
   "source": [
    "test = pd.read_pickle(f'{folder_path}test.pkl')"
   ]
  },
  {
   "cell_type": "code",
   "execution_count": 5,
   "metadata": {},
   "outputs": [],
   "source": [
    "import datetime"
   ]
  },
  {
   "cell_type": "code",
   "execution_count": 6,
   "metadata": {},
   "outputs": [],
   "source": [
    "START_DATE = datetime.datetime.strptime('2017-11-30', '%Y-%m-%d')\n",
    "train['TransactionDT'] = train['TransactionDT'].apply(lambda x: (START_DATE + datetime.timedelta(seconds = x)))\n",
    "test['TransactionDT'] = test['TransactionDT'].apply(lambda x: (START_DATE + datetime.timedelta(seconds = x)))"
   ]
  },
  {
   "cell_type": "code",
   "execution_count": 7,
   "metadata": {},
   "outputs": [],
   "source": [
    "\n",
    "def make_subcard(df):\n",
    "    # account1 reg date magic feature\n",
    "    df['card_registered_delta_tmp'] = pd.to_timedelta(df['D1'], unit='day')\n",
    "    df['subcard_reg_date'] = (\n",
    "            train['TransactionDT'] - df['card_registered_delta_tmp']\n",
    "    )\n",
    "    df['subcard_reg_timestamp'] = df['subcard_reg_date']\\\n",
    "        .dt\\\n",
    "        .date\\\n",
    "        .apply(\n",
    "        lambda x: (\n",
    "                x - datetime.date(1970, 1, 1)\n",
    "        ).total_seconds()\n",
    "    )\n",
    "\n",
    "    df['subcard'] = df['card1'].astype(str) + '_' + df['subcard_reg_date'].dt \\\n",
    "        .date \\\n",
    "        .astype(str)# + '_' + df['ProductCD']"
   ]
  },
  {
   "cell_type": "code",
   "execution_count": 8,
   "metadata": {},
   "outputs": [],
   "source": [
    "make_subcard(train)\n",
    "make_subcard(test)"
   ]
  },
  {
   "cell_type": "code",
   "execution_count": 25,
   "metadata": {},
   "outputs": [],
   "source": [
    "def count_full_fraud_subcard(group):\n",
    "    fraud = train.groupby(['subcard'] + list(group))['isFraud'].agg(['mean', 'count'])\n",
    "    return (fraud[fraud['mean'] == 1]['count']).sum()"
   ]
  },
  {
   "cell_type": "code",
   "execution_count": 26,
   "metadata": {},
   "outputs": [],
   "source": [
    "categorical =  set(['id_12', 'id_13', 'id_14', 'id_15', 'id_16', 'id_17', 'id_18', 'id_19',\n",
    "            'id_20', 'id_21', 'id_22', 'id_23', 'id_24', 'id_25', 'id_26', 'id_27', 'id_28', 'id_29',\n",
    "            'id_30', 'id_31', 'id_32', 'id_33', 'id_34', 'id_35', 'id_36', 'id_37',\n",
    "            'id_38', 'DeviceType', 'DeviceInfo', 'ProductCD', 'card4', 'card6', 'M4','P_emaildomain',\n",
    "            'R_emaildomain', 'card2', 'card3',  'card5', 'addr1', 'addr2', \n",
    "            'M1', 'M2', 'M3', 'M5', 'M6', 'M7', 'M8', 'M9'])"
   ]
  },
  {
   "cell_type": "code",
   "execution_count": 53,
   "metadata": {},
   "outputs": [
    {
     "data": {
      "text/plain": [
       "chrome 63.0              22000\n",
       "mobile safari 11.0       13423\n",
       "mobile safari generic    11474\n",
       "ie 11.0 for desktop       9030\n",
       "safari generic            8195\n",
       "                         ...  \n",
       "chrome 69.0                  1\n",
       "Nokia/Lumia                  1\n",
       "Cherry                       1\n",
       "Samsung/SCH                  1\n",
       "firefox mobile 61.0          1\n",
       "Name: id_31, Length: 130, dtype: int64"
      ]
     },
     "execution_count": 53,
     "metadata": {},
     "output_type": "execute_result"
    }
   ],
   "source": [
    "train['id_31'].value_counts()"
   ]
  },
  {
   "cell_type": "code",
   "execution_count": 52,
   "metadata": {},
   "outputs": [
    {
     "data": {
      "text/plain": [
       "['addr1',\n",
       " 'DeviceInfo',\n",
       " 'P_emaildomain',\n",
       " 'ProductCD',\n",
       " 'id_20',\n",
       " 'id_19',\n",
       " 'card4']"
      ]
     },
     "execution_count": 52,
     "metadata": {},
     "output_type": "execute_result"
    }
   ],
   "source": [
    "['addr1', 'DeviceInfo', 'P_emaildomain', 'ProductCD', 'id_20', 'id_19', 'id_31', 'card4']"
   ]
  },
  {
   "cell_type": "code",
   "execution_count": 31,
   "metadata": {},
   "outputs": [
    {
     "name": "stdout",
     "output_type": "stream",
     "text": [
      "('id_33',) 3080\n",
      "('DeviceType',) 5904\n",
      "('id_34',) 2523\n",
      "('id_30',) 3116\n",
      "('M4',) 7650\n",
      "('id_22',) 405\n",
      "('id_28',) 5936\n",
      "('ProductCD',) 9450\n",
      "('M6',) 4641\n",
      "('id_16',) 5709\n",
      "('M1',) 3015\n",
      "('P_emaildomain',) 10359\n",
      "('id_23',) 413\n",
      "('id_12',) 5037\n",
      "('id_24',) 392\n",
      "('id_31',) 8428\n",
      "('id_35',) 5104\n",
      "('M3',) 3468\n",
      "('id_27',) 405\n",
      "('id_19',) 8537\n",
      "('id_32',) 2557\n",
      "('M9',) 2732\n",
      "('id_29',) 5938\n",
      "('card2',) 7807\n",
      "('card3',) 7782\n",
      "('card6',) 7784\n",
      "('id_21',) 415\n",
      "('id_26',) 417\n",
      "('id_14',) 2743\n",
      "('card5',) 7779\n",
      "('M2',) 3352\n",
      "('M7',) 2590\n",
      "('id_18',) 2824\n",
      "('id_15',) 6315\n",
      "('addr1',) 9420\n",
      "('M5',) 4534\n",
      "('R_emaildomain',) 6713\n",
      "('addr2',) 5582\n",
      "('id_20',) 8270\n",
      "('card4',) 7779\n",
      "('id_25',) 406\n",
      "('DeviceInfo',) 7055\n",
      "('id_13',) 6232\n",
      "('M8',) 2721\n",
      "('id_36',) 4927\n",
      "('id_37',) 5458\n",
      "('id_17',) 5031\n",
      "('id_38',) 5224\n"
     ]
    }
   ],
   "source": [
    "mean_tops = {}\n",
    "for group in combinations(categorical, 1):\n",
    "    cnt = count_full_fraud_subcard(group)\n",
    "    print(group, cnt)\n",
    "    mean_tops[group] = cnt"
   ]
  },
  {
   "cell_type": "code",
   "execution_count": null,
   "metadata": {},
   "outputs": [],
   "source": [
    "def part_of_day(hour):\n",
    "    if 0 <= hour <6:\n",
    "        return 'night'\n",
    "    elif 6 <= hour < 12:\n",
    "        return 'morning'\n",
    "    elif 12 <= hour < 18:\n",
    "        return 'day'\n",
    "    else:\n",
    "        return 'evening'"
   ]
  },
  {
   "cell_type": "code",
   "execution_count": null,
   "metadata": {
    "scrolled": false
   },
   "outputs": [],
   "source": [
    "search_df[search_df['subcard'] == '1078_2017-12-18']"
   ]
  },
  {
   "cell_type": "markdown",
   "metadata": {},
   "source": [
    "D1: timedelta (days, rounded down) since first transaction for one card. You can see accounts with 2 cards (husband and wife using one card each from a joint account?) where there are two D1 = 0 within a few days of each other, and subsequently D1 provides a timedelta from one or other of those D = 0 transactions depending on which of the two cards was used. NaN sometimes (but rarely) appears in the D1 column, and it's not clear what that means, but I expect it means it was not the first transaction from that card, but they had no information on the date of the first one.\n",
    "\n",
    "D1 = 0 for most isFraud=1 transactions. Presumably this is due to a new card getting intercepted in the post, or a fraudster managing to request a card i somebody else's name.\n",
    "\n",
    "D2: this appears to be the same as D1, except D1 = 0 values have been replaced by NaN.\n",
    "\n",
    "D3: timedelta since the previous transaction for one card. As with D1 and D2, the this feature appears to count different cards separately.\n",
    "\n",
    "D4: timedelta since first transaction for all cards on the account. Using the example of a husband and wife each using their own card on a joint credit card account, this feature would not distinguish between which card was used.\n",
    "\n",
    "D5: timedelta since the previous transaction for all cards on the account.\n",
    "\n",
    "D6 and D7: some variant of D4 and D5, but the algorithm to produce them is still not clear (to me!). In some cases D6 = D4 and D5 = D7, but in other cases D6 and D7 are simply NaN. In any case, dropping features D6 and D7 reduces the ROC AUC score (using XGBoost) so there is clearly some useful additional information herein.\n",
    "\n",
    "D8: timedelta (float) since some event. In some simple cases, the integer part of D8 is equal to D4, in other cases it is larger than D4 (or NaN). My best guess is this is the timedelta since the card was issued or activated. Obvious 'his and hers' joint credit card accounts have different D8 values for their respective cards, so the time reference cannot be when the account was opened. You can also find joint credit card accounts where, after a long time of inactivity, both cards resurface with D1=0 on the same day, and with a the time reference used in D8 now later than that used in the previous transactions.\n",
    "\n",
    "D9 is simply D8 minus its integer part. The presence of this feature gives us a clue about what D8 means. My best guess is that D9 indicates the difference between the time of day when the card was issue/activated (?) and when it was used in the transaction. I.e., if the card was activated at 9 AM, and a transaction is then made at 9 PM, you will get D9 = 0.5 since the time of day is shifted by half a day. This feature might be useful to detect fraud committed when the cardholder and fraudster are in very different time-zones.\n",
    "\n",
    "D10: to be completed later (I don't know). Values: 0, 1 or NaN\n",
    "\n",
    "D11: to be completed later (I don't know). Some kind of timedelta. I don't find this feature useful for my XGBoost models. Removing the D11 feature gives me a slight increase (+0.004) in my CV and LB scores.\n",
    "\n",
    "D12-D15: to be completed later (I don't know). D12, D13, D15 appear to be variants of D4."
   ]
  },
  {
   "cell_type": "code",
   "execution_count": null,
   "metadata": {},
   "outputs": [],
   "source": []
  }
 ],
 "metadata": {
  "kernelspec": {
   "display_name": "FRAUD",
   "language": "python",
   "name": "fraud"
  },
  "language_info": {
   "codemirror_mode": {
    "name": "ipython",
    "version": 3
   },
   "file_extension": ".py",
   "mimetype": "text/x-python",
   "name": "python",
   "nbconvert_exporter": "python",
   "pygments_lexer": "ipython3",
   "version": "3.7.4"
  }
 },
 "nbformat": 4,
 "nbformat_minor": 2
}
